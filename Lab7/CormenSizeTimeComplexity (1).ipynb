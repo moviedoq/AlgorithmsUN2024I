{
  "nbformat": 4,
  "nbformat_minor": 0,
  "metadata": {
    "colab": {
      "provenance": []
    },
    "kernelspec": {
      "name": "python3",
      "display_name": "Python 3"
    },
    "language_info": {
      "name": "python"
    }
  },
  "cells": [
    {
      "cell_type": "markdown",
      "metadata": {
        "id": "I5UAAxG2_CqQ"
      },
      "source": [
        "# 0.(1 microsecond by instruction)\n",
        "Asuuming that you can execute a million instructions $10^6$ every second, i.e. each instruction takes one microsecond $1\\mu s=10^{-6}$ seconds. If you have algorithms take $\\bf{ Time\\ Complexity}$ steps to solve a problem of size $n$ as specified in column one. What is the size of the largest problem that you can solve in the time specified in row one?\n",
        "\n",
        "\n",
        "\\begin{array}{|c|c|c|c|c|c|c|c|}\n",
        " \\hline\n",
        " \\textbf{Time Complexity} & \\textbf{Second} & \\textbf{Minute} & \\textbf{Hour} & \\textbf{Day} & \\textbf{Year} & \\textbf{Century} & \\textbf{Millennium} \\\\\n",
        " \\hline\n",
        " \\lg(n) & 2^{10^6} & 2^{6 \\times 10^7} & 2^{3.6 \\times 10^9} & 2^{8.64 \\times 10^{10}} & 2^{3.1536 \\times 10^{13}} & 2^{3.1536 \\times 10^{15}} & 2^{3.1536 \\times 10^{18}} \\\\\n",
        " \\hline\n",
        " \\lg^2(n) & 2^{1000} \\approx 10^{301} & 2^{7745} \\approx 10^{2332} & 2^{18973} \\approx 10^{5712} & 2^{29377} \\approx 10^{8842} & 2^{56158} \\approx 10^{16911} & 2^{561581} \\approx 10^{169118} & 2^{5615811} \\approx 10^{1691182} \\\\\n",
        " \\hline\n",
        " \\sqrt{n} & 10^{12} & 3.6 \\times 10^{15} & 1.296 \\times 10^{19} & 7.46 \\times 10^{21} & 9.94 \\times 10^{26} & 9.94 \\times 10^{31} & 9.94 \\times 10^{36} \\\\\n",
        " \\hline\n",
        " n & 10^6 & 6 \\times 10^7 & 3.6 \\times 10^9 & 8.64 \\times 10^{10} & 3.1536 \\times 10^{13} & 3.1536 \\times 10^{15} & 3.1536 \\times 10^{18} \\\\\n",
        " \\hline\n",
        " n \\lg(n) & \\approx 1.44 \\times 10^4 & \\approx 3 \\times 10^6 & \\approx 1.05 \\times 10^8 & \\approx 1.2 \\times 10^9 & \\approx 6.52 \\times 10^{10} & \\approx 6.54 \\times 10^{12} & \\approx 6.54 \\times 10^{15} \\\\\n",
        " \\hline\n",
        " n^2 & 10^3 & 7.75 \\times 10^3 & 1.9 \\times 10^5 & 2.94 \\times 10^6 & 5.62 \\times 10^6 & 5.62 \\times 10^7 & 5.62 \\times 10^8 \\\\\n",
        " \\hline\n",
        " n^3 & 10^2 & 391 & 1530 & 4433 & 14634 & 177827 & 1.44 \\times 10^6 \\\\\n",
        " \\hline\n",
        " n^4 & 31.62 & 178 & 565 & 1443 & 5623 & 17782 & 31622 \\\\\n",
        " \\hline\n",
        " 2^n & 19.93 & 25.87 & 31.7 & 36.7 & 41.5 & 46.0 & 49.85 \\\\\n",
        " \\hline\n",
        " n! & \\approx 9 & \\approx 10 & \\approx 12 & \\approx 14 & \\approx 16 & \\approx 19 & 22 \\\\\n",
        " \\hline\n",
        " n^n & \\approx 5 & \\approx 6 & \\approx 7 & \\approx 8 & \\approx 9 & \\approx 10 & \\approx 11 \\\\\n",
        " \\hline\n",
        "\\end{array}\n",
        "\n"
      ]
    },
    {
      "cell_type": "markdown",
      "metadata": {
        "id": "yCCsCOW2OQbQ"
      },
      "source": [
        "# 1.(10  nanoseconds by instruction)\n",
        "\n",
        "Asuuming that you can execute a 100 million instructions $100 \\times 10^6$ every second, i.e. each instrcution takes 10 nanoseconds, 10 $\\eta s  = 10^{-8} s $. If you have algorithms take $\\bf{ Time\\ Complexity}$ steps to solve a poblem of size $n$ as specified in column one. What is the size of the largest porblem that you can solve in the time specified in row one?\n",
        "$$\n",
        "\\begin{array}{|c|c|c|c|c|c|c|c|}\n",
        " \\hline\n",
        " \\bf{ Time\\ Complexity} & \\bf{Second} & \\bf{Minute} & \\bf{Hour} & \\bf{Day} & \\bf{Year} & \\bf{Century} & \\bf{Millennium} \\\\\n",
        " \\hline\n",
        " \\lg(n) & 10^{10} & 6 \\times 10^{11} & 3.6 \\times 10^{13} & 8.64 \\times 10^{14} & 3.1536 \\times 10^{17} & 3.1536 \\times 10^{19} & 3.1536 \\times 10^{22} \\\\\n",
        " \\hline\n",
        " \\lg^2(n) & 10^5 & 7.746 \\times 10^5 & 6 \\times 10^6 & 2.94 \\times 10^7 & 5.615 \\times 10^8 & 5.615 \\times 10^9 & 5.615 \\times 10^{10} \\\\\n",
        " \\hline\n",
        " \\sqrt{n} & 10^{16} & 3.6 \\times 10^{18} & 1.296 \\times 10^{21} & 7.46496 \\times 10^{23} & 9.95 \\times 10^{27} & 9.95 \\times 10^{31} & 9.95 \\times 10^{35} \\\\\n",
        " \\hline\n",
        " n & 10^8 & 6 \\times 10^9 & 3.6 \\times 10^{11} & 8.64 \\times 10^{12} & 3.1536 \\times 10^{15} & 3.1536 \\times 10^{17} & 3.1536 \\times 10^{20} \\\\\n",
        " \\hline\n",
        " n \\lg(n) & 1.43 \\times 10^7 & 4.46 \\times 10^8 & 1.29 \\times 10^{10} & 2.59 \\times 10^{11} & 8.83 \\times 10^{13} & 8.83 \\times 10^{15} & 8.83 \\times 10^{18} \\\\\n",
        " \\hline\n",
        " n^2 & 10^4 & 7.75 \\times 10^4 & 6 \\times 10^5 & 9.3 \\times 10^6 & 5.615 \\times 10^7 & 5.615 \\times 10^8 & 5.615 \\times 10^9 \\\\\n",
        " \\hline\n",
        " n^3 & 464 & 1817 & 15353 & 20953 & 146970 & 1469703 & 14697030 \\\\\n",
        " \\hline\n",
        " n^4 & 178 & 442 & 873 & 2735 & 18708 & 187084 & 1870841 \\\\\n",
        " \\hline\n",
        " 2^n & 26 & 31 & 38 & 45 & 58 & 66 & 76 \\\\\n",
        " \\hline\n",
        " n! & 11 & 13 & 15 & 17 & 20 & 24 & 27 \\\\\n",
        " \\hline\n",
        " n^n & 6 & 7 & 8 & 9 & 10 & 12 & 14 \\\\\n",
        " \\hline\n",
        "\\end{array}\n",
        "$$"
      ]
    },
    {
      "cell_type": "markdown",
      "metadata": {
        "id": "9fIs_70_DJWM"
      },
      "source": [
        "# 2.(2.5  nanoseconds by instruction)\n",
        "\n",
        "Asuuming that you can execute a 400 million instructions $400 \\times 10^6$ every second, i.e. each instrcution takes 2.5  nanoseconds, 2.5 $\\eta s  = 2.5 \\times 10^{-9} s$. If you have algorithms take $\\bf{ Time\\ Complexity}$ steps to solve a problem of size $n$ as specified in column one. What is the size of the largest problem that you can solve in the time specified in row one?\n",
        "$$\n",
        "\\begin{array}{|c|c|c|c|c|c|c|c|}\n",
        " \\hline\n",
        " \\bf{Time\\ Complexity} & \\bf{Second} & \\bf{Minute} & \\bf{Hour} & \\bf{Day} & \\bf{Year} & \\bf{Century} & \\bf{Millennium} \\\\\n",
        " \\hline\n",
        " \\lg(n) & 4 \\times 10^{10} & 2.4 \\times 10^{12} & 8.64 \\times 10^{13} & 2.0736 \\times 10^{15} & 7.8844 \\times 10^{17} & 7.8844 \\times 10^{19} & 7.8844 \\times 10^{22} \\\\\n",
        " \\hline\n",
        " \\lg^2(n) & 2 \\times 10^5 & 1.549 \\times 10^6 & 9.3 \\times 10^6 & 4.55 \\times 10^7 & 8.88 \\times 10^8 & 8.88 \\times 10^9 & 8.88 \\times 10^{10} \\\\\n",
        " \\hline\n",
        " \\sqrt{n} & 1.6 \\times 10^{17} & 5.76 \\times 10^{19} & 2.9856 \\times 10^{22} & 1.7235 \\times 10^{25} & 3.1148 \\times 10^{29} & 3.1148 \\times 10^{33} & 3.1148 \\times 10^{37} \\\\\n",
        " \\hline\n",
        " n & 4 \\times 10^8 & 2.4 \\times 10^{10} & 8.64 \\times 10^{11} & 2.0736 \\times 10^{13} & 7.8844 \\times 10^{15} & 7.8844 \\times 10^{17} & 7.8844 \\times 10^{20} \\\\\n",
        " \\hline\n",
        " n \\lg(n) & 5.73 \\times 10^7 & 1.49 \\times 10^9 & 4.94 \\times 10^{10} & 1.38 \\times 10^{12} & 4.57 \\times 10^{14} & 4.57 \\times 10^{16} & 4.57 \\times 10^{19} \\\\\n",
        " \\hline\n",
        " n^2 & 2 \\times 10^4 & 1.549 \\times 10^5 & 9.3 \\times 10^5 & 4.55 \\times 10^6 & 8.88 \\times 10^7 & 8.88 \\times 10^8 & 8.88 \\times 10^9 \\\\\n",
        " \\hline\n",
        " n^3 & 736 & 3605 & 2074 & 2735 & 2010 & 20103 & 201029 \\\\\n",
        " \\hline\n",
        " n^4 & 316 & 1055 & 2074 & 2735 & 20098 & 200985 & 2009848 \\\\\n",
        " \\hline\n",
        " 2^n & 31 & 38 & 45 & 50 & 62 & 70 & 79 \\\\\n",
        " \\hline\n",
        " n! & 13 & 16 & 18 & 20 & 24 & 27 & 30 \\\\\n",
        " \\hline\n",
        " n^n & 7 & 8 & 9 & 10 & 11 & 13 & 15 \\\\\n",
        " \\hline\n",
        "\\end{array}\n",
        "$$"
      ]
    },
    {
      "cell_type": "markdown",
      "metadata": {
        "id": "kwpTH36ZIyQJ"
      },
      "source": [
        "# 3. (1 noneosecond by instruction)\n",
        "\n",
        "Asuuming that you can execute a 1000 million instructions $10^9$ every second, i.e. each instrcution takes 1  nanosecond, 1 $\\eta s  = 10^{-9} s$. If you have algorithms take $\\bf{ Time\\ Complexity}$ steps to solve a problem of size $n$ as specified in column one. What is the size of the largest problem that you can solve in the time specified in row one?\n",
        "$$\n",
        "\\begin{array}{|c|c|c|c|c|c|c|c|}\n",
        " \\hline\n",
        " \\textbf{Time Complexity} & \\textbf{Second} & \\textbf{Minute} & \\textbf{Hour} & \\textbf{Day} & \\textbf{Year} & \\textbf{Century} & \\textbf{Millennium} \\\\\n",
        "  \\hline\n",
        " \\lg(n) & 2^{10^9} & 2^{6 \\times 10^{10}} & 2^{3.6 \\times 10^{12}} & 2^{8.64 \\times 10^{13}} & 2^{3.1536 \\times 10^{16}} & 2^{3.1536 \\times 10^{18}} & 2^{3.1536 \\times 10^{21}} \\\\\n",
        "  \\hline\n",
        " \\lg^2(n) & 2^{10^9/2} & 2^{6 \\times 10^{10}/2} & 2^{3.6 \\times 10^{12}/2} & 2^{8.64 \\times 10^{13}/2} & 2^{3.1536 \\times 10^{16}/2} & 2^{3.1536 \\times 10^{18}/2} & 2^{3.1536 \\times 10^{21}/2} \\\\\n",
        "  \\hline\n",
        " \\sqrt{n} & (10^9)^2 & (6 \\times 10^{10})^2 & (3.6 \\times 10^{12})^2 & (8.64 \\times 10^{13})^2 & (3.1536 \\times 10^{16})^2 & (3.1536 \\times 10^{18})^2 & (3.1536 \\times 10^{21})^2 \\\\\n",
        "  \\hline\n",
        " n & 10^9 & 6 \\times 10^{10} & 3.6 \\times 10^{12} & 8.64 \\times 10^{13} & 3.1536 \\times 10^{16} & 3.1536 \\times 10^{18} & 3.1536 \\times 10^{21} \\\\\n",
        "  \\hline\n",
        " n\\lg(n) & \\approx 1.44 \\times 10^7 & \\approx 3.87 \\times 10^8 & \\approx 5.24 \\times 10^9 & \\approx 1.04 \\times 10^{11} & \\approx 9.8 \\times 10^{12} & \\approx 1.49 \\times 10^{15} & \\approx 2.23 \\times 10^{17} \\\\\n",
        "  \\hline\n",
        " n^2 & 3.16 \\times 10^4 & 7.75 \\times 10^5 & 1.9 \\times 10^6 & 2.94 \\times 10^7 & 5.61 \\times 10^8 & 5.61 \\times 10^9 & 5.61 \\times 10^{10} \\\\\n",
        "  \\hline\n",
        " n^3 & 10^3 & 3.9 \\times 10^4 & 1.53 \\times 10^6 & 4.43 \\times 10^6 & 1.44 \\times 10^7 & 1.44 \\times 10^8 & 1.44 \\times 10^9 \\\\\n",
        "  \\hline\n",
        " n^4 & 3.16 \\times 10^2 & 1.78 \\times 10^4 & 4.26 \\times 10^5 & 1.56 \\times 10^6 & 5.62 \\times 10^6 & 5.62 \\times 10^7 & 5.62 \\times 10^8 \\\\\n",
        "  \\hline\n",
        " 2^n & 30 & 39 & 43 & 46 & 55 & 60 & 66 \\\\\n",
        "  \\hline\n",
        " n! & 12 & 15 & 16 & 17 & 20 & 22 & 24 \\\\\n",
        "  \\hline\n",
        " n^n & 5 & 6 & 7 & 7 & 8 & 9 & 9 \\\\\n",
        "  \\hline\n",
        "\\end{array}\n",
        "$$"
      ]
    }
  ]
}