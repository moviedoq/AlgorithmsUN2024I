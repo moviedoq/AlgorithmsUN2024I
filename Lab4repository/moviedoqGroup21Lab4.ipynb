{
  "cells": [
    {
      "cell_type": "markdown",
      "metadata": {
        "id": "view-in-github",
        "colab_type": "text"
      },
      "source": [
        "<a href=\"https://colab.research.google.com/github/mfvalle/AlgorithmsUN2024I/blob/main/LAB4/mvalleGroup21Lab4.ipynb\" target=\"_parent\"><img src=\"https://colab.research.google.com/assets/colab-badge.svg\" alt=\"Open In Colab\"/></a>"
      ]
    },
    {
      "cell_type": "code",
      "execution_count": null,
      "metadata": {
        "id": "im-VVd1__7VU",
        "colab": {
          "base_uri": "https://localhost:8080/"
        },
        "outputId": "d02bf0e7-7c8d-4bf8-88fe-fba20c61fc5d"
      },
      "outputs": [
        {
          "output_type": "stream",
          "name": "stdout",
          "text": [
            "processor\t: 0\n",
            "vendor_id\t: GenuineIntel\n",
            "cpu family\t: 6\n",
            "model\t\t: 79\n",
            "model name\t: Intel(R) Xeon(R) CPU @ 2.20GHz\n",
            "stepping\t: 0\n",
            "microcode\t: 0xffffffff\n",
            "cpu MHz\t\t: 2199.998\n",
            "cache size\t: 56320 KB\n",
            "physical id\t: 0\n",
            "siblings\t: 2\n",
            "core id\t\t: 0\n",
            "cpu cores\t: 1\n",
            "apicid\t\t: 0\n",
            "initial apicid\t: 0\n",
            "fpu\t\t: yes\n",
            "fpu_exception\t: yes\n",
            "cpuid level\t: 13\n",
            "wp\t\t: yes\n",
            "flags\t\t: fpu vme de pse tsc msr pae mce cx8 apic sep mtrr pge mca cmov pat pse36 clflush mmx fxsr sse sse2 ss ht syscall nx pdpe1gb rdtscp lm constant_tsc rep_good nopl xtopology nonstop_tsc cpuid tsc_known_freq pni pclmulqdq ssse3 fma cx16 pcid sse4_1 sse4_2 x2apic movbe popcnt aes xsave avx f16c rdrand hypervisor lahf_lm abm 3dnowprefetch invpcid_single ssbd ibrs ibpb stibp fsgsbase tsc_adjust bmi1 hle avx2 smep bmi2 erms invpcid rtm rdseed adx smap xsaveopt arat md_clear arch_capabilities\n",
            "bugs\t\t: cpu_meltdown spectre_v1 spectre_v2 spec_store_bypass l1tf mds swapgs taa mmio_stale_data retbleed\n",
            "bogomips\t: 4399.99\n",
            "clflush size\t: 64\n",
            "cache_alignment\t: 64\n",
            "address sizes\t: 46 bits physical, 48 bits virtual\n",
            "power management:\n",
            "\n",
            "processor\t: 1\n",
            "vendor_id\t: GenuineIntel\n",
            "cpu family\t: 6\n",
            "model\t\t: 79\n",
            "model name\t: Intel(R) Xeon(R) CPU @ 2.20GHz\n",
            "stepping\t: 0\n",
            "microcode\t: 0xffffffff\n",
            "cpu MHz\t\t: 2199.998\n",
            "cache size\t: 56320 KB\n",
            "physical id\t: 0\n",
            "siblings\t: 2\n",
            "core id\t\t: 0\n",
            "cpu cores\t: 1\n",
            "apicid\t\t: 1\n",
            "initial apicid\t: 1\n",
            "fpu\t\t: yes\n",
            "fpu_exception\t: yes\n",
            "cpuid level\t: 13\n",
            "wp\t\t: yes\n",
            "flags\t\t: fpu vme de pse tsc msr pae mce cx8 apic sep mtrr pge mca cmov pat pse36 clflush mmx fxsr sse sse2 ss ht syscall nx pdpe1gb rdtscp lm constant_tsc rep_good nopl xtopology nonstop_tsc cpuid tsc_known_freq pni pclmulqdq ssse3 fma cx16 pcid sse4_1 sse4_2 x2apic movbe popcnt aes xsave avx f16c rdrand hypervisor lahf_lm abm 3dnowprefetch invpcid_single ssbd ibrs ibpb stibp fsgsbase tsc_adjust bmi1 hle avx2 smep bmi2 erms invpcid rtm rdseed adx smap xsaveopt arat md_clear arch_capabilities\n",
            "bugs\t\t: cpu_meltdown spectre_v1 spectre_v2 spec_store_bypass l1tf mds swapgs taa mmio_stale_data retbleed\n",
            "bogomips\t: 4399.99\n",
            "clflush size\t: 64\n",
            "cache_alignment\t: 64\n",
            "address sizes\t: 46 bits physical, 48 bits virtual\n",
            "power management:\n",
            "\n"
          ]
        }
      ],
      "source": [
        "!cat /proc/cpuinfo"
      ]
    },
    {
      "cell_type": "markdown",
      "metadata": {
        "id": "N1ok_-56OjB1"
      },
      "source": [
        "# I Solving the Sum of Two Digits Programming Challenge"
      ]
    },
    {
      "cell_type": "markdown",
      "metadata": {
        "id": "MMY7kmDSO0KM"
      },
      "source": [
        "## C++"
      ]
    },
    {
      "cell_type": "code",
      "execution_count": 5,
      "metadata": {
        "colab": {
          "base_uri": "https://localhost:8080/"
        },
        "id": "2pGGf9BkPNIk",
        "outputId": "605943e7-784f-488d-f4fa-147030edf183"
      },
      "outputs": [
        {
          "output_type": "stream",
          "name": "stdout",
          "text": [
            "Writing APlusB.cpp\n"
          ]
        }
      ],
      "source": [
        "%%writefile APlusB.cpp\n",
        "#include <iostream>\n",
        "\n",
        "int sum_of_two_digits(int first_digit, int second_digit) {\n",
        "    return first_digit + second_digit;\n",
        "}\n",
        "\n",
        "int main() {\n",
        "    int a = 0;\n",
        "    int b = 0;\n",
        "    std::cin >> a;\n",
        "    std::cin >> b;\n",
        "    std::cout << sum_of_two_digits(a, b);\n",
        "    return 0;\n",
        "}"
      ]
    },
    {
      "cell_type": "code",
      "execution_count": 6,
      "metadata": {
        "colab": {
          "base_uri": "https://localhost:8080/"
        },
        "id": "0G3ZKOYAPXSU",
        "outputId": "84b6b28b-3d56-4887-84f5-c63ae4d1c0f4"
      },
      "outputs": [
        {
          "output_type": "stream",
          "name": "stdout",
          "text": [
            "4 8\n",
            "12"
          ]
        }
      ],
      "source": [
        "!g++ APlusB.cpp -o APlusB -std=c++11\n",
        "!./APlusB"
      ]
    },
    {
      "cell_type": "markdown",
      "metadata": {
        "id": "iNkG2HqfTl9c"
      },
      "source": [
        "### Test input output files"
      ]
    },
    {
      "cell_type": "code",
      "execution_count": 7,
      "metadata": {
        "colab": {
          "base_uri": "https://localhost:8080/"
        },
        "id": "aTzU2efzMxly",
        "outputId": "0fc20d74-e6b3-42fc-c82b-1711daecb268"
      },
      "outputs": [
        {
          "output_type": "stream",
          "name": "stdout",
          "text": [
            "Writing input1.txt\n"
          ]
        }
      ],
      "source": [
        "%%writefile input1.txt\n",
        "4 8"
      ]
    },
    {
      "cell_type": "code",
      "execution_count": 8,
      "metadata": {
        "colab": {
          "base_uri": "https://localhost:8080/"
        },
        "id": "zBJ0Gc0NQRet",
        "outputId": "2e3d8fb3-1d75-4f24-ca15-e196b0ea435f"
      },
      "outputs": [
        {
          "output_type": "stream",
          "name": "stdout",
          "text": [
            "Writing output1.txt\n"
          ]
        }
      ],
      "source": [
        "%%writefile output1.txt\n",
        "12"
      ]
    },
    {
      "cell_type": "code",
      "execution_count": 9,
      "metadata": {
        "colab": {
          "base_uri": "https://localhost:8080/"
        },
        "id": "IjEcIx63PJAN",
        "outputId": "7b8dd779-d264-43d6-cfd1-b8b702b84fbd"
      },
      "outputs": [
        {
          "output_type": "stream",
          "name": "stdout",
          "text": [
            "Writing input2.txt\n"
          ]
        }
      ],
      "source": [
        "%%writefile input2.txt\n",
        "0 9"
      ]
    },
    {
      "cell_type": "code",
      "execution_count": 10,
      "metadata": {
        "colab": {
          "base_uri": "https://localhost:8080/"
        },
        "id": "Up9gOrxURTmd",
        "outputId": "2b7f067f-68f4-43bb-8db5-127a48fd55aa"
      },
      "outputs": [
        {
          "output_type": "stream",
          "name": "stdout",
          "text": [
            "Writing output2.txt\n"
          ]
        }
      ],
      "source": [
        "%%writefile output2.txt\n",
        "9"
      ]
    },
    {
      "cell_type": "code",
      "execution_count": 11,
      "metadata": {
        "colab": {
          "base_uri": "https://localhost:8080/"
        },
        "id": "PST6G-s-Pwgc",
        "outputId": "ae8c7398-e91f-4180-f88b-86a772d848ae"
      },
      "outputs": [
        {
          "output_type": "stream",
          "name": "stdout",
          "text": [
            "12"
          ]
        }
      ],
      "source": [
        "!./APlusB < input1.txt"
      ]
    },
    {
      "cell_type": "code",
      "execution_count": 12,
      "metadata": {
        "colab": {
          "base_uri": "https://localhost:8080/"
        },
        "id": "cKxZOjSlRfIN",
        "outputId": "8b43d881-6f8d-4bb6-c3c1-f72b2e595d57"
      },
      "outputs": [
        {
          "output_type": "stream",
          "name": "stdout",
          "text": [
            "9"
          ]
        }
      ],
      "source": [
        "!./APlusB < input2.txt"
      ]
    },
    {
      "cell_type": "markdown",
      "metadata": {
        "id": "Qw2TQWCCUwqk"
      },
      "source": [
        "### Comparing files with grep\n",
        "\n",
        "https://askubuntu.com/questions/546796/comparing-two-text-files"
      ]
    },
    {
      "cell_type": "code",
      "execution_count": 13,
      "metadata": {
        "id": "WVIaAmMKU4QM"
      },
      "outputs": [],
      "source": [
        "!grep -xvFf output1.txt output1.txt"
      ]
    },
    {
      "cell_type": "code",
      "execution_count": 14,
      "metadata": {
        "id": "MQU8gPPjQuYO",
        "colab": {
          "base_uri": "https://localhost:8080/"
        },
        "outputId": "7912d06e-005d-47d8-97bf-b783b25c1f11"
      },
      "outputs": [
        {
          "output_type": "stream",
          "name": "stdout",
          "text": [
            "9\n"
          ]
        }
      ],
      "source": [
        "!grep -xvFf output1.txt output2.txt"
      ]
    },
    {
      "cell_type": "code",
      "execution_count": 15,
      "metadata": {
        "colab": {
          "base_uri": "https://localhost:8080/"
        },
        "id": "jYL9OuYBTD_l",
        "outputId": "c90121bd-8390-4c9f-9183-8a7c636ced17"
      },
      "outputs": [
        {
          "output_type": "stream",
          "name": "stdout",
          "text": [
            "12\n"
          ]
        }
      ],
      "source": [
        "!grep -xvFf output2.txt output1.txt"
      ]
    },
    {
      "cell_type": "code",
      "execution_count": 16,
      "metadata": {
        "id": "Jlja0Xm4TX9M"
      },
      "outputs": [],
      "source": [
        "!./APlusB < input1.txt> ctest1.txt\n",
        "!grep -xvFf output1.txt ctest1.txt"
      ]
    },
    {
      "cell_type": "code",
      "execution_count": 17,
      "metadata": {
        "id": "g9OIUZA_QLCQ"
      },
      "outputs": [],
      "source": [
        "!./APlusB < input2.txt > ctest2.txt\n",
        "!grep -xvFf output2.txt ctest2.txt"
      ]
    },
    {
      "cell_type": "markdown",
      "metadata": {
        "id": "3BgOaDjUVJk6"
      },
      "source": [
        "## Python"
      ]
    },
    {
      "cell_type": "code",
      "execution_count": 19,
      "metadata": {
        "colab": {
          "base_uri": "https://localhost:8080/"
        },
        "id": "DBvl-T0CTN_8",
        "outputId": "8c4a0163-fc3f-4a30-e795-9354ad496e54"
      },
      "outputs": [
        {
          "output_type": "stream",
          "name": "stdout",
          "text": [
            "Writing sum.py\n"
          ]
        }
      ],
      "source": [
        "%%writefile sum.py\n",
        "# python3\n",
        "\n",
        "def sum_of_two_digits(first_digit, second_digit):\n",
        "    return first_digit + second_digit\n",
        "\n",
        "if __name__ == '__main__':\n",
        "    a, b = map(int, input().split())\n",
        "    print(sum_of_two_digits(a, b))"
      ]
    },
    {
      "cell_type": "code",
      "execution_count": 20,
      "metadata": {
        "colab": {
          "base_uri": "https://localhost:8080/"
        },
        "id": "QKoKM11_WGyF",
        "outputId": "0a425ff8-76cf-4368-a247-5d8f55ae8a27"
      },
      "outputs": [
        {
          "output_type": "stream",
          "name": "stdout",
          "text": [
            "4 8\n",
            "12\n"
          ]
        }
      ],
      "source": [
        "!python sum.py"
      ]
    },
    {
      "cell_type": "code",
      "execution_count": 21,
      "metadata": {
        "id": "cocFbPRTWrqt"
      },
      "outputs": [],
      "source": [
        "!python sum.py  < input1.txt> ptest1.txt\n",
        "!grep -xvFf output1.txt ptest1.txt"
      ]
    },
    {
      "cell_type": "code",
      "execution_count": 22,
      "metadata": {
        "id": "MorKTa-XXASN"
      },
      "outputs": [],
      "source": [
        "!python sum.py  < input2.txt> ptest2.txt\n",
        "!grep -xvFf output2.txt ptest2.txt"
      ]
    },
    {
      "cell_type": "markdown",
      "metadata": {
        "id": "uvP-mOubW_5F"
      },
      "source": [
        "# II Solving The Maximum Pairwise Product Programming Challenge in C++"
      ]
    },
    {
      "cell_type": "markdown",
      "metadata": {
        "id": "C12yoFR6Xonl"
      },
      "source": [
        "## C++\n",
        "\n",
        "$$ T(n) < 6 n^2 = O(n^2)$$"
      ]
    },
    {
      "cell_type": "code",
      "source": [
        "%%writefile max_pairwise_product_full.cpp\n",
        "#include <iostream>\n",
        "#include <vector>\n",
        "#include <algorithm>\n",
        "\n",
        "int MaxPairwiseProduct(const std::vector<int>& numbers) {\n",
        "    int max_product = 0;\n",
        "    int aux_product = 0;\n",
        "    int n = numbers.size();\n",
        "\n",
        "    for (int first = 0; first < n; ++first) {\n",
        "        for (int second = 0; second < n; ++second) {\n",
        "          if ( first != second ){\n",
        "                aux_product = numbers[first] * numbers[second];\n",
        "                if (aux_product > max_product)  max_product = aux_product;\n",
        "          }\n",
        "        }\n",
        "    }\n",
        "\n",
        "    return max_product;\n",
        "}\n",
        "\n",
        "int main() {\n",
        "    int n;\n",
        "    std::cin >> n;\n",
        "    std::vector<int> numbers(n);\n",
        "    for (int i = 0; i < n; ++i) {\n",
        "        std::cin >> numbers[i];\n",
        "    }\n",
        "\n",
        "    std::cout << MaxPairwiseProduct(numbers) << \"\\n\";\n",
        "    return 0;\n",
        "}"
      ],
      "metadata": {
        "colab": {
          "base_uri": "https://localhost:8080/"
        },
        "id": "3LpfoGv2Ae81",
        "outputId": "6e88fb01-6b53-492b-ef99-23188b9d64a2"
      },
      "execution_count": 23,
      "outputs": [
        {
          "output_type": "stream",
          "name": "stdout",
          "text": [
            "Writing max_pairwise_product_full.cpp\n"
          ]
        }
      ]
    },
    {
      "cell_type": "markdown",
      "metadata": {
        "id": "m75IQQPbEHBS"
      },
      "source": [
        "#### Time Complexity\n",
        "$$\\left. \\begin{array}{llc}\n",
        " \\text{INSTRUCTION} & \\text{TYPE}& \\text{# EXECUTIONS}\\\\\n",
        "\\text{first != second} &  \\text{comparisons} &n^2 \\\\\n",
        "\\text{numbers[first] * numbers[second]}& \\ \\text{ products}  &n^2 - n \\\\\n",
        "\\text{max_product = aux_product} &  \\text{assigments} & [1, \\frac{n^2 - n}{2})  \n",
        "\\end{array}\\right\\}  =  O(n^2)$$"
      ]
    },
    {
      "cell_type": "code",
      "source": [
        "!g++ max_pairwise_product_full.cpp -o max_pairwise_product_full\n",
        "!./max_pairwise_product_full"
      ],
      "metadata": {
        "id": "PCVo1h6nCF9k",
        "colab": {
          "base_uri": "https://localhost:8080/"
        },
        "outputId": "9c38dc5f-1dc6-4f8d-8dbc-6fce1a817746"
      },
      "execution_count": 24,
      "outputs": [
        {
          "output_type": "stream",
          "name": "stdout",
          "text": [
            "5\n",
            "80 89 12 899 1200 200\n",
            "1078800\n"
          ]
        }
      ]
    },
    {
      "cell_type": "markdown",
      "metadata": {
        "id": "e7KhxHGNS3i0"
      },
      "source": [
        "### Test 1: Small numbers"
      ]
    },
    {
      "cell_type": "code",
      "source": [
        "%%writefile input0.txt\n",
        "10\n",
        "0 0 0 0 0 0 0 0 0 0"
      ],
      "metadata": {
        "colab": {
          "base_uri": "https://localhost:8080/"
        },
        "id": "17npyXt7lYzA",
        "outputId": "8e855f31-fab8-4bbd-9dda-10217b44ee1b"
      },
      "execution_count": 25,
      "outputs": [
        {
          "output_type": "stream",
          "name": "stdout",
          "text": [
            "Writing input0.txt\n"
          ]
        }
      ]
    },
    {
      "cell_type": "code",
      "source": [
        "%%writefile output0.txt\n",
        "0"
      ],
      "metadata": {
        "colab": {
          "base_uri": "https://localhost:8080/"
        },
        "id": "NooGEkJylezm",
        "outputId": "00348bd4-f782-410f-ef37-1bc416a12577"
      },
      "execution_count": 26,
      "outputs": [
        {
          "output_type": "stream",
          "name": "stdout",
          "text": [
            "Writing output0.txt\n"
          ]
        }
      ]
    },
    {
      "cell_type": "code",
      "source": [
        "!./max_pairwise_product_full< input0.txt > ctest0.txt\n",
        "!grep -xvFf output0.txt ctest0.txt"
      ],
      "metadata": {
        "id": "R0yFaAOrlqrE"
      },
      "execution_count": 27,
      "outputs": []
    },
    {
      "cell_type": "code",
      "execution_count": 30,
      "metadata": {
        "colab": {
          "base_uri": "https://localhost:8080/"
        },
        "id": "e1mmTzBgShT-",
        "outputId": "5a1947f4-1c31-4595-bbfa-0d8d4c4b544b"
      },
      "outputs": [
        {
          "output_type": "stream",
          "name": "stdout",
          "text": [
            "Overwriting input1.txt\n"
          ]
        }
      ],
      "source": [
        "%%writefile input1.txt\n",
        "10\n",
        "1 2 3 4 5 6 7 8 9 10"
      ]
    },
    {
      "cell_type": "code",
      "execution_count": 33,
      "metadata": {
        "colab": {
          "base_uri": "https://localhost:8080/"
        },
        "id": "vy_uI0x7TCId",
        "outputId": "ffcb8a32-7e56-4669-ee48-f1e00c62fa5f"
      },
      "outputs": [
        {
          "output_type": "stream",
          "name": "stdout",
          "text": [
            "90\n"
          ]
        }
      ],
      "source": [
        "!./max_pairwise_product_full < input1.txt"
      ]
    },
    {
      "cell_type": "code",
      "execution_count": null,
      "metadata": {
        "colab": {
          "base_uri": "https://localhost:8080/"
        },
        "id": "xaj6f9bxC6D6",
        "outputId": "60b4bbdf-1628-45b8-a790-b4989ddfd015"
      },
      "outputs": [
        {
          "output_type": "stream",
          "name": "stdout",
          "text": [
            "Overwriting output1.txt\n"
          ]
        }
      ],
      "source": [
        "%%writefile output1.txt\n",
        "90"
      ]
    },
    {
      "cell_type": "code",
      "execution_count": 34,
      "metadata": {
        "id": "fYCjAdA_C-wy",
        "colab": {
          "base_uri": "https://localhost:8080/"
        },
        "outputId": "f194eaf0-e239-43ad-e5ea-16528c5b16a0"
      },
      "outputs": [
        {
          "output_type": "stream",
          "name": "stdout",
          "text": [
            "90\n"
          ]
        }
      ],
      "source": [
        "!./max_pairwise_product_full< input1.txt > ctest1.txt\n",
        "!grep -xvFf output1.txt ctest1.txt"
      ]
    },
    {
      "cell_type": "code",
      "source": [
        "%%writefile input2.txt\n",
        "10\n",
        "10 9 8 7 6 5 4 3 2 1"
      ],
      "metadata": {
        "colab": {
          "base_uri": "https://localhost:8080/"
        },
        "id": "ZPe40LY14_6f",
        "outputId": "7f89b918-68b9-41fc-d48e-9adad7026c23"
      },
      "execution_count": 35,
      "outputs": [
        {
          "output_type": "stream",
          "name": "stdout",
          "text": [
            "Overwriting input2.txt\n"
          ]
        }
      ]
    },
    {
      "cell_type": "code",
      "source": [
        "%%writefile output2.txt\n",
        "90"
      ],
      "metadata": {
        "colab": {
          "base_uri": "https://localhost:8080/"
        },
        "id": "xiHmF7HA5Faa",
        "outputId": "c727009d-0ad8-49fc-8988-cf44363e1ca5"
      },
      "execution_count": 36,
      "outputs": [
        {
          "output_type": "stream",
          "name": "stdout",
          "text": [
            "Overwriting output2.txt\n"
          ]
        }
      ]
    },
    {
      "cell_type": "code",
      "source": [
        "!./max_pairwise_product_full< input2.txt > ctest2.txt\n",
        "!grep -xvFf output2.txt ctest2.txt"
      ],
      "metadata": {
        "id": "jjwc9kwb5t_k"
      },
      "execution_count": 37,
      "outputs": []
    },
    {
      "cell_type": "markdown",
      "metadata": {
        "id": "IeZ3kTjpYmR9"
      },
      "source": [
        "### Test 2: largest input numbers 200000 200000 to check possible intger overflow"
      ]
    },
    {
      "cell_type": "code",
      "execution_count": 38,
      "metadata": {
        "colab": {
          "base_uri": "https://localhost:8080/"
        },
        "id": "LQNlZqaqYt7U",
        "outputId": "665d0048-deb0-4250-fb8b-db8e7e7310ca"
      },
      "outputs": [
        {
          "output_type": "stream",
          "name": "stdout",
          "text": [
            "Writing input3.txt\n"
          ]
        }
      ],
      "source": [
        "%%writefile input3.txt\n",
        "6\n",
        "1 3 200000 9 200000 23"
      ]
    },
    {
      "cell_type": "code",
      "execution_count": null,
      "metadata": {
        "colab": {
          "base_uri": "https://localhost:8080/"
        },
        "id": "GjQq7QOUCw-9",
        "outputId": "d86bfdb4-dcdd-43af-d5f7-fdf8f5ebb7ed"
      },
      "outputs": [
        {
          "output_type": "execute_result",
          "data": {
            "text/plain": [
              "40000000000"
            ]
          },
          "metadata": {},
          "execution_count": 113
        }
      ],
      "source": [
        "200000*200000"
      ]
    },
    {
      "cell_type": "code",
      "execution_count": 39,
      "metadata": {
        "colab": {
          "base_uri": "https://localhost:8080/"
        },
        "id": "EuS6n3jtDK5C",
        "outputId": "f8cd45f0-75fd-4af2-8b9b-8190acbc2ee1"
      },
      "outputs": [
        {
          "output_type": "stream",
          "name": "stdout",
          "text": [
            "Writing output3.txt\n"
          ]
        }
      ],
      "source": [
        "%%writefile output3.txt\n",
        "40000000000"
      ]
    },
    {
      "cell_type": "code",
      "execution_count": 40,
      "metadata": {
        "colab": {
          "base_uri": "https://localhost:8080/"
        },
        "id": "2Wad2VZUZDxR",
        "outputId": "efb23ca4-2e88-4ee0-98ae-6ee4a52675b0"
      },
      "outputs": [
        {
          "output_type": "stream",
          "name": "stdout",
          "text": [
            "1345294336\n"
          ]
        }
      ],
      "source": [
        "!./max_pairwise_product_full < input3.txt"
      ]
    },
    {
      "cell_type": "code",
      "execution_count": 41,
      "metadata": {
        "colab": {
          "base_uri": "https://localhost:8080/"
        },
        "id": "pEvp1ieyDJGq",
        "outputId": "1c536d63-8494-4e1e-c830-35e08f7da5cb"
      },
      "outputs": [
        {
          "output_type": "stream",
          "name": "stdout",
          "text": [
            "1345294336\n"
          ]
        }
      ],
      "source": [
        "!./max_pairwise_product_full < input3.txt > ctest3.txt\n",
        "!grep -xvFf output3.txt ctest3.txt"
      ]
    },
    {
      "cell_type": "code",
      "source": [
        " %%writefile run_all_test.sh\n",
        "#!/bin/bash\n",
        "g++ max_pairwise_product_full.cpp -o max_pairwise_product_full\n",
        "for i in {0..3}\n",
        "do\n",
        "    ./max_pairwise_product_full < input$i.txt > ctest$i.txt\n",
        "    grep -xvFf output$i.txt ctest$i.txt\n",
        "done"
      ],
      "metadata": {
        "colab": {
          "base_uri": "https://localhost:8080/"
        },
        "id": "SrtJrKqM-God",
        "outputId": "9a31acb4-34fa-4fe8-f202-455edbbdab67"
      },
      "execution_count": 42,
      "outputs": [
        {
          "output_type": "stream",
          "name": "stdout",
          "text": [
            "Overwriting run_all_test.sh\n"
          ]
        }
      ]
    },
    {
      "cell_type": "code",
      "source": [
        "!chmod u+x run_all_test.sh\n",
        "!./run_all_test.sh"
      ],
      "metadata": {
        "colab": {
          "base_uri": "https://localhost:8080/"
        },
        "id": "wGWMHtzS-QnA",
        "outputId": "39855863-805d-4bc5-f68c-37f3208d500e"
      },
      "execution_count": 43,
      "outputs": [
        {
          "output_type": "stream",
          "name": "stdout",
          "text": [
            "90\n",
            "1345294336\n"
          ]
        }
      ]
    },
    {
      "cell_type": "markdown",
      "metadata": {
        "id": "H2SC0Qt5HCzz"
      },
      "source": [
        "### Changing the variables to long long"
      ]
    },
    {
      "cell_type": "code",
      "execution_count": 44,
      "metadata": {
        "colab": {
          "base_uri": "https://localhost:8080/"
        },
        "id": "MPcmsxiQZSfE",
        "outputId": "bd6b5aba-5a53-4343-b82b-8f3b517c4291"
      },
      "outputs": [
        {
          "output_type": "stream",
          "name": "stdout",
          "text": [
            "Writing max_pairwise_product_long_full.cpp\n"
          ]
        }
      ],
      "source": [
        "%%writefile max_pairwise_product_long_full.cpp\n",
        "#include <iostream>\n",
        "#include <vector>\n",
        "#include <algorithm>\n",
        "\n",
        "long long MaxPairwiseProduct(const std::vector<int>& numbers) {\n",
        "    long long max_product = 0LL;\n",
        "\t  long long aux_product = 0LL;\n",
        "    int n = numbers.size();\n",
        "\n",
        "    for (int first = 0; first < n; ++first) {\n",
        "        for (int second = 0; second < n; ++second) {\n",
        "          if ( first != second){\n",
        "                aux_product = (long long) numbers[first] * numbers[second];\n",
        "                if (aux_product > max_product)  max_product = aux_product;\n",
        "          }\n",
        "        }\n",
        "    }\n",
        "\n",
        "\n",
        "    return max_product;\n",
        "}\n",
        "\n",
        "int main() {\n",
        "    int n;\n",
        "    std::cin >> n;\n",
        "    std::vector<int> numbers(n);\n",
        "    for (int i = 0; i < n; ++i) {\n",
        "        std::cin >> numbers[i];\n",
        "    }\n",
        "\n",
        "    std::cout << MaxPairwiseProduct(numbers) << \"\\n\";\n",
        "    return 0;\n",
        "}\n"
      ]
    },
    {
      "cell_type": "code",
      "source": [
        "!g++ max_pairwise_product_long_full.cpp -o max_pairwise_product_long_full"
      ],
      "metadata": {
        "id": "W3xQpFXL6wjO"
      },
      "execution_count": 45,
      "outputs": []
    },
    {
      "cell_type": "code",
      "source": [
        "!./max_pairwise_product_long_full < input3.txt"
      ],
      "metadata": {
        "colab": {
          "base_uri": "https://localhost:8080/"
        },
        "id": "H5dvN9M3R9sV",
        "outputId": "e58ae5bc-39dc-41fc-954d-c9e9845543d1"
      },
      "execution_count": null,
      "outputs": [
        {
          "output_type": "stream",
          "name": "stdout",
          "text": [
            "40000000000\n"
          ]
        }
      ]
    },
    {
      "cell_type": "markdown",
      "source": [
        "### Runing multuple test with a bash shell"
      ],
      "metadata": {
        "id": "gx-sEYdfQ8f8"
      }
    },
    {
      "cell_type": "code",
      "source": [
        " %%writefile run_all_test.sh\n",
        "#!/bin/bash\n",
        "g++ max_pairwise_product_long_full.cpp -o max_pairwise_product_long_full\n",
        "for i in {1..3}\n",
        "do\n",
        "    ./max_pairwise_product_long_full < input$i.txt > ctest$i.txt\n",
        "    grep -xvFf output$i.txt ctest$i.txt\n",
        "done"
      ],
      "metadata": {
        "colab": {
          "base_uri": "https://localhost:8080/"
        },
        "id": "O9qsq2nn7elw",
        "outputId": "7a2122fe-969d-4263-d457-e71fb0a115f0"
      },
      "execution_count": 46,
      "outputs": [
        {
          "output_type": "stream",
          "name": "stdout",
          "text": [
            "Overwriting run_all_test.sh\n"
          ]
        }
      ]
    },
    {
      "cell_type": "code",
      "source": [
        "!chmod u+x run_all_test.sh\n",
        "!./run_all_test.sh"
      ],
      "metadata": {
        "id": "0g5kKVph7xIA",
        "colab": {
          "base_uri": "https://localhost:8080/"
        },
        "outputId": "fe756f97-55a4-43f5-f68b-e915c29e6c0e"
      },
      "execution_count": 47,
      "outputs": [
        {
          "output_type": "stream",
          "name": "stdout",
          "text": [
            "90\n"
          ]
        }
      ]
    },
    {
      "cell_type": "markdown",
      "metadata": {
        "id": "XPVHkHxH6_7s"
      },
      "source": [
        "### Test 3  stress tests, 6 testing cases files input4.txt/output4.txt .. input10.txt/output10.txt\n",
        "\n",
        "---\n",
        "\n"
      ]
    },
    {
      "cell_type": "code",
      "execution_count": 48,
      "metadata": {
        "id": "PwqpBmYr69fu",
        "colab": {
          "base_uri": "https://localhost:8080/"
        },
        "outputId": "51419749-935b-46c7-fd70-83dd2739e97e"
      },
      "outputs": [
        {
          "output_type": "stream",
          "name": "stdout",
          "text": [
            "Writing stress_test_generator.cpp\n"
          ]
        }
      ],
      "source": [
        " %%writefile stress_test_generator.cpp\n",
        "#include <iostream>\n",
        "#include <vector>\n",
        "#include <fstream>\n",
        "#include <cstdlib> // for rand()\n",
        "#include <ctime>   // for seeding srand()\n",
        "\n",
        "using namespace std;\n",
        "\n",
        "// Generate a random integer in a specified range\n",
        "int random_int(int min, int max) {\n",
        "    return min + rand() % (max - min + 1);\n",
        "}\n",
        "\n",
        "// Calculate the maximum pairwise product of a vector of integers\n",
        "long long MaxPairwiseProduct(const vector<int>& numbers) {\n",
        "    long long max_product = 0LL;\n",
        "    int n = numbers.size();\n",
        "\n",
        "    for (int first = 0; first < n; ++first) {\n",
        "        for (int second = 0; second < n; ++second) {\n",
        "            if (first != second) {\n",
        "                long long aux_product = (long long)numbers[first] * numbers[second];\n",
        "                if (aux_product > max_product) {\n",
        "                    max_product = aux_product;\n",
        "                }\n",
        "            }\n",
        "        }\n",
        "    }\n",
        "\n",
        "    return max_product;\n",
        "}\n",
        "\n",
        "// Generate a stress test\n",
        "void generate_stress_test(int start_index, int num_tests, int min_size, int max_size, int min_value, int max_value) {\n",
        "    srand(time(nullptr)); // Seed srand with current time\n",
        "\n",
        "    for (int i = start_index; i < start_index + num_tests; ++i) {\n",
        "        int n = random_int(min_size, max_size); // Generate random size for vector\n",
        "\n",
        "        // Generate input file\n",
        "        ofstream input_file(\"input\" + to_string(i) + \".txt\");\n",
        "        input_file << n << \"\\n\"; // Output vector size\n",
        "\n",
        "        vector<int> a(n);\n",
        "        for (int j = 0; j < n; ++j) {\n",
        "            a[j] = random_int(min_value, max_value); // Generate random values for vector\n",
        "            input_file << a[j] << \" \"; // Output vector element\n",
        "        }\n",
        "        input_file << \"\\n\"; // End of vector\n",
        "        input_file.close();\n",
        "\n",
        "        // Generate output file\n",
        "        ofstream output_file(\"output\" + to_string(i) + \".txt\");\n",
        "        output_file << MaxPairwiseProduct(a) << \"\\n\"; // Output result using MaxPairwiseProduct function\n",
        "        output_file.close();\n",
        "    }\n",
        "}\n",
        "\n",
        "int main() {\n",
        "    int start_index, num_tests;\n",
        "\n",
        "    // Request the start index and number of stress tests from the user\n",
        "    std::cout << \"Enter the start index for input files: \";\n",
        "    std::cin >> start_index;\n",
        "    std::cout << \"Enter the number of stress tests to create: \";\n",
        "    std::cin >> num_tests;\n",
        "\n",
        "    // Generate stress tests starting from the specified start index\n",
        "    generate_stress_test(start_index, num_tests, 2, 1000, 0, 10000);\n",
        "\n",
        "    return 0;\n",
        "}\n"
      ]
    },
    {
      "cell_type": "code",
      "execution_count": 49,
      "metadata": {
        "id": "jBCkMeR6Fw4y",
        "colab": {
          "base_uri": "https://localhost:8080/"
        },
        "outputId": "dc953aea-4196-4786-9f11-4acbd7fc01a6"
      },
      "outputs": [
        {
          "output_type": "stream",
          "name": "stdout",
          "text": [
            "Enter the start index for input files: 4\n",
            "Enter the number of stress tests to create: 7\n"
          ]
        }
      ],
      "source": [
        "#stress tests randomly created\n",
        "!g++ stress_test_generator.cpp -o stress_test_generator\n",
        "!./stress_test_generator\n",
        "\n",
        "#Start index: 4 for file4\n",
        "#numbers of tests: 7 (from 4 to 10)"
      ]
    },
    {
      "cell_type": "code",
      "source": [
        "##input4.txt with expected output4.txt\n",
        "!cat input4.txt\n",
        "!cat output4.txt"
      ],
      "metadata": {
        "id": "zED8V8wu-eoM",
        "colab": {
          "base_uri": "https://localhost:8080/"
        },
        "outputId": "3ee32ea7-9973-4cf1-e49c-51f98ef00b0a"
      },
      "execution_count": null,
      "outputs": [
        {
          "output_type": "stream",
          "name": "stdout",
          "text": [
            "481\n",
            "3412 1542 1309 6805 8278 7232 6900 7611 90 874 7698 8631 5164 6281 1430 1251 1014 7251 2141 6750 519 4279 9638 8101 8452 8899 338 8775 6408 4150 661 9820 6771 3050 7703 6128 1360 4602 3738 1450 6555 1435 80 2797 8795 2589 4048 887 9840 7269 8716 359 1547 8353 9539 1078 8330 9877 9853 4737 5106 1593 4556 2955 5722 3337 9083 7082 7940 2820 8532 5573 5334 8612 8371 5207 2280 3497 6095 2119 765 4810 3557 3392 4242 3096 4470 2571 4051 5401 7309 9157 8073 2943 3191 3794 6281 2273 875 5299 6173 485 1950 2585 176 320 7793 2456 4897 4966 4575 6741 9776 8133 132 5096 2307 5681 7668 6358 1082 6055 6594 233 76 9785 4028 7436 3136 5982 2734 387 7547 4685 4052 7723 6084 1844 178 980 6810 5832 8801 7664 5043 8933 2760 7350 5693 1506 4787 6775 8640 1380 8087 8716 2243 3193 6152 6458 9176 9965 7925 6722 5728 1976 5523 1812 4899 5701 3871 2787 1532 2671 1529 7655 2683 5368 5004 8376 6874 869 6229 6592 2249 4315 5308 5571 8588 2538 3108 7763 2502 1032 5563 8231 4087 1085 1121 8986 7865 6071 1772 475 8743 3301 8130 2504 8670 4213 879 6622 5082 8187 3214 8411 3580 9601 5060 2167 2138 8168 1008 4640 9200 6571 3949 4365 8735 5070 3350 7678 1141 6201 8154 962 9503 7362 3466 9251 2653 5424 6951 7736 3610 164 7225 8269 9765 2284 436 2981 452 1444 7622 730 9095 1570 5096 7829 7720 9525 6586 8861 5726 5818 9823 6307 3179 4367 6636 5833 869 3586 4647 5558 4830 1871 3826 5673 4155 4262 8655 5686 6786 6276 7496 5880 8925 2591 4787 6644 3194 1372 6583 8920 7190 7484 6305 1448 1850 2940 7281 3798 6527 3006 9356 1356 4877 3182 8108 110 8523 6762 5797 5308 4116 3292 1187 3041 6962 7054 763 155 8426 7347 154 5616 4830 6459 7064 7760 9400 5423 1557 7005 8429 1992 9440 4384 5174 7547 4494 4775 4309 1369 83 9504 4661 2349 2544 2701 9403 4387 3936 7829 2812 4090 4523 8721 548 2665 6480 1026 9167 9117 8031 8674 1108 7470 3057 7361 5017 7551 2135 404 8921 3297 9908 4660 5647 3531 7362 6128 7918 1297 5035 1808 6466 9558 528 7014 3301 8088 9120 2467 7204 7150 2219 9391 5699 5276 7830 715 3906 1043 2198 2826 4341 2105 8565 1066 6715 5926 7194 5711 8302 2229 7519 4767 2865 8048 2860 6167 6135 3058 9713 4417 207 3011 3807 5906 8287 2715 7700 2192 3758 9898 6097 8099 3082 4662 9165 9797 1666 7438 5508 1047 9667 4105 6893 3610 2152 9753 855 9366 2810 1647 3782 4097 4658 8668 1081 2944 1382 8782 6216 5141 9758 2312 4318 3918 6974 4562 3715 9720 1999 301 766 2744 5485 \n",
            "98733220\n"
          ]
        }
      ]
    },
    {
      "cell_type": "code",
      "source": [
        "##input5.txt with expected output5.txt\n",
        "!cat input5.txt\n",
        "!cat output5.txt"
      ],
      "metadata": {
        "colab": {
          "base_uri": "https://localhost:8080/"
        },
        "id": "rGKbBVTHs34-",
        "outputId": "a423b5a8-a535-43c8-a200-66218f083b62"
      },
      "execution_count": null,
      "outputs": [
        {
          "output_type": "stream",
          "name": "stdout",
          "text": [
            "199\n",
            "6354 7638 8491 7210 8082 2379 8857 1864 7555 4593 1610 8637 7537 2993 8497 3752 9213 8254 7144 3530 2172 4117 8092 6966 4915 1169 8346 5681 3913 3830 3340 1346 2546 2909 9635 1707 5288 8491 3571 2843 4162 5181 2558 1698 9253 1054 6530 8465 386 3673 3074 3637 8869 2244 1681 3784 3414 26 543 8406 4936 4962 9752 8561 7871 9386 267 4238 8955 4917 8160 3116 1177 1796 5894 429 2850 3502 9974 3236 8254 3047 7953 8201 6370 9634 3063 9784 9661 3607 8190 5675 9648 9020 4235 7519 9485 5582 2835 8439 498 2073 2634 1675 3869 8528 3184 7798 3108 3157 2112 1361 7283 64 9562 3652 9699 2625 4515 9359 7311 3783 6112 6958 2802 1425 5555 2286 7007 8390 1804 8585 1541 4438 259 6489 4044 4522 4286 7152 7679 6399 8513 6040 6463 9153 771 6161 1777 5286 6598 9088 9069 2709 7125 1870 4135 2679 5236 1141 2148 7040 804 3689 1477 1064 178 5521 6665 5543 2672 5423 1941 2263 1462 9484 1415 2233 5644 4272 7519 2242 3359 7666 6030 483 615 1243 4242 5851 3464 6390 2890 4268 1157 5446 5332 2414 2045 \n",
            "97585616\n"
          ]
        }
      ]
    },
    {
      "cell_type": "code",
      "source": [
        "##input6.txt with expected output6.txt\n",
        "!cat input6.txt\n",
        "!cat output6.txt"
      ],
      "metadata": {
        "colab": {
          "base_uri": "https://localhost:8080/"
        },
        "id": "kiEGnCdmtQjo",
        "outputId": "03d97c42-2efb-4297-acee-563032a95efb"
      },
      "execution_count": null,
      "outputs": [
        {
          "output_type": "stream",
          "name": "stdout",
          "text": [
            "669\n",
            "7958 5796 7420 977 8059 9961 460 552 3273 7184 4824 1870 9426 9263 9537 6534 824 151 7778 5066 6002 1241 2534 9971 5509 3692 6495 1920 6106 8540 4996 5142 4335 3494 6120 3472 3454 6580 5103 6727 3763 9928 8598 4267 268 9213 1880 1092 9364 9658 7238 6444 898 850 7493 7486 4542 3987 9406 1727 2526 5480 6869 7940 8974 2988 2490 2428 647 7593 233 4410 8599 9910 9757 8867 9122 1636 1038 9564 2372 9355 6007 4349 204 3499 1834 4747 7486 2319 6474 1090 7799 3342 108 6773 7410 2598 279 8057 1270 512 3545 9869 1501 3301 9815 622 6016 852 186 8388 206 7272 2736 1489 1850 4571 6236 414 6890 3788 1505 5767 8210 2692 2539 5619 6370 3897 4754 7640 4410 8299 7508 6990 2679 7322 8691 8695 9253 9956 7083 537 7228 897 2027 9078 5468 8263 9492 3436 3130 2075 9204 2418 4768 2821 9116 1137 6719 3869 9856 2207 3246 8442 9197 5925 6843 8966 4620 6095 8922 2781 6633 6149 3678 8660 6305 225 8001 6875 4740 1130 29 5022 3548 4797 7844 2663 7013 5641 7611 7947 7848 857 6388 8123 6782 3230 7088 2480 9326 6009 6340 7037 3236 18 5696 619 1322 4775 8574 6062 6985 8603 1084 532 4478 6 4275 2569 5647 2964 515 4573 3821 6903 2695 1682 1212 861 4162 537 7950 502 8653 2264 1599 4348 3963 2921 201 2536 8983 7186 1138 66 8798 5616 72 3072 8185 6798 6036 8700 1370 936 6681 5144 2618 7893 6006 6780 9509 5034 8361 8161 7298 9960 3587 1260 2880 3789 3796 2942 974 6013 3008 9772 1628 4160 3922 891 957 1037 669 3407 1973 7351 8551 4591 6322 5635 2449 5831 668 810 3991 9046 1848 7579 305 4729 2446 5181 7671 3420 2272 1757 4271 3901 6996 8193 5871 9033 9230 6541 2439 2281 3891 2068 6872 212 7704 400 7122 9451 2289 1113 8496 4137 9771 9881 9945 3295 6140 8694 6715 8412 1530 2064 2312 9605 257 9263 8637 9487 5803 2154 1768 772 5302 9719 2063 3005 1197 9186 2455 3486 1377 2030 8703 2226 1910 9726 5521 8050 9499 3314 6461 1028 5379 9853 1711 6715 9115 348 7280 4917 3581 9048 6768 8883 9846 8831 2966 2121 9095 6501 6687 1550 8531 5389 3776 440 6193 375 9569 5691 4769 6029 7798 1226 6960 9510 7941 6074 936 5220 2069 5596 5347 8837 4479 5192 8747 8524 8392 8920 5024 5078 470 3554 1545 5325 5073 7739 5701 4641 4508 469 1749 3385 1695 8709 2894 714 5862 4909 5934 7931 504 1280 7847 6062 7551 7672 4586 5943 6591 688 1020 7061 5322 3645 3465 394 1383 9166 6115 6970 713 7864 354 3487 6572 4327 4201 3512 314 134 1443 819 2494 368 7960 44 9119 3624 7066 5709 4313 9166 3849 9635 2810 7314 1107 5272 7558 7222 2241 9350 5085 3675 2836 2736 8002 8116 6248 8317 9329 8770 214 1822 216 8174 2946 9335 2877 11 6123 8269 9177 9972 7903 3065 8364 88 8337 5921 7311 578 5270 3474 4253 9185 7289 3333 7300 4616 1649 7707 3385 1863 9530 4681 1116 3554 4015 3993 3565 137 3340 3821 1187 2321 6886 9551 2409 5223 6550 798 6880 2898 4273 2211 2082 2640 5544 460 7256 7194 8168 1720 135 8776 6401 1251 2329 1494 6323 6973 1632 9663 1872 3898 3062 9838 3449 5472 6139 1077 6270 3018 3976 1621 5229 7137 4262 772 7598 1517 9045 6844 3237 9181 5619 716 1510 9027 2211 8913 7078 4922 9654 8951 8820 2716 8788 2268 8188 4926 4425 5536 9023 8401 7158 4251 5537 1419 6102 4213 4015 5147 1056 8332 5406 7754 9048 6916 6780 1258 6907 4937 6180 6561 3887 5000 355 3753 8347 9622 9758 2771 5157 9859 2250 3393 5188 8867 5891 1289 4158 985 7515 5215 9317 2920 4047 8364 915 1906 701 8901 6843 6881 6540 \n",
            "99430812\n"
          ]
        }
      ]
    },
    {
      "cell_type": "code",
      "source": [
        "##input7.txt with expected output7.txt\n",
        "!cat input7.txt\n",
        "!cat output7.txt"
      ],
      "metadata": {
        "colab": {
          "base_uri": "https://localhost:8080/"
        },
        "id": "oqzdg6LBtQ91",
        "outputId": "bc47afe8-daaa-409e-aef4-6dd05dfcf442"
      },
      "execution_count": null,
      "outputs": [
        {
          "output_type": "stream",
          "name": "stdout",
          "text": [
            "990\n",
            "2959 6895 6640 1306 7595 6397 5156 3831 6255 8486 7224 1442 7352 4194 3810 1509 5179 1325 7803 4495 5324 1850 3937 7318 4835 4638 6219 1677 2598 2758 4564 5557 732 1203 6863 8327 8679 3098 2157 6012 1583 460 7454 13 4654 2342 2601 911 4746 1483 6485 1149 4412 1500 8467 9247 6139 5764 2002 8737 9602 6566 5372 333 7769 2235 9739 7526 6412 1896 3537 9074 3435 2069 9087 9168 4411 2766 78 9158 4249 7642 1385 8661 9142 9852 8986 6359 5616 987 6174 6296 8632 1546 6629 6400 4860 6367 3925 1271 9342 8541 1423 2776 609 1588 3022 5021 4354 3100 5257 9683 1820 6642 9422 2041 7572 8408 8400 4266 473 4574 561 9106 7199 8269 6584 2058 5715 1588 4408 5056 128 5831 8912 738 7419 1933 6838 1772 6113 3173 2533 9012 893 1955 1052 8465 362 9453 3810 835 5105 4371 9941 2303 3719 6525 5440 9434 8113 9848 5568 8241 5678 4479 57 4175 7492 6895 5947 4683 67 9560 3694 960 1514 5826 504 1876 6357 4314 3790 2540 9764 3731 5922 3482 1334 1361 2915 525 2287 9563 9845 7965 5120 9903 3218 2611 7876 243 8373 7944 9803 3146 9983 1316 8972 486 3192 5328 5879 6983 7868 5643 1792 3789 203 4205 6229 4198 4730 8516 3760 4574 7559 8880 5555 776 2570 3431 1019 942 2453 822 5167 2435 2138 4138 4001 5331 544 958 3392 8412 7680 6263 3279 7884 467 9508 3160 6276 8023 7999 849 5581 7957 7484 6357 526 914 7377 2548 4446 8199 7715 7960 1415 2932 1960 6746 3476 3998 1216 2967 1677 7479 6246 639 9025 6833 3799 5300 5934 2876 7229 1515 833 4712 8951 1359 6705 7406 4986 1150 6683 3780 188 8099 7791 2149 5923 1266 7226 8219 4233 8903 6776 1558 9543 5801 9470 4420 2179 5403 7297 486 7997 8130 5198 6948 567 2981 5432 6633 5210 3194 412 5399 1292 8203 8627 8294 547 5852 6512 5860 5833 4367 7418 6454 167 7966 874 3425 3368 8171 3912 1365 7379 188 9392 9025 4249 4823 5657 537 9096 7148 5936 387 5350 5641 9761 6977 2571 7351 2836 9484 1717 1332 5937 2963 9298 6811 6389 3744 6060 1379 5109 4517 2646 4500 3542 6895 402 9199 7433 576 6347 4447 2043 2775 1167 1803 9752 3738 9154 3666 3221 1950 6077 237 4913 6453 7048 2380 197 4187 3759 5306 8704 6406 885 2245 4379 2366 1444 1811 2942 8870 7338 4985 1644 8505 7867 2475 3321 8100 7220 7622 49 3297 7859 4962 9750 5985 7343 9947 171 2180 6332 8876 9665 8296 1120 4044 1740 2564 6934 4682 1433 5350 746 4157 3854 9692 7711 8255 7791 4930 5876 7840 8227 4813 2802 9056 797 1223 80 969 4482 6412 9845 4147 5786 964 9270 7526 4608 7282 3287 7120 2632 5112 2355 7565 4803 65 5819 2594 4996 1694 433 4301 7586 4314 4435 8384 5537 4516 9353 19 2006 9197 5245 7793 1239 5593 6397 6926 3953 9684 5125 7664 4795 7480 5229 677 7546 2126 3271 3620 4900 3704 9000 2485 8019 3435 868 4634 7951 220 5732 1035 495 2055 9907 2814 8727 6304 818 2680 7066 5943 1422 2940 3423 6651 3617 2047 8778 6888 6746 3677 1670 5745 6162 767 258 7031 5402 9288 8330 2212 323 9905 4268 229 2718 2994 7612 4615 6753 4678 558 8176 8697 5060 5905 2313 8186 4682 279 4931 9438 3028 1754 6679 3796 3092 4788 276 2379 3117 3567 2702 4100 7835 4011 7897 1908 1622 2512 9740 7379 3070 8994 6075 9209 4899 9467 7394 659 824 3403 1176 3853 6236 7855 8728 9328 2642 82 1707 6838 3649 5488 2017 2563 9499 9914 5550 2200 3504 5289 657 7653 5362 7812 6861 260 7278 4254 1998 9182 8736 4253 3034 4972 2107 2840 4299 5828 2922 7085 3745 7650 2573 6841 212 2071 6754 5762 5350 1337 2130 6008 8990 7492 3819 5851 8831 1096 1183 1907 277 9920 6161 4390 5970 9347 8309 268 5175 1230 8433 9999 8881 1005 6839 171 3076 4671 7013 9506 6008 9143 5513 4998 7713 9332 848 6543 1506 3110 8450 2863 3029 5689 7253 8999 5036 6641 346 210 7871 8779 1287 7830 9784 8126 9081 3938 3875 6093 3443 9884 6314 34 5960 4026 9366 6808 568 872 9918 96 4814 4026 6865 3145 4103 1900 9786 4449 3189 8736 4306 4476 6565 5168 3680 6724 185 8634 2816 3628 8517 9130 3663 4476 4234 4107 2362 4802 6058 3359 5978 871 8464 3921 4017 2566 5821 3802 8095 9010 2537 2400 4564 181 8648 9323 6905 8833 7956 800 3539 7552 1008 8281 3106 5243 2388 5469 1123 8446 9907 8180 396 8370 2100 4413 935 7921 9294 108 8009 1831 3588 3651 3091 2235 4052 1074 1067 2008 1874 4606 9560 3962 2887 2665 9205 6354 9213 1406 4799 9119 9587 6274 8567 1686 686 581 686 9981 689 9774 2890 4277 4504 5981 6512 8556 7055 8658 563 8 3264 1201 3970 7230 4946 4253 3583 5237 5659 9461 5435 6324 5735 4001 9090 7500 4582 9776 7480 6351 627 369 627 5131 7429 8219 4766 4484 6876 5329 4492 139 7610 9541 8448 3634 3793 2030 8871 530 2570 5384 6855 9384 9386 5944 6883 5046 6798 4363 1396 7425 5811 2024 3635 3240 242 8401 7724 8197 4808 3294 9416 3496 2834 7863 7130 7706 972 7080 8236 3542 2463 5090 4004 2927 2112 886 7974 8910 5249 9370 7414 2139 2472 1048 5379 3793 527 4181 1990 5335 8554 2484 8832 2466 346 7040 171 2397 5198 9486 7018 7662 4576 1021 1667 7767 1908 9641 6677 8236 89 4090 374 2561 6217 6832 7434 6744 1012 502 3157 644 2986 3067 3110 3332 107 4360 5730 6384 3846 2747 4045 9501 4848 5713 \n",
            "99820017\n"
          ]
        }
      ]
    },
    {
      "cell_type": "code",
      "source": [
        "##input8.txt with expected output8.txt\n",
        "!cat input8.txt\n",
        "!cat output8.txt"
      ],
      "metadata": {
        "colab": {
          "base_uri": "https://localhost:8080/"
        },
        "id": "9Il_goabtRqM",
        "outputId": "20794482-8e66-4bed-c3fd-858eaa1f0416"
      },
      "execution_count": null,
      "outputs": [
        {
          "output_type": "stream",
          "name": "stdout",
          "text": [
            "893\n",
            "6756 6432 5022 4991 6521 9112 5366 161 6407 2197 7595 3150 4289 9176 7387 6012 2161 453 201 6572 1639 4561 3380 8024 8407 7207 3147 8986 2054 9939 7332 8810 6371 2353 3800 3970 2544 244 4131 8951 3521 2804 3180 8889 1979 566 4900 5219 1019 5101 1791 3738 9663 5171 1761 9148 2377 4908 9213 4431 4847 6544 3240 1217 8897 8120 6266 2519 8364 397 1470 1884 4280 5729 772 6260 6295 6752 1478 8393 2931 4348 2130 2593 9520 3891 2820 1896 9879 3111 6328 4725 733 646 7021 9630 8766 3286 3228 7130 4762 4698 92 9043 426 1944 6381 7800 8696 8938 6192 1626 3286 9402 5299 3884 4371 9198 5780 4249 3387 3186 52 4120 4912 8152 4828 3677 2517 8056 1885 7279 2753 3057 7400 4258 5001 4859 3136 4775 3797 9329 7480 8162 9809 3857 3124 4179 4133 8904 9508 7520 3169 638 1639 9160 8791 6468 3915 1307 4523 5801 9665 8356 9937 7065 3692 4937 1923 6829 790 6799 7236 8270 6039 7044 3206 9163 2301 7339 9146 1808 4859 3393 2447 6498 2552 2316 4044 6467 3623 8568 3346 3287 8002 3282 1430 1693 9298 4433 8522 87 1231 5757 9437 8350 2800 3721 7512 5102 1059 7736 7989 5918 1128 1514 3495 3680 3830 7539 1226 7453 6106 4572 1819 5186 8934 3249 6880 8231 7682 5401 9398 9993 1158 9913 8342 5037 3633 6932 1217 4692 4668 9207 1689 5796 720 5184 555 4551 3801 1781 3082 986 7432 5980 6172 6365 9230 3051 5675 7990 9532 5072 9061 1768 6063 8481 6805 9696 5413 9102 5466 1159 9387 8234 8034 106 4496 9668 5736 8298 2527 9898 9284 9960 5877 6534 7403 6185 9586 3077 5254 9117 9228 4314 1963 5290 2795 8768 6064 9287 8948 1530 1524 8334 842 9558 8441 5339 9226 5255 3636 2831 6231 3998 2790 3187 531 1272 9372 1195 4349 4625 1390 4656 18 3353 9946 3892 3200 7089 4257 2147 9698 5781 481 539 5338 0 5878 5642 6334 592 8474 2565 4590 2342 5752 6201 4693 6202 8475 121 1906 9866 4777 1924 4297 5801 5816 7497 2889 72 723 2586 6932 1204 3126 3348 2283 82 8991 9696 675 8543 2260 5265 1963 9091 2544 6657 6372 1019 6778 8278 1963 2633 201 6260 8434 7096 4836 2402 8247 5559 6067 5178 7842 271 8526 1203 354 8595 898 1029 8216 4238 7373 1258 4407 9918 7915 778 936 5771 9056 3978 9483 335 237 7916 8510 6152 1396 6756 1710 7464 3012 630 7735 2617 2912 9168 2290 3811 196 506 8049 7570 1764 2455 7487 757 4313 9502 7607 3368 3479 7089 4783 4795 6083 3292 947 7480 1127 3736 6022 4139 5446 4835 7835 8358 4003 125 2168 4199 631 1295 2847 3474 4830 1412 4231 9143 913 1837 3589 5471 8926 8372 266 6087 1664 2292 3566 3870 6028 666 8009 2552 5502 6923 910 9505 7048 4157 4782 8758 5453 7630 2231 1361 9042 7541 503 1034 456 4092 7584 460 3543 7850 6547 5207 1220 113 9077 8328 1858 8164 879 7360 6165 1789 7943 3212 7026 3804 3048 2478 2512 6358 3839 1553 3898 5421 3666 4354 591 1250 4814 4134 178 1361 419 1399 2553 9496 805 4411 8739 1684 2850 4903 4553 792 9195 1578 4596 3321 5135 7108 9680 52 9741 3577 5473 4485 9011 6064 5735 4903 1277 5914 7343 1696 8392 9896 2271 9197 5386 1009 1959 8236 6991 7591 106 7264 247 5782 585 5382 3968 264 6513 4787 4920 1985 9273 5009 9129 5007 9913 405 1999 7255 2101 1469 8230 4372 1744 3615 6460 4783 2929 4530 2373 4114 2872 3700 9896 3457 9082 4943 4800 5595 9730 799 8659 9002 5808 8866 5088 6799 9271 8166 5133 2451 714 3362 7902 3537 8056 5441 8320 984 9971 1772 6177 3921 5472 6073 8458 5632 2094 4336 2305 1823 5135 964 1904 2022 9830 8071 8821 179 7315 3953 2630 9108 8394 1610 2645 6449 7051 964 8512 8100 2736 4689 2021 9287 1840 478 4919 3934 4814 7224 6836 1028 9267 9819 3050 175 7889 2949 354 6283 7982 4063 5390 6375 6752 8035 3903 3803 9000 2414 2981 2814 8182 5002 2101 1100 6559 8099 5034 2452 5322 2949 3480 5668 2767 7609 5843 1735 1636 7276 8018 9618 2417 3407 7072 9169 2521 974 4050 2599 4467 7032 5413 2649 3112 8593 4828 9672 6691 9863 2123 3092 3890 6682 8760 6657 4290 5681 9471 5926 2956 7488 6623 5373 1974 3694 5620 5574 5747 9671 8173 213 6702 4664 3941 892 3257 8770 563 1026 9711 3765 4118 4679 1525 2877 1335 6894 8558 806 2820 2592 9373 521 9044 2425 5294 4664 7999 1040 5413 6171 2332 3193 835 6274 4085 5171 6122 4649 6197 6911 9493 315 1589 1018 4271 4003 8991 3908 5888 1810 7579 5261 3410 6623 7686 8704 2365 6764 9744 7778 2934 2076 970 4848 9429 5055 1097 6629 782 7295 3539 1354 8689 6207 2372 4038 209 2441 9025 6098 5331 6604 2437 8741 4305 1201 7445 6670 7965 8267 4447 1978 1421 5417 7905 1928 1550 9003 8557 2333 7376 3174 3687 7143 9381 7138 1180 669 9579 1284 6767 4909 8967 282 3650 3271 1483 2173 9941 527 1518 \n",
            "99640203\n"
          ]
        }
      ]
    },
    {
      "cell_type": "code",
      "source": [
        "##input9.txt with expected output9.txt\n",
        "!cat input9.txt\n",
        "!cat output9.txt"
      ],
      "metadata": {
        "colab": {
          "base_uri": "https://localhost:8080/"
        },
        "id": "4Qjne-VHtR2N",
        "outputId": "eb1a1811-0f60-426e-fb2b-e564ff3bd13f"
      },
      "execution_count": null,
      "outputs": [
        {
          "output_type": "stream",
          "name": "stdout",
          "text": [
            "420\n",
            "2505 2940 1961 409 4868 3511 490 4504 6923 7866 7678 609 5008 8138 8826 7268 9886 8405 8552 7731 4392 7518 8013 9121 788 9496 1293 1807 22 2812 8352 3606 6831 312 5095 2777 4902 5585 7281 1825 4530 6038 3513 616 5254 2339 7884 5139 1822 7514 2869 6214 5031 881 5335 6898 1455 7707 9784 2557 1597 8135 7242 9507 9526 2336 2284 5507 9001 643 7332 4609 7760 844 5225 3013 4262 4188 9231 6084 1701 2099 2298 7812 4059 8712 4709 6594 7497 5572 229 9095 4785 7471 8601 5390 886 1963 896 965 2607 9307 5574 366 150 1877 4459 5492 6065 3689 1575 7767 5789 4952 5578 926 4742 1365 7520 2239 8016 8828 2412 3880 6299 1012 9270 8264 4055 165 9229 6662 9472 5881 8107 700 7758 2565 6192 3823 6255 8847 2668 3122 3798 9325 4048 8541 689 2647 1858 9785 1474 4270 3664 7773 6361 2933 7115 415 4177 6343 7077 4727 2223 6263 5427 9982 8828 2698 4883 5082 1544 7551 8204 6421 6875 3331 6040 8643 5978 7898 9506 7452 3246 3169 6304 9608 7181 3418 22 1357 840 8179 6084 4142 4441 2590 5202 3268 6367 84 9430 8990 8714 7633 6489 5588 963 2529 5310 8020 1505 4815 6551 4752 9064 2854 4359 6244 7351 5460 7602 9270 3638 4764 3412 9158 8433 8614 2426 5878 8699 1855 4867 8491 566 1356 4079 2609 4964 467 628 6469 5282 7179 2299 4345 1111 7737 1668 9542 3197 348 8811 7914 5112 3301 7072 4624 1915 576 501 1692 3510 5369 182 5155 7804 5340 7764 2767 6886 9472 9236 3247 7729 2614 8671 8841 350 338 9461 4626 686 8271 2540 6878 2651 690 1501 5645 2345 2002 8416 5855 8450 8598 1009 6253 5017 9853 98 2981 9324 9335 6228 7052 1948 4899 6971 3377 5237 6431 8004 7003 5781 543 3880 9511 2312 6460 5155 4657 9541 3570 1590 7991 3246 3678 5322 9342 3530 5421 2323 3932 5834 8551 2063 8861 3449 112 2237 9766 7623 240 7847 3403 1862 1726 2913 4174 8186 9147 9910 7726 2716 1499 6795 5962 5178 3196 5304 9787 8617 8706 3719 5529 7256 6861 4389 1784 6973 7705 2628 4595 7946 474 9077 886 3279 3068 6140 1464 2214 6049 268 6009 7549 8143 1971 3805 1338 8354 3591 1033 7059 7310 7641 5393 5249 2029 8256 3301 9734 883 7896 8758 1357 8052 723 5715 1119 6863 8258 4413 2911 8527 421 1538 \n",
            "98921620\n"
          ]
        }
      ]
    },
    {
      "cell_type": "code",
      "source": [
        "##input10.txt with expected output5]10.txt\n",
        "!cat input10.txt\n",
        "!cat output10.txt"
      ],
      "metadata": {
        "colab": {
          "base_uri": "https://localhost:8080/"
        },
        "id": "mkpdtJxAtSAI",
        "outputId": "06bdef9c-0869-4f7f-9302-7bf668748643"
      },
      "execution_count": null,
      "outputs": [
        {
          "output_type": "stream",
          "name": "stdout",
          "text": [
            "829\n",
            "3471 5343 164 2903 8935 1197 1040 7323 9917 6434 2572 1945 4689 6952 2757 6652 5926 2594 9088 3977 3317 4803 6176 1258 3060 588 4169 2665 2088 6787 412 5560 2129 576 9542 2142 2852 582 9466 2768 7016 3116 5792 2783 67 9629 513 5993 2222 9602 1049 6618 4404 7225 7876 7464 8892 3123 1208 979 9910 1620 7618 2039 3276 7160 5260 7207 7742 4725 1054 5836 8920 6846 9698 65 6474 211 7138 9775 891 8187 7471 5295 6490 5346 3837 5381 8470 5045 7439 9458 7745 6136 2575 1020 4374 7836 9306 3194 3639 359 108 2559 8285 9806 2624 4758 1095 9762 5612 1986 9027 3082 8360 5516 9508 2197 896 7977 8321 9415 8513 6065 5550 1088 8164 1002 8924 7470 4196 3641 8908 4304 6200 7192 4109 9904 1950 6284 743 8641 8270 9771 1722 7709 5286 1229 9906 7262 284 8226 7755 8798 5370 4383 964 3533 5385 966 2081 9581 4607 989 3884 1886 8181 9072 1789 1209 6434 2532 9850 5783 3381 2651 3491 9747 4959 3396 7008 6323 2700 4762 6199 8070 223 7163 1603 5608 9208 3684 5188 3814 5752 150 5700 3933 300 8568 5142 6735 2179 6071 2517 5560 9801 6008 5306 4759 482 3392 2160 3182 9233 8359 1252 9456 6600 3934 5063 6886 8697 1329 1779 4449 1479 7479 8382 1780 7126 4602 9594 9305 672 2110 5943 472 8118 1249 6311 9679 5720 9550 2860 4953 8988 4112 4408 5587 8046 9472 3552 6743 1879 5331 1191 3359 3888 651 6218 1013 5253 5811 1396 7005 9000 7340 7477 8196 9668 4866 7874 5387 4416 733 1418 3403 5925 5827 68 5049 6377 3620 2870 8256 29 5140 2693 3918 5791 8911 6010 1044 5800 7407 8049 4799 5825 6604 2994 5492 2549 1946 1957 6965 2680 4455 1446 8605 281 1514 3653 7737 6214 7603 7071 6243 2742 9765 1239 8534 9754 7250 656 6633 4656 9784 1431 480 7466 5505 7051 14 7451 86 8058 1209 4541 9504 892 5901 2097 5625 3637 9390 3227 708 5632 5969 1551 6872 5581 1304 5200 6237 7937 9856 7099 447 1414 4565 7031 8465 5658 5560 8551 3716 6770 3092 4298 7662 71 6395 3286 3709 5784 7592 5496 2495 3561 7047 445 9142 9430 5645 6458 8446 6579 4635 8893 7993 278 5923 6457 5937 1482 6086 731 9331 256 6108 8072 328 3582 2436 5116 9366 28 611 2939 3589 8737 4463 3809 8166 107 1345 6611 6686 5981 6582 5757 7338 2504 3292 3274 5066 9379 5084 5475 713 1192 3546 1041 4774 5983 6157 5218 6011 7847 9237 678 6583 3699 5566 5828 3807 6912 2438 1571 3971 9021 7329 1308 2603 620 5662 8748 1077 1824 4223 1791 4095 8848 3911 9948 4830 1147 5166 1919 8994 5481 3676 6656 9180 9243 2483 4065 7233 4921 6716 2282 5020 5123 4669 8703 5743 330 7450 7900 3234 2751 769 7329 1599 4680 7277 7508 5827 3521 506 5900 9002 4182 2555 9260 4503 5038 3325 1735 1037 40 5096 7137 5163 9766 5839 1984 1174 3288 9884 4408 7119 652 1737 9797 6412 92 7304 2238 4692 7810 8138 3693 1992 1771 2952 6495 6809 7356 9310 8926 7396 5484 6062 3637 5249 1900 6701 6424 6267 6584 1910 3385 8316 4726 3181 5806 4818 1564 8044 9510 9374 7261 4281 2444 9032 8313 18 6920 5668 406 5845 4143 5890 1906 8859 1139 3806 5559 8642 1151 3222 551 4537 2616 6357 8797 8422 1174 360 6465 1763 813 4804 7123 3257 4915 5435 3275 1834 2182 4760 8758 7404 650 663 6262 2868 5548 2900 2588 6699 6122 3139 2314 8738 574 2190 7159 1749 3629 4702 4591 4442 9507 1713 7700 4421 8228 2053 7334 1488 6814 6091 8892 8543 6754 6232 1410 3380 9132 3998 1157 6332 8216 4551 5069 8791 6741 2227 1618 369 6930 6209 4812 7515 9001 3590 1935 8307 6722 9269 9795 3535 6438 9765 2077 4270 7076 4566 7650 6207 8564 8807 2539 6780 3357 8687 6649 1176 914 8267 2625 8923 4475 7437 7516 4554 2105 9451 2861 8827 9798 3734 2362 7314 3499 5518 1583 574 84 9233 7860 9727 9118 1477 6506 3554 164 3154 4730 2157 2499 7355 2158 6974 5870 9674 2607 7975 202 5468 7881 1078 9202 1321 8392 3779 6839 9975 5432 8002 9207 3292 7729 9403 5848 5313 2956 6012 9547 8766 9248 2045 7199 1405 98 4148 2157 2705 2122 2359 9252 1081 4516 9532 2402 2907 3311 320 2881 8743 8322 3166 3113 7129 2569 8962 2442 6604 6052 3067 5369 5300 5112 3647 7784 5210 7795 9942 8994 995 3379 8245 2077 7896 7777 4479 1881 2166 4799 4763 908 4200 9008 5101 1328 2655 4062 4849 9260 113 7916 5707 6492 3028 9354 4276 9317 7148 5296 9390 8144 9754 7634 220 8728 6489 5778 609 8655 1656 6451 642 5856 6537 5743 \n",
            "99231300\n"
          ]
        }
      ]
    },
    {
      "cell_type": "markdown",
      "metadata": {
        "id": "9z9yr5QkeyJF"
      },
      "source": [
        "### Test 4  time test  measure the execution time running with the the largest worst cases input11.txt  (200000 increasing numbers) and input12.txt (199998 increasing numbers and  200000, 200000 at the end)"
      ]
    },
    {
      "cell_type": "code",
      "source": [
        "# input11.txt 200000 increasing numbers:  1 2 .. 200000\n",
        "\n",
        "%%writefile WriteTest.cpp\n",
        "\n",
        "#include <iostream>\n",
        "#include <fstream>\n",
        "#include <cstdlib>\n",
        "\n",
        "using namespace std;\n",
        "\n",
        "int main() {\n",
        "  // Create and open a text file\n",
        "  ofstream MyFile(\"input11.txt\");\n",
        "\n",
        " MyFile << 200000 <<\"\\n\";  // n\n",
        " for (int i=1; i <200001; i++){\n",
        "     MyFile << i <<\" \";\n",
        " }\n",
        "\n",
        "  // Close the file\n",
        "  MyFile.close();\n",
        "}"
      ],
      "metadata": {
        "colab": {
          "base_uri": "https://localhost:8080/"
        },
        "id": "UmB1ipWM_nSk",
        "outputId": "bf7f6985-307f-483a-9784-c7970816d25e"
      },
      "execution_count": 50,
      "outputs": [
        {
          "output_type": "stream",
          "name": "stdout",
          "text": [
            "Writing WriteTest.cpp\n"
          ]
        }
      ]
    },
    {
      "cell_type": "code",
      "execution_count": 51,
      "metadata": {
        "id": "EH25TkOkZfD9"
      },
      "outputs": [],
      "source": [
        "!g++ WriteTest.cpp -o WriteTest\n",
        "!./WriteTest"
      ]
    },
    {
      "cell_type": "code",
      "source": [
        "199999 * 200000"
      ],
      "metadata": {
        "colab": {
          "base_uri": "https://localhost:8080/"
        },
        "id": "j0mokSOnCCtZ",
        "outputId": "bf7dccec-3b0c-4331-caa0-e00a44983362"
      },
      "execution_count": null,
      "outputs": [
        {
          "output_type": "execute_result",
          "data": {
            "text/plain": [
              "39999800000"
            ]
          },
          "metadata": {},
          "execution_count": 71
        }
      ]
    },
    {
      "cell_type": "code",
      "source": [
        "%%writefile output11.txt\n",
        "39999800000"
      ],
      "metadata": {
        "id": "VoDhDV73B5Mo",
        "colab": {
          "base_uri": "https://localhost:8080/"
        },
        "outputId": "6dd49b60-a0b8-43d8-9f74-e31b66c852a3"
      },
      "execution_count": 52,
      "outputs": [
        {
          "output_type": "stream",
          "name": "stdout",
          "text": [
            "Writing output11.txt\n"
          ]
        }
      ]
    },
    {
      "cell_type": "code",
      "execution_count": 53,
      "metadata": {
        "colab": {
          "base_uri": "https://localhost:8080/"
        },
        "id": "oLiMjbAIfPlX",
        "outputId": "5a4f727d-06ae-44a8-86d2-526fc977d48c"
      },
      "outputs": [
        {
          "output_type": "stream",
          "name": "stdout",
          "text": [
            "Overwriting WriteTest.cpp\n"
          ]
        }
      ],
      "source": [
        "# input12.txt 200000 decreasing numbers and 200000, 199999 ...  2 1\n",
        "\n",
        "%%writefile WriteTest.cpp\n",
        "\n",
        "#include <iostream>\n",
        "#include <fstream>\n",
        "#include <cstdlib>\n",
        "\n",
        "using namespace std;\n",
        "\n",
        "int main() {\n",
        "  // Create and open a text file\n",
        "  ofstream MyFile(\"input12.txt\");\n",
        "\n",
        " MyFile << 200000 <<\"\\n\";  // n\n",
        " for (int i=1; i <200001; i++){\n",
        "     MyFile << 200001-i <<\" \";\n",
        " }\n",
        "\n",
        "  // Close the file\n",
        "  MyFile.close();\n",
        "}"
      ]
    },
    {
      "cell_type": "code",
      "source": [
        "!g++ WriteTest.cpp -o WriteTest\n",
        "!./WriteTest"
      ],
      "metadata": {
        "id": "oULNBr_zAd9c"
      },
      "execution_count": 54,
      "outputs": []
    },
    {
      "cell_type": "code",
      "source": [
        "%%writefile output12.txt\n",
        "39999800000"
      ],
      "metadata": {
        "colab": {
          "base_uri": "https://localhost:8080/"
        },
        "id": "PQLyocaFB-y4",
        "outputId": "7ed07dcc-3c46-47c4-c3ed-00cb69d5af2e"
      },
      "execution_count": 55,
      "outputs": [
        {
          "output_type": "stream",
          "name": "stdout",
          "text": [
            "Writing output12.txt\n"
          ]
        }
      ]
    },
    {
      "cell_type": "markdown",
      "metadata": {
        "id": "JB6f03qO-lj9"
      },
      "source": [
        "### Measure time\n",
        "\n",
        "https://askubuntu.com/questions/53444/how-can-i-measure-the-execution-time-of-a-terminal-process"
      ]
    },
    {
      "cell_type": "code",
      "execution_count": 56,
      "metadata": {
        "colab": {
          "base_uri": "https://localhost:8080/"
        },
        "id": "6p2QLEr576zk",
        "outputId": "d28e7f80-54f3-4d8c-8c52-5d16b250f4fe"
      },
      "outputs": [
        {
          "output_type": "stream",
          "name": "stdout",
          "text": [
            "39999800000\n",
            "\n",
            "real\t5m8.502s\n",
            "user\t5m3.650s\n",
            "sys\t0m0.144s\n"
          ]
        }
      ],
      "source": [
        "!g++ max_pairwise_product_long_full.cpp -o max_pairwise_product_long_full\n",
        "!time ./max_pairwise_product_long_full< input11.txt"
      ]
    },
    {
      "cell_type": "code",
      "source": [
        "!g++ max_pairwise_product_long_full.cpp -o max_pairwise_product_long_full\n",
        "!time ./max_pairwise_product_long_full< input12.txt"
      ],
      "metadata": {
        "colab": {
          "base_uri": "https://localhost:8080/"
        },
        "id": "cnjCyeUdAnZj",
        "outputId": "c730d1ef-d4cb-4e95-c449-c2041ca236a0"
      },
      "execution_count": null,
      "outputs": [
        {
          "output_type": "stream",
          "name": "stdout",
          "text": [
            "39999800000\n",
            "\n",
            "real\t4m46.585s\n",
            "user\t4m43.714s\n",
            "sys\t0m0.110s\n"
          ]
        }
      ]
    },
    {
      "cell_type": "markdown",
      "metadata": {
        "id": "FXClpBsUJuXC"
      },
      "source": [
        "### Calculate the number or and upper bound to the number of instructions executed by the algorithm as a function of n, add in each line a comment with the number of instructions that are executed in that line."
      ]
    },
    {
      "cell_type": "markdown",
      "source": [],
      "metadata": {
        "id": "FvGeLN_s6SJl"
      }
    },
    {
      "cell_type": "code",
      "execution_count": 57,
      "metadata": {
        "colab": {
          "base_uri": "https://localhost:8080/"
        },
        "id": "uG6Mv-Pwlkii",
        "outputId": "c0819d94-57dd-41e5-a895-e5933a13a9b9"
      },
      "outputs": [
        {
          "output_type": "stream",
          "name": "stdout",
          "text": [
            "Overwriting max_pairwise_product_long_full.cpp\n"
          ]
        }
      ],
      "source": [
        "%%writefile max_pairwise_product_long_full.cpp\n",
        "#include <iostream>\n",
        "#include <vector>\n",
        "#include <algorithm>\n",
        "\n",
        "long long MaxPairwiseProduct(const std::vector<int>& numbers) {              //INSTRUCTIONS executed by line\n",
        "    long long max_product = 0LL;                                             //1\n",
        "\t  long long aux_product = 0LL;                                             //1\n",
        "    int n = numbers.size();                                                  //1\n",
        "\n",
        "    for (int first = 0; first < n; ++first) {                                //2+2n\n",
        "        for (int second = 0; second < n; ++second) {                         //2n + 2n**2\n",
        "          if ( first != second ){                                            //n**2\n",
        "                aux_product = numbers[first] * numbers[second];              //n**2 -n\n",
        "                if (aux_product > max_product)                               //n**2 -n\n",
        "                    max_product = aux_product;                               //[0, n**2/2 - n/2] upper bound\n",
        "          }\n",
        "        }\n",
        "    }\n",
        "\n",
        "                                                                             // --------------\n",
        "    return max_product;                                                      // 5 + 2*n + [5*n**2, 11*n**2/2  - n/2]  upper bound\n",
        "}\n",
        "\n",
        "int main() {                                              //INSTRUCTIONS executed by line\n",
        "    int n;                                                //1\n",
        "    std::cin >> n;                                        //1\n",
        "    std::vector<int> numbers(n);                          //n\n",
        "    for (int i = 0; i < n; ++i) {                         //2 + 2n\n",
        "        std::cin >> numbers[i];                           //n\n",
        "    }\n",
        "\n",
        "    std::cout << MaxPairwiseProduct(numbers) << \"\\n\";     //1 + 1  + 5 + 2*n + [5*n**2, 11*n**2/2  - n/2]\n",
        "\n",
        "    return 0;                                             // --------------\n",
        "}                                                         //  11 + 6*n + [5*n**2, 11*n**2/2  - n/2]  upper bound\n"
      ]
    },
    {
      "cell_type": "markdown",
      "metadata": {
        "id": "0vTsUg8OwcHs"
      },
      "source": [
        "### Count executed instructions in code"
      ]
    },
    {
      "cell_type": "code",
      "execution_count": null,
      "metadata": {
        "colab": {
          "base_uri": "https://localhost:8080/"
        },
        "id": "CuRKkqQc137V",
        "outputId": "126567c8-467d-4174-9117-d1ed723f0f7f"
      },
      "outputs": [
        {
          "output_type": "stream",
          "name": "stdout",
          "text": [
            "Overwriting max_pairwise_product_long_full_execints.cpp\n"
          ]
        }
      ],
      "source": [
        "%%writefile max_pairwise_product_long_full_execints.cpp\n",
        "#include <iostream>\n",
        "#include <vector>\n",
        "#include <algorithm>\n",
        "\n",
        "long long MaxPairwiseProduct(const std::vector<int>& numbers, long long &execints) {      //INSTRUCTIONS executed by line\n",
        "\n",
        "    long long max_product = 0LL;                                                          //1\n",
        "    execints++;\n",
        "\n",
        "\t  long long aux_product = 0LL;                                                          //1\n",
        "    execints++;\n",
        "\n",
        "    int n = numbers.size();                                                               //1\n",
        "    execints++;\n",
        "\n",
        "    execints++;\n",
        "    for (int first = 0; first < n; ++first) {                                             //2+2n\n",
        "        execints += 2;\n",
        "\n",
        "        execints++;\n",
        "        for (int second = 0; second < n; ++second) {                                       //2n + 2n**2\n",
        "          execints += 2;\n",
        "\n",
        "          execints++;\n",
        "          if ( first != second ){                                                         //n**2\n",
        "                aux_product = numbers[first] * numbers[second];                           //n**2 -n\n",
        "                execints++;\n",
        "\n",
        "                execints++;\n",
        "                if (aux_product > max_product){                                           //n**2 -n\n",
        "                    max_product = aux_product;                                            //[0,n**2/2 - n/2)  upper bound\n",
        "                    execints++;\n",
        "\n",
        "                }\n",
        "        }\n",
        "\n",
        "      }\n",
        "      execints++;\n",
        "    }\n",
        "    execints++;\n",
        "                                                                                        // --------------\n",
        "    return max_product;                                                                 // 5 + 2*n + [5*n**2, 11*n**2/2  - n/2] upper bound\n",
        "}\n",
        "\n",
        "int main() {                                                 //INSTRUCTIONS executed by line\n",
        "\n",
        "    long long execints =0LL;\n",
        "\n",
        "    int n;                                                   //1\n",
        "    execints++;\n",
        "\n",
        "    std::cin >> n;                                           //1\n",
        "    execints++;\n",
        "\n",
        "    std::vector<int> numbers(n);                             //n\n",
        "    execints += n;\n",
        "\n",
        "    execints++;\n",
        "    for (int i = 0; i < n; ++i) {                            //2 + 2n\n",
        "        execints += 2;\n",
        "\n",
        "        std::cin >> numbers[i];\n",
        "        execints++;                                          //n\n",
        "\n",
        "    }\n",
        "\n",
        "\n",
        "    //std::cout << MaxPairwiseProduct(numbers) << \"\\n\";      //1 + 1  + 5 + 2*n + [5*n**2, 11*n**2/2  - n/2] upper bound\n",
        "\n",
        "    execints++;\n",
        "    int M = MaxPairwiseProduct(numbers,execints);\n",
        "\n",
        "    execints++;\n",
        "    std::cout <<  execints << \"\\n\";\n",
        "    return 0;                                                // --------------\n",
        "}                                                            // 11 + 6*n + [5*n**2, 11*n**2/2  - n/2]\n"
      ]
    },
    {
      "cell_type": "markdown",
      "source": [
        "The number of instructions executed by the algorithm with a list of size $n$ is  \n",
        "\n",
        "$$T (n) = 11 + 6n + \\left[5n^2, 11\\frac{n^2}{2}  - \\frac{n}{2}\\right)  >  6n^2 = O(n^2)$$\n",
        "\n",
        "It depends on the size of the lists and  the order of the list.\n",
        "\n",
        "For the input0.txt\n",
        "```\n",
        "10\n",
        "0 0 0 0 0 0 0 0 0 0\n",
        "```\n",
        "$$T = 11 + 6(10) + 5(10)^2   = 561 $$\n",
        "\n",
        "$$T(10) \\in [571, 621)  $$\n"
      ],
      "metadata": {
        "id": "cUjHtvtdDsmr"
      }
    },
    {
      "cell_type": "code",
      "source": [
        "!g++ max_pairwise_product_long_full_execints.cpp -o max_pairwise_product_long_full_execints\n",
        "!./max_pairwise_product_long_full_execints < input0.txt"
      ],
      "metadata": {
        "colab": {
          "base_uri": "https://localhost:8080/"
        },
        "id": "Om9Fevb0miAT",
        "outputId": "d3493a59-cfb0-4221-be9b-71fb71be5520"
      },
      "execution_count": null,
      "outputs": [
        {
          "output_type": "stream",
          "name": "stdout",
          "text": [
            "570\n"
          ]
        }
      ]
    },
    {
      "cell_type": "markdown",
      "source": [
        "For the input1.txt\n",
        "```\n",
        "10\n",
        "1 2 3 4 5 6 7 8 9 10\n",
        "```\n",
        "$$T = 11 + 6(10) + 5(10)^2 +  9 + 5 + 4 + 3 + 2 + 2 + 2 + 2 + 1 + 0  = 601 $$\n",
        "\n",
        "$$T(10) \\in [572, 622)  $$\n"
      ],
      "metadata": {
        "id": "FwJzZ6VzmArY"
      }
    },
    {
      "cell_type": "code",
      "source": [
        "#The number of times that  max_product = aux_product; in the worst case is less than (n**2 -n)/2 -  upper bound\n",
        "\n",
        "#     1  2  3  4  5  6  7  8  9  10\n",
        "#  1  x  2  3  4  5  6  7  8  9  10         9\n",
        "#  2  2  x  6  8  10 12 14 16 18 20         5 14\n",
        "#  3  3  6  x  12 15 18 21 24 27 30         4 18\n",
        "#  4  4  8  12 x  20 24 28 32 36 40         3 21\n",
        "#  5  5  10 15 20 x  30 35 40 45 50         2 23\n",
        "#  6  6  12 18 24 30 x  42 48 54 60         2 25\n",
        "#  7  7  14 21 28 35 42 x  56 63 70         2 27\n",
        "#  8  8  18 27 36 45 54 63 72 x  90         1 30\n",
        "#  10 10 20 30 40 50 60 70 60 90 x          0"
      ],
      "metadata": {
        "id": "K59xQMWiBNFj"
      },
      "execution_count": null,
      "outputs": []
    },
    {
      "cell_type": "code",
      "source": [
        "11 + 6*(10) + 5*(10)*(10) +  9 + 5 + 4 + 3 + 2 + 2 + 2 + 2 + 1 + 0"
      ],
      "metadata": {
        "colab": {
          "base_uri": "https://localhost:8080/"
        },
        "id": "E3O8dzFfEgir",
        "outputId": "ac59d07f-df6e-41bb-88d4-535e5d44c0c6"
      },
      "execution_count": null,
      "outputs": [
        {
          "output_type": "execute_result",
          "data": {
            "text/plain": [
              "601"
            ]
          },
          "metadata": {},
          "execution_count": 6
        }
      ]
    },
    {
      "cell_type": "code",
      "source": [
        "n = 10\n",
        "print( \"[\", 11 + 6*n + 5*n**2,  \",\", 11 + 6*n  + 5.5*n**2, \")\")"
      ],
      "metadata": {
        "colab": {
          "base_uri": "https://localhost:8080/"
        },
        "id": "TCpdl5u_Gq1a",
        "outputId": "3af0c3b6-0846-45ee-85fa-df148159d33d"
      },
      "execution_count": null,
      "outputs": [
        {
          "output_type": "stream",
          "name": "stdout",
          "text": [
            "[ 571 , 621.0 )\n"
          ]
        }
      ]
    },
    {
      "cell_type": "code",
      "execution_count": null,
      "metadata": {
        "colab": {
          "base_uri": "https://localhost:8080/"
        },
        "id": "Kuvm1C05ly2a",
        "outputId": "fc55b3c4-0a46-4f28-dbc3-05b419845cd8"
      },
      "outputs": [
        {
          "output_type": "stream",
          "name": "stdout",
          "text": [
            "/bin/bash: line 1: input1.txt: No such file or directory\n"
          ]
        }
      ],
      "source": [
        "!g++ max_pairwise_product_long_full_execints.cpp -o max_pairwise_product_long_full_execints\n",
        "!./max_pairwise_product_long_full_execints < input1.txt"
      ]
    },
    {
      "cell_type": "markdown",
      "source": [
        "\n",
        "For the input2.txt\n",
        "```\n",
        "10\n",
        "10 9 8 7 6 5 4 3 2 1\n",
        "```\n",
        "$$T = 11 + 6*(10) + 5*(10)**2 +  1  = 571 $$"
      ],
      "metadata": {
        "id": "Yr_Lb7CaHfxB"
      }
    },
    {
      "cell_type": "code",
      "source": [
        "11 + 6*(10) + 5*(10)**2 +  1"
      ],
      "metadata": {
        "colab": {
          "base_uri": "https://localhost:8080/"
        },
        "id": "HOdqlwJiZUIp",
        "outputId": "1b17f293-6ed7-46ec-e60d-d5aec8e7a0c0"
      },
      "execution_count": null,
      "outputs": [
        {
          "output_type": "execute_result",
          "data": {
            "text/plain": [
              "572"
            ]
          },
          "metadata": {},
          "execution_count": 142
        }
      ]
    },
    {
      "cell_type": "code",
      "source": [
        "!g++ max_pairwise_product_long_full_execints.cpp -o max_pairwise_product_long_full_execints\n",
        "!./max_pairwise_product_long_full_execints < input2.txt"
      ],
      "metadata": {
        "id": "_znzLectjFSe",
        "colab": {
          "base_uri": "https://localhost:8080/"
        },
        "outputId": "b9831f64-5704-4b08-b9fb-451e850c5739"
      },
      "execution_count": null,
      "outputs": [
        {
          "output_type": "stream",
          "name": "stdout",
          "text": [
            "571\n"
          ]
        }
      ]
    },
    {
      "cell_type": "markdown",
      "metadata": {
        "id": "NXW7QkoBL6xH"
      },
      "source": [
        "Calculate estimated time by instruction and number of instructions by second"
      ]
    },
    {
      "cell_type": "markdown",
      "source": [
        "For the input11.txt\n",
        "```\n",
        "200000\n",
        "1 2 ..  199999 2000\n",
        "```\n",
        "$$T = 11 + 6*(200000) + 5.5*(200000)**2  = 200001200012  $$"
      ],
      "metadata": {
        "id": "dlyRjaohz-YH"
      }
    },
    {
      "cell_type": "code",
      "source": [
        "!g++ max_pairwise_product_long_full_execints.cpp -o max_pairwise_product_long_full_execints\n",
        "!./max_pairwise_product_long_full_execints < input11.txt"
      ],
      "metadata": {
        "colab": {
          "base_uri": "https://localhost:8080/"
        },
        "id": "BMH8mF3EKn2w",
        "outputId": "f413b1eb-ebd1-4ee9-a94b-b98d357ddb6a"
      },
      "execution_count": null,
      "outputs": [
        {
          "output_type": "stream",
          "name": "stdout",
          "text": [
            "^C\n"
          ]
        }
      ]
    },
    {
      "cell_type": "code",
      "execution_count": null,
      "metadata": {
        "colab": {
          "base_uri": "https://localhost:8080/"
        },
        "id": "pKqB3i7dIxnc",
        "outputId": "021b9011-dc3c-4fc9-e378-233854a6af70"
      },
      "outputs": [
        {
          "output_type": "execute_result",
          "data": {
            "text/plain": [
              "1.474976569326082e-09"
            ]
          },
          "metadata": {},
          "execution_count": 87
        }
      ],
      "source": [
        "# Estimated time by instruction\n",
        "\n",
        "295/200003177091\n"
      ]
    },
    {
      "cell_type": "code",
      "execution_count": null,
      "metadata": {
        "colab": {
          "base_uri": "https://localhost:8080/"
        },
        "id": "18N1ouqeMhE1",
        "outputId": "790f965d-3de5-416e-a53b-4946121db21f"
      },
      "outputs": [
        {
          "output_type": "execute_result",
          "data": {
            "text/plain": [
              "677976871.4949152"
            ]
          },
          "metadata": {},
          "execution_count": 88
        }
      ],
      "source": [
        "# Estimated number of instructions by second\n",
        "\n",
        "200003177091/295"
      ]
    },
    {
      "cell_type": "markdown",
      "source": [
        "### Estimate and verify the maximun n that can be solved in 1 second\n",
        "\n",
        "$$(5.5n^2 + 5.5n + 11) \\times 1.47*10^{-9} s = 1 s$$\n",
        "\n",
        "$$ n \\approx 11000$$\n"
      ],
      "metadata": {
        "id": "KyuxejFkL5X_"
      }
    },
    {
      "cell_type": "code",
      "source": [
        "# Verify input13.txt\n",
        "%%writefile WriteTest.cpp\n",
        "\n",
        "#include <iostream>\n",
        "#include <fstream>\n",
        "#include <cstdlib>\n",
        "\n",
        "using namespace std;\n",
        "\n",
        "int main() {\n",
        "  // Create and open a text file\n",
        "  ofstream MyFile(\"input13.txt\");\n",
        "\n",
        " MyFile << 11000 <<\"\\n\";  // n\n",
        " for (int i=1; i <11001; i++){\n",
        "     MyFile << i <<\" \";\n",
        " }\n",
        "\n",
        "  // Close the file\n",
        "  MyFile.close();\n",
        "}"
      ],
      "metadata": {
        "colab": {
          "base_uri": "https://localhost:8080/"
        },
        "id": "WXu5jp-DLTOI",
        "outputId": "dfdf9f48-0ac1-4edc-acd5-d770569164b2"
      },
      "execution_count": null,
      "outputs": [
        {
          "output_type": "stream",
          "name": "stdout",
          "text": [
            "Overwriting WriteTest.cpp\n"
          ]
        }
      ]
    },
    {
      "cell_type": "code",
      "source": [
        "!g++ WriteTest.cpp -o WriteTest\n",
        "!./WriteTest"
      ],
      "metadata": {
        "id": "AQ8N52pUMCeT"
      },
      "execution_count": null,
      "outputs": []
    },
    {
      "cell_type": "code",
      "source": [
        "10999 * 11000"
      ],
      "metadata": {
        "colab": {
          "base_uri": "https://localhost:8080/"
        },
        "id": "2iIOdbTrEtBx",
        "outputId": "3c9c3282-9735-4c3d-c6e9-0a216529e7b4"
      },
      "execution_count": null,
      "outputs": [
        {
          "output_type": "execute_result",
          "data": {
            "text/plain": [
              "120989000"
            ]
          },
          "metadata": {},
          "execution_count": 91
        }
      ]
    },
    {
      "cell_type": "code",
      "source": [
        "!g++ max_pairwise_product_long_full.cpp -o max_pairwise_product_long_full\n",
        "!time ./max_pairwise_product_long_full< input13.txt"
      ],
      "metadata": {
        "colab": {
          "base_uri": "https://localhost:8080/"
        },
        "id": "ussuAokfM2du",
        "outputId": "dd9469ae-a809-42f0-aaae-1b539352b7e0"
      },
      "execution_count": null,
      "outputs": [
        {
          "output_type": "stream",
          "name": "stdout",
          "text": [
            "120989000\n",
            "\n",
            "real\t0m1.411s\n",
            "user\t0m1.360s\n",
            "sys\t0m0.004s\n"
          ]
        }
      ]
    },
    {
      "cell_type": "markdown",
      "metadata": {
        "id": "Tm_AVmt-QQH4"
      },
      "source": [
        "## Python"
      ]
    },
    {
      "cell_type": "code",
      "execution_count": null,
      "metadata": {
        "id": "gRCCcd7IQTKZ"
      },
      "outputs": [],
      "source": []
    },
    {
      "cell_type": "code",
      "execution_count": null,
      "metadata": {
        "id": "hjw7TJrDL0d-"
      },
      "outputs": [],
      "source": [
        "# Verify"
      ]
    },
    {
      "cell_type": "markdown",
      "source": [
        "# For the following solutions required  the same tests and analysis performed for the first solution"
      ],
      "metadata": {
        "id": "fEZR-3V4ZjCv"
      }
    },
    {
      "cell_type": "markdown",
      "metadata": {
        "id": "MKQKSC-vKePK"
      },
      "source": [
        "## Solutions in C++ and Python that uses\n",
        "$$\\frac{n^2 - n}{2} = O(n^2)\\ \\ \\text{products}$$"
      ]
    },
    {
      "cell_type": "code",
      "execution_count": null,
      "metadata": {
        "id": "jkkHHoxSK65p",
        "colab": {
          "base_uri": "https://localhost:8080/"
        },
        "outputId": "b10ce097-73d5-4861-f2be-a0a21d1200fb"
      },
      "outputs": [
        {
          "output_type": "stream",
          "name": "stdout",
          "text": [
            "Overwriting max_pairwise_product.cpp\n"
          ]
        }
      ],
      "source": [
        "%%writefile max_pairwise_product.cpp\n",
        "#include <iostream>\n",
        "#include <vector>\n",
        "#include <algorithm>\n",
        "\n",
        "int MaxPairwiseProduct(const std::vector<int>& numbers) {\n",
        "    int max_product = 0;\n",
        "    int n = numbers.size();\n",
        "\n",
        "    for (int first = 0; first < n; ++first) {\n",
        "        for (int second = first + 1; second < n; ++second) {\n",
        "            max_product = std::max(max_product,\n",
        "                numbers[first] * numbers[second]);\n",
        "        }\n",
        "    }\n",
        "\n",
        "    return max_product;\n",
        "}\n",
        "\n",
        "int main() {\n",
        "    int n;\n",
        "    std::cin >> n;\n",
        "    std::vector<int> numbers(n);\n",
        "    for (int i = 0; i < n; ++i) {\n",
        "        std::cin >> numbers[i];\n",
        "    }\n",
        "\n",
        "    std::cout << MaxPairwiseProduct(numbers) << \"\\n\";\n",
        "    return 0;\n",
        "}\n",
        "\n"
      ]
    },
    {
      "cell_type": "code",
      "execution_count": null,
      "metadata": {
        "id": "sU8-Ote7K8vz",
        "colab": {
          "base_uri": "https://localhost:8080/"
        },
        "outputId": "a39cabd3-8133-4939-f5d8-70cbdb719e27"
      },
      "outputs": [
        {
          "output_type": "stream",
          "name": "stdout",
          "text": [
            "Overwriting max_pairwise_product_long.cpp\n"
          ]
        }
      ],
      "source": [
        "%%writefile max_pairwise_product_long.cpp\n",
        "#include <iostream>\n",
        "#include <vector>\n",
        "#include <algorithm>\n",
        "\n",
        "long long MaxPairwiseProduct(const std::vector<int>& numbers) {              //INSTRUCTIONS executed by line\n",
        "    long long max_product = 0LL;                                             //1\n",
        "\t  long long aux_product = 0LL;                                             //1\n",
        "    int n = numbers.size();                                                  //1\n",
        "\n",
        "    for (int first = 0; first < n; ++first) {                                //2+2n\n",
        "        for (int second = first + 1; second < n; ++second) {                 //2n + (n-1)n\n",
        "\t\t\t       aux_product =  (long long) numbers[first] * numbers[second];    //(n-1)n/2\n",
        "            if (max_product < aux_product)  {                                //(n-1)n/2\n",
        "\t\t\t\t        max_product = aux_product;                                   //[1,(n-1)n/2)  upper bound\n",
        "             }\n",
        "        }\n",
        "    }\n",
        "                                                                             // --------------\n",
        "    return max_product;                                                      // 5 + 4n + [2(n-1)n+1, 2.5 (n-1)n) upper bound\n",
        "}\n",
        "\n",
        "int main() {                                              //INSTRUCTIONS executed by line\n",
        "    int n;                                                //1\n",
        "    std::cin >> n;                                        //1\n",
        "    std::vector<int> numbers(n);                          //n\n",
        "    for (int i = 0; i < n; ++i) {                         //2 + 2n\n",
        "        std::cin >> numbers[i];                           //n\n",
        "    }\n",
        "\n",
        "    std::cout << MaxPairwiseProduct(numbers) << \"\\n\";     //1 + 1  + 5 + 4n + [2(n-1)n+1, 2.5 (n-1)n) upper bound\n",
        "    return 0;                                             // --------------\n",
        "}                                                         // 11 + 7n + [2(n-1)n+1, 2.5 (n-1)n) upper bound\n"
      ]
    },
    {
      "cell_type": "markdown",
      "source": [
        "### Estimate and verify the maximum n that can be solved in 1 second\n",
        "\n"
      ],
      "metadata": {
        "id": "zxCvxiB-XQJh"
      }
    },
    {
      "cell_type": "code",
      "source": [
        "%%writefile max_n_in_a_second.cpp\n",
        "#include <iostream>\n",
        "#include <vector>\n",
        "#include <chrono>\n",
        "\n",
        "// Function to calculate the maximum pairwise product\n",
        "long long MaxPairwiseProduct(const std::vector<int>& numbers) {\n",
        "    long long max_product = 0LL;\n",
        "    int n = numbers.size();\n",
        "\n",
        "    for (int first = 0; first < n; ++first) {\n",
        "        for (int second = first + 1; second < n; ++second) {\n",
        "            long long aux_product = (long long)numbers[first] * numbers[second];\n",
        "            if (aux_product > max_product) {\n",
        "                max_product = aux_product;\n",
        "            }\n",
        "        }\n",
        "    }\n",
        "\n",
        "    return max_product;\n",
        "}\n",
        "\n",
        "int main() {\n",
        "    int n = 10; // Initial value of n\n",
        "    auto start_time = std::chrono::high_resolution_clock::now();\n",
        "\n",
        "    // Loop to find the maximum n that can be solved in 1 second\n",
        "    while (true) {\n",
        "        // Generate input data of size n\n",
        "        std::vector<int> input_data(n, 1); // Initialize input data with all elements as 1\n",
        "\n",
        "        // Measure the execution time\n",
        "        auto start = std::chrono::high_resolution_clock::now();\n",
        "        MaxPairwiseProduct(input_data);\n",
        "        auto end = std::chrono::high_resolution_clock::now();\n",
        "\n",
        "        // Calculate the elapsed time\n",
        "        double elapsed_time = std::chrono::duration_cast<std::chrono::milliseconds>(end - start).count() / 1000.0;\n",
        "\n",
        "        // Check if the elapsed time exceeds 1 second\n",
        "        if (elapsed_time >= 1.0) {\n",
        "            break; // Stop the loop if elapsed time exceeds 1 second\n",
        "        }\n",
        "\n",
        "        // Double the value of n for the next iteration\n",
        "        n *= 2;\n",
        "    }\n",
        "\n",
        "    auto end_time = std::chrono::high_resolution_clock::now();\n",
        "    double total_time = std::chrono::duration_cast<std::chrono::milliseconds>(end_time - start_time).count() / 1000.0;\n",
        "\n",
        "    // Print the maximum n that can be solved in 1 second\n",
        "    std::cout << \"Maximum n that can be solved in 1 second: \" << n << std::endl;\n",
        "    std::cout << \"Total execution time: \" << total_time << \" seconds\" << std::endl;\n",
        "\n",
        "    return 0;\n",
        "}\n"
      ],
      "metadata": {
        "colab": {
          "base_uri": "https://localhost:8080/"
        },
        "id": "E1vSyjI8mvcF",
        "outputId": "c4988513-1e52-470a-cee2-0399eccff2aa"
      },
      "execution_count": null,
      "outputs": [
        {
          "output_type": "stream",
          "name": "stdout",
          "text": [
            "Overwriting max_n_in_a_second.cpp\n"
          ]
        }
      ]
    },
    {
      "cell_type": "code",
      "source": [
        "!g++ -o max_n_in_a_second max_n_in_a_second.cpp\n",
        "!./max_n_in_a_second"
      ],
      "metadata": {
        "colab": {
          "base_uri": "https://localhost:8080/"
        },
        "id": "-jH82nT5qYEJ",
        "outputId": "14acb1a3-bd07-4a90-f25f-3420f69472c9"
      },
      "execution_count": null,
      "outputs": [
        {
          "output_type": "stream",
          "name": "stdout",
          "text": [
            "Maximum n that can be solved in 1 second: 20480\n",
            "Total execution time: 1.829 seconds\n"
          ]
        }
      ]
    },
    {
      "cell_type": "code",
      "source": [
        "%%writefile  stress_test_of_size_n.cpp\n",
        "\n",
        "#include <iostream>\n",
        "#include <vector>\n",
        "#include <fstream>\n",
        "#include <cstdlib> // for rand()\n",
        "#include <ctime>   // for seeding srand()\n",
        "\n",
        "using namespace std;\n",
        "\n",
        "// Generate a random integer in a specified range\n",
        "int random_int(int min, int max) {\n",
        "    return min + rand() % (max - min + 1);\n",
        "}\n",
        "\n",
        "// Generate a stress test of size n\n",
        "void generate_stress_test(int n, int min_value, int max_value) {\n",
        "    srand(time(nullptr)); // Seed srand with current time\n",
        "\n",
        "    // Generate input file\n",
        "    ofstream input_file(\"stress_test_of_size_n.txt\");\n",
        "    input_file << n << \"\\n\"; // Output vector size\n",
        "\n",
        "    // Generate random values for vector\n",
        "    for (int j = 0; j < n; ++j) {\n",
        "        int random_value = random_int(min_value, max_value);\n",
        "        input_file << random_value << \" \"; // Output vector element\n",
        "    }\n",
        "\n",
        "    input_file << \"\\n\"; // End of vector\n",
        "    input_file.close();\n",
        "}\n",
        "\n",
        "int main() {\n",
        "    int n;\n",
        "\n",
        "    // Request the size of the vector (n) from the user\n",
        "    cout << \"Enter the size of the vector (n): \";\n",
        "    cin >> n;\n",
        "\n",
        "    int min_value = 0;     // Minimum value for random integers\n",
        "    int max_value = 200000; // Maximum value for random integers\n",
        "\n",
        "    // Generate a single stress test with specified size\n",
        "    generate_stress_test(n, min_value, max_value);\n",
        "\n",
        "    return 0;\n",
        "}\n"
      ],
      "metadata": {
        "colab": {
          "base_uri": "https://localhost:8080/"
        },
        "id": "URynW_lLqrIO",
        "outputId": "e6ca0fa5-4446-4238-d0b5-493964dd6b09"
      },
      "execution_count": 80,
      "outputs": [
        {
          "output_type": "stream",
          "name": "stdout",
          "text": [
            "Writing stress_test_of_size_n.cpp\n"
          ]
        }
      ]
    },
    {
      "cell_type": "code",
      "source": [
        "#Create stress test of size n = 20480\n",
        "!g++ -o stress_test_of_size_n stress_test_of_size_n.cpp\n",
        "!./stress_test_of_size_n"
      ],
      "metadata": {
        "colab": {
          "base_uri": "https://localhost:8080/"
        },
        "id": "OZ_O76lJqYO7",
        "outputId": "bab95c15-6331-4218-938c-e5b8f6a3650b"
      },
      "execution_count": null,
      "outputs": [
        {
          "output_type": "stream",
          "name": "stdout",
          "text": [
            "Enter the size of the vector (n): 20480\n"
          ]
        }
      ]
    },
    {
      "cell_type": "code",
      "source": [
        "#Verify that max_wisepair_product_long can run an input of size n = 20480 in a second\n",
        "!g++ -o max_pairwise_product_long max_pairwise_product_long.cpp\n",
        "!time ./max_pairwise_product_long < stress_test_of_size_n.txt"
      ],
      "metadata": {
        "colab": {
          "base_uri": "https://localhost:8080/"
        },
        "id": "zgkvYY0Iqthu",
        "outputId": "81192a65-7e04-4df8-afc8-023dce8f4b16"
      },
      "execution_count": null,
      "outputs": [
        {
          "output_type": "stream",
          "name": "stdout",
          "text": [
            "39994800133\n",
            "\n",
            "real\t0m2.116s\n",
            "user\t0m2.057s\n",
            "sys\t0m0.006s\n"
          ]
        }
      ]
    },
    {
      "cell_type": "markdown",
      "metadata": {
        "id": "1Hsbd-uHOb_j"
      },
      "source": [
        "# Sort solution in C++ and Python\n",
        "\n",
        "$$ O(n \\lg n)$$\n",
        "\n",
        "**Which sorting algorithm is used in GCC?**\n",
        "https://stackoverflow.com/questions/7221257/which-sorting-algorithm-is-used-in-gcc\n",
        "\n",
        "* ...  the algorithm is called introsort, a combination between Insertionsort, Quicksort & Heapsort. ...\n",
        "\n",
        "**Introsort**\n",
        "https://en.wikipedia.org/wiki/Introsort\n",
        "\n",
        "Introsort or introspective sort is a hybrid sorting algorithm that provides both fast average performance and (asymptotically) optimal worst-case performance. It begins with quicksort, it switches to heapsort when the recursion depth exceeds a level based on (the logarithm of) the number of elements being sorted and it switches to insertion sort when the number of elements is below some threshold\n",
        "\n",
        "*   Class\tSorting algorithm\n",
        "*   Data structure\tArray\n",
        "*   Worst-case performance\t$O(n \\lg n)$\n",
        "*   Average performance\t$O(n \\lg n)$\n",
        "\n",
        "**Timsort**\n",
        "https://en.wikipedia.org/wiki/Timsort\n",
        "\n",
        "Timsort is a hybrid, stable sorting algorithm, derived from merge sort and insertion sort, designed to perform well on many kinds of real-world data. It was implemented by Tim Peters in 2002 for use in the Python programming language.\n",
        "\n",
        "*   Class\tSorting algorithm\n",
        "*   Data structure\tArray\n",
        "*   Worst-case performance\t$O(n \\lg n)$\n",
        "*   Best-case performance $O(n)$\n",
        "*   Average performance\t$O(n \\lg n)$\n",
        "*   Worst-case space complexity $O(n)$"
      ]
    },
    {
      "cell_type": "code",
      "source": [
        "%%writefile max_pairwise_product_long_sorting.cpp\n",
        "\n",
        "#include <iostream>\n",
        "#include <vector>\n",
        "#include <algorithm>\n",
        "#include <cmath> // Include cmath for std::log\n",
        "\n",
        "// Implement introsort\n",
        "template<typename RandomIt>\n",
        "void introsort(RandomIt first, RandomIt last, int depth_limit) {\n",
        "    while (last - first > 16) {\n",
        "        if (depth_limit == 0) {\n",
        "            std::make_heap(first, last);\n",
        "            std::sort_heap(first, last);\n",
        "            return;\n",
        "        }\n",
        "        --depth_limit;\n",
        "        RandomIt pivot = std::partition(first, last, [=](const auto& em){return em < *(last - 1);});\n",
        "        std::swap(*pivot, *(last - 1));\n",
        "        introsort(first, pivot, depth_limit);\n",
        "        first = pivot + 1;\n",
        "    }\n",
        "    std::sort(first, last);\n",
        "}\n",
        "\n",
        "// Wrapper function to use introsort\n",
        "template<typename RandomIt>\n",
        "void introsort(RandomIt first, RandomIt last) {\n",
        "    introsort(first, last, 2 * std::log(last - first));\n",
        "}\n",
        "\n",
        "long long MaxPairwiseProduct(const std::vector<int>& numbers) {\n",
        "    std::vector<int> sorted_numbers = numbers;\n",
        "    introsort(sorted_numbers.begin(), sorted_numbers.end());\n",
        "\n",
        "    int n = sorted_numbers.size();\n",
        "    return (long long)sorted_numbers[n - 1] * sorted_numbers[n - 2];\n",
        "}\n",
        "\n",
        "int main() {\n",
        "    int n;\n",
        "    std::cin >> n;\n",
        "    std::vector<int> numbers(n);\n",
        "    for (int i = 0; i < n; ++i) {\n",
        "        std::cin >> numbers[i];\n",
        "    }\n",
        "\n",
        "    std::cout << MaxPairwiseProduct(numbers) << \"\\n\";\n",
        "    return 0;\n",
        "}\n",
        "\n"
      ],
      "metadata": {
        "colab": {
          "base_uri": "https://localhost:8080/"
        },
        "id": "zI8MiwI2mSz2",
        "outputId": "00c21b44-b22d-4349-8459-93c10c97f1a1"
      },
      "execution_count": 58,
      "outputs": [
        {
          "output_type": "stream",
          "name": "stdout",
          "text": [
            "Writing max_pairwise_product_long_sorting.cpp\n"
          ]
        }
      ]
    },
    {
      "cell_type": "code",
      "source": [],
      "metadata": {
        "id": "CZ9ZsALz7aca"
      },
      "execution_count": null,
      "outputs": []
    },
    {
      "cell_type": "markdown",
      "metadata": {
        "id": "v8pdV9ABOb_k"
      },
      "source": [
        "Test with inputs 1 and 2\n",
        "\n"
      ]
    },
    {
      "cell_type": "code",
      "execution_count": 59,
      "metadata": {
        "id": "kdXAyLG4Ob_k",
        "colab": {
          "base_uri": "https://localhost:8080/"
        },
        "outputId": "b45f711a-f462-44f5-ed55-f03d217b1a29"
      },
      "outputs": [
        {
          "output_type": "stream",
          "name": "stdout",
          "text": [
            "90\n",
            "90\n"
          ]
        }
      ],
      "source": [
        "!g++ -o max_pairwise_product_long_sorting max_pairwise_product_long_sorting.cpp\n",
        "!./max_pairwise_product_long_sorting < input1.txt\n",
        "!./max_pairwise_product_long_sorting < input2.txt\n"
      ]
    },
    {
      "cell_type": "markdown",
      "metadata": {
        "id": "Sw-5X1q1Ob_k"
      },
      "source": [
        "Test and time it with input 3"
      ]
    },
    {
      "cell_type": "code",
      "execution_count": 60,
      "metadata": {
        "id": "ryHJ30WIOb_k",
        "colab": {
          "base_uri": "https://localhost:8080/"
        },
        "outputId": "68203692-d21a-4a9f-9d01-dc875950b660"
      },
      "outputs": [
        {
          "output_type": "stream",
          "name": "stdout",
          "text": [
            "40000000000\n",
            "\n",
            "real\t0m0.004s\n",
            "user\t0m0.000s\n",
            "sys\t0m0.003s\n"
          ]
        }
      ],
      "source": [
        "!g++ -o max_pairwise_product_long_sorting max_pairwise_product_long_sorting.cpp\n",
        "!time ./max_pairwise_product_long_sorting < input3.txt\n"
      ]
    },
    {
      "cell_type": "code",
      "source": [
        "#Test with input 11\n",
        "!g++ -o max_pairwise_product_long max_pairwise_product_long.cpp\n",
        "!time ./max_pairwise_product_long < input11.txt"
      ],
      "metadata": {
        "colab": {
          "base_uri": "https://localhost:8080/"
        },
        "id": "f6xwGKA7YIY-",
        "outputId": "3d34932c-ee3b-48d4-abab-6161d1afd866"
      },
      "execution_count": 61,
      "outputs": [
        {
          "output_type": "stream",
          "name": "stdout",
          "text": [
            "\u001b[01m\u001b[Kcc1plus:\u001b[m\u001b[K \u001b[01;31m\u001b[Kfatal error: \u001b[m\u001b[Kmax_pairwise_product_long.cpp: No such file or directory\n",
            "compilation terminated.\n",
            "/bin/bash: line 1: ./max_pairwise_product_long: No such file or directory\n",
            "\n",
            "real\t0m0.001s\n",
            "user\t0m0.001s\n",
            "sys\t0m0.000s\n"
          ]
        }
      ]
    },
    {
      "cell_type": "markdown",
      "metadata": {
        "id": "oJGdPl1HOb_k"
      },
      "source": [
        "20 stress tests"
      ]
    },
    {
      "cell_type": "code",
      "execution_count": 62,
      "metadata": {
        "id": "pXHtO1dEOb_k",
        "colab": {
          "base_uri": "https://localhost:8080/"
        },
        "outputId": "ca084777-ad8a-4136-d3a6-818fc5d7587b"
      },
      "outputs": [
        {
          "output_type": "stream",
          "name": "stdout",
          "text": [
            "Enter the start index for input files: 13\n",
            "Enter the number of stress tests to create: 20\n"
          ]
        }
      ],
      "source": [
        "#stress tests randomly created with index from 13 to 32 for files\n",
        "!g++ stress_test_generator.cpp -o stress_test_generator\n",
        "!./stress_test_generator\n",
        "\n",
        "#Start index = 13\n",
        "# Number of tests: 20"
      ]
    },
    {
      "cell_type": "code",
      "source": [
        "%%writefile run_all_test.sh\n",
        "#!/bin/bash\n",
        "g++ max_pairwise_product_full.cpp -o max_pairwise_product_full\n",
        "for i in {13..32}\n",
        "do\n",
        "    ./max_pairwise_product_full < input$i.txt > ctest$i.txt\n",
        "    echo \"Testing on input$i\"\n",
        "    time ./max_pairwise_product_full < input$i.txt\n",
        "    echo \"\"\n",
        "    grep -xvFf output$i.txt ctest$i.txt\n",
        "done"
      ],
      "metadata": {
        "colab": {
          "base_uri": "https://localhost:8080/"
        },
        "id": "uCxy-6HcdIRB",
        "outputId": "6f8eb12e-2d0d-4f5b-a226-577e669fd242"
      },
      "execution_count": 63,
      "outputs": [
        {
          "output_type": "stream",
          "name": "stdout",
          "text": [
            "Overwriting run_all_test.sh\n"
          ]
        }
      ]
    },
    {
      "cell_type": "code",
      "source": [
        "!chmod u+x run_all_test.sh\n",
        "!./run_all_test.sh"
      ],
      "metadata": {
        "colab": {
          "base_uri": "https://localhost:8080/"
        },
        "id": "ejtjrp2ldabt",
        "outputId": "dcc2963d-0115-4289-8bb5-ac8b9f7d2f1f"
      },
      "execution_count": 64,
      "outputs": [
        {
          "output_type": "stream",
          "name": "stdout",
          "text": [
            "Testing on input13\n",
            "99560340\n",
            "\n",
            "real\t0m0.008s\n",
            "user\t0m0.005s\n",
            "sys\t0m0.001s\n",
            "\n",
            "Testing on input14\n",
            "99550500\n",
            "\n",
            "real\t0m0.006s\n",
            "user\t0m0.005s\n",
            "sys\t0m0.001s\n",
            "\n",
            "Testing on input15\n",
            "98922835\n",
            "\n",
            "real\t0m0.003s\n",
            "user\t0m0.002s\n",
            "sys\t0m0.001s\n",
            "\n",
            "Testing on input16\n",
            "99510220\n",
            "\n",
            "real\t0m0.003s\n",
            "user\t0m0.002s\n",
            "sys\t0m0.001s\n",
            "\n",
            "Testing on input17\n",
            "99770126\n",
            "\n",
            "real\t0m0.005s\n",
            "user\t0m0.003s\n",
            "sys\t0m0.002s\n",
            "\n",
            "Testing on input18\n",
            "99780040\n",
            "\n",
            "real\t0m0.004s\n",
            "user\t0m0.004s\n",
            "sys\t0m0.000s\n",
            "\n",
            "Testing on input19\n",
            "95411457\n",
            "\n",
            "real\t0m0.002s\n",
            "user\t0m0.002s\n",
            "sys\t0m0.000s\n",
            "\n",
            "Testing on input20\n",
            "98316270\n",
            "\n",
            "real\t0m0.003s\n",
            "user\t0m0.003s\n",
            "sys\t0m0.000s\n",
            "\n",
            "Testing on input21\n",
            "99340765\n",
            "\n",
            "real\t0m0.005s\n",
            "user\t0m0.004s\n",
            "sys\t0m0.002s\n",
            "\n",
            "Testing on input22\n",
            "99311190\n",
            "\n",
            "real\t0m0.010s\n",
            "user\t0m0.008s\n",
            "sys\t0m0.001s\n",
            "\n",
            "Testing on input23\n",
            "99660264\n",
            "\n",
            "real\t0m0.005s\n",
            "user\t0m0.004s\n",
            "sys\t0m0.001s\n",
            "\n",
            "Testing on input24\n",
            "99840039\n",
            "\n",
            "real\t0m0.011s\n",
            "user\t0m0.008s\n",
            "sys\t0m0.002s\n",
            "\n",
            "Testing on input25\n",
            "99231176\n",
            "\n",
            "real\t0m0.004s\n",
            "user\t0m0.003s\n",
            "sys\t0m0.001s\n",
            "\n",
            "Testing on input26\n",
            "97277928\n",
            "\n",
            "real\t0m0.002s\n",
            "user\t0m0.001s\n",
            "sys\t0m0.001s\n",
            "\n",
            "Testing on input27\n",
            "99460713\n",
            "\n",
            "real\t0m0.004s\n",
            "user\t0m0.003s\n",
            "sys\t0m0.001s\n",
            "\n",
            "Testing on input28\n",
            "99560475\n",
            "\n",
            "real\t0m0.003s\n",
            "user\t0m0.002s\n",
            "sys\t0m0.001s\n",
            "\n",
            "Testing on input29\n",
            "99151786\n",
            "\n",
            "real\t0m0.005s\n",
            "user\t0m0.004s\n",
            "sys\t0m0.001s\n",
            "\n",
            "Testing on input30\n",
            "99570372\n",
            "\n",
            "real\t0m0.002s\n",
            "user\t0m0.001s\n",
            "sys\t0m0.001s\n",
            "\n",
            "Testing on input31\n",
            "99201071\n",
            "\n",
            "real\t0m0.003s\n",
            "user\t0m0.002s\n",
            "sys\t0m0.001s\n",
            "\n",
            "Testing on input32\n",
            "99720115\n",
            "\n",
            "real\t0m0.009s\n",
            "user\t0m0.007s\n",
            "sys\t0m0.001s\n",
            "\n"
          ]
        }
      ]
    },
    {
      "cell_type": "markdown",
      "metadata": {
        "id": "2beTmWFPOb_k"
      },
      "source": [
        "Count executed instructions in code and verify with inputs 1,2 and 3\n"
      ]
    },
    {
      "cell_type": "code",
      "source": [
        "%%writefile max_pairwise_product_long_sorting_execints.cpp\n",
        "\n",
        "#include <iostream>\n",
        "#include <vector>\n",
        "#include <algorithm>\n",
        "#include <cmath> // Include cmath for std::log\n",
        "\n",
        "long long execints = 0LL;\n",
        "\n",
        "// Implement introsort\n",
        "template<typename RandomIt>\n",
        "void introsort(RandomIt first, RandomIt last, int depth_limit) {\n",
        "    while (last - first > 16) {\n",
        "        if (depth_limit == 0) {\n",
        "            std::make_heap(first, last);\n",
        "            std::sort_heap(first, last);\n",
        "            return;\n",
        "        }\n",
        "        --depth_limit;\n",
        "        RandomIt pivot = std::partition(first, last, [=](const auto& em){return em < *(last - 1);});\n",
        "        std::swap(*pivot, *(last - 1));\n",
        "        introsort(first, pivot, depth_limit);\n",
        "        first = pivot + 1;\n",
        "    }\n",
        "    std::sort(first, last);\n",
        "}\n",
        "\n",
        "// Wrapper function to use introsort\n",
        "template<typename RandomIt>\n",
        "void introsort(RandomIt first, RandomIt last) {\n",
        "    introsort(first, last, 2 * std::log(last - first));\n",
        "}\n",
        "\n",
        "long long MaxPairwiseProduct(const std::vector<int>& numbers) {\n",
        "    std::vector<int> sorted_numbers = numbers;\n",
        "    introsort(sorted_numbers.begin(), sorted_numbers.end());\n",
        "\n",
        "    int n = sorted_numbers.size();\n",
        "    execints += 2; // For assignment and size check\n",
        "    execints += 2 * std::log(n); // For sorting\n",
        "\n",
        "    return (long long)sorted_numbers[n - 1] * sorted_numbers[n - 2];\n",
        "}\n",
        "\n",
        "int main() {\n",
        "    int n;\n",
        "    std::cin >> n;\n",
        "    execints += 1; // For reading n\n",
        "    std::vector<int> numbers(n);\n",
        "    for (int i = 0; i < n; ++i) {\n",
        "        std::cin >> numbers[i];\n",
        "        execints += 2; // For reading and incrementing i\n",
        "    }\n",
        "\n",
        "    //std::cout << MaxPairwiseProduct(numbers) << \"\\n\";\n",
        "    std::cout << execints << \"\\n\"; // Output the count of executed instructions\n",
        "    return 0;\n",
        "}\n"
      ],
      "metadata": {
        "colab": {
          "base_uri": "https://localhost:8080/"
        },
        "id": "GAIFiDm9rwi5",
        "outputId": "fa11e1e1-ec3d-43cc-ae5f-42e8603c8aed"
      },
      "execution_count": 65,
      "outputs": [
        {
          "output_type": "stream",
          "name": "stdout",
          "text": [
            "Writing max_pairwise_product_long_sorting_execints.cpp\n"
          ]
        }
      ]
    },
    {
      "cell_type": "code",
      "execution_count": 72,
      "metadata": {
        "id": "iuByv4x1Ob_k",
        "colab": {
          "base_uri": "https://localhost:8080/"
        },
        "outputId": "d85c6acb-af68-4404-bb08-e9605332f8c3"
      },
      "outputs": [
        {
          "output_type": "stream",
          "name": "stdout",
          "text": [
            "\n",
            "real\t0m0.073s\n",
            "user\t0m0.066s\n",
            "sys\t0m0.005s\n",
            "\n",
            "real\t0m0.005s\n",
            "user\t0m0.000s\n",
            "sys\t0m0.004s\n",
            "\n",
            "real\t0m0.004s\n",
            "user\t0m0.001s\n",
            "sys\t0m0.002s\n"
          ]
        }
      ],
      "source": [
        "#Compute the time using some of the input files\n",
        "!g++ max_pairwise_product_long_sorting_execints.cpp -o max_pairwise_product_long_sorting_execints\n",
        "!time ./max_pairwise_product_long_sorting_execints < input11.txt  > output11.txt\n",
        "!time ./max_pairwise_product_long_sorting_execints < input25.txt  > output25.txt\n",
        "!time ./max_pairwise_product_long_sorting_execints < input32.txt  > output32.txt\n"
      ]
    },
    {
      "cell_type": "markdown",
      "metadata": {
        "id": "x2CXhkwTOb_l"
      },
      "source": [
        "Calculate estimated time by instruction and number of instructions by second"
      ]
    },
    {
      "cell_type": "code",
      "source": [
        "# Read the content of output files\n",
        "with open('output11.txt', 'r') as file:\n",
        "    output11_content = file.read().strip()\n",
        "\n",
        "with open('output25.txt', 'r') as file:\n",
        "    output2_content = file.read().strip()\n",
        "\n",
        "with open('output32.txt', 'r') as file:\n",
        "    output3_content = file.read().strip()\n",
        "\n",
        "# Parse the number of executed instructions\n",
        "executed_instructions_1 = int(output1_content)\n",
        "executed_instructions_2 = int(output2_content)\n",
        "executed_instructions_3 = int(output3_content)\n",
        "\n",
        "# Real-time measurements in seconds\n",
        "real_time_1 = 0.073\n",
        "real_time_2 = 0.003\n",
        "real_time_3 = 0.004\n",
        "\n",
        "# Compute Estimated Time per Instruction (ETI) and Instructions per Second (IPS)\n",
        "eti_1 = real_time_1 / executed_instructions_1\n",
        "ips_1 = executed_instructions_1 / real_time_1\n",
        "\n",
        "eti_2 = real_time_2 / executed_instructions_2\n",
        "ips_2 = executed_instructions_2 / real_time_2\n",
        "\n",
        "eti_3 = real_time_3 / executed_instructions_3\n",
        "ips_3 = executed_instructions_3 / real_time_3\n",
        "\n",
        "# Print the results\n",
        "print(\"Output 1:\")\n",
        "print(\"ETI: {:.9f} s/instruction\".format(eti_1))\n",
        "print(\"IPS: {:.0f} instructions/second\".format(ips_1))\n",
        "\n",
        "print(\"\\nOutput 2:\")\n",
        "print(\"ETI: {:.9f} s/instruction\".format(eti_2))\n",
        "print(\"IPS: {:.0f} instructions/second\".format(ips_2))\n",
        "\n",
        "print(\"\\nOutput 3:\")\n",
        "print(\"ETI: {:.9f} s/instruction\".format(eti_3))\n",
        "print(\"IPS: {:.0f} instructions/second\".format(ips_3))\n",
        "\n"
      ],
      "metadata": {
        "colab": {
          "base_uri": "https://localhost:8080/"
        },
        "id": "gjhDGX-2yEfl",
        "outputId": "c33b3691-78ff-4017-8014-d8f0a0fcb7a7"
      },
      "execution_count": 75,
      "outputs": [
        {
          "output_type": "stream",
          "name": "stdout",
          "text": [
            "Output 1:\n",
            "ETI: 0.000000182 s/instruction\n",
            "IPS: 5479466 instructions/second\n",
            "\n",
            "Output 2:\n",
            "ETI: 0.000003161 s/instruction\n",
            "IPS: 316333 instructions/second\n",
            "\n",
            "Output 3:\n",
            "ETI: 0.000003033 s/instruction\n",
            "IPS: 329750 instructions/second\n"
          ]
        }
      ]
    },
    {
      "cell_type": "markdown",
      "source": [
        "### Estimate and verify the maximum n that can be solved in 1 second"
      ],
      "metadata": {
        "id": "CcgDYDQuaFeH"
      }
    },
    {
      "cell_type": "code",
      "source": [
        "%%writefile max_n_in_a_second_sorting.cpp\n",
        "\n",
        "#include <iostream>\n",
        "#include <vector>\n",
        "#include <algorithm>\n",
        "#include <cmath> // Include cmath for std::log\n",
        "#include <chrono> // Include chrono for timing\n",
        "\n",
        "// Implement introsort\n",
        "template<typename RandomIt>\n",
        "void introsort(RandomIt first, RandomIt last, int depth_limit) {\n",
        "    while (last - first > 16) {\n",
        "        if (depth_limit == 0) {\n",
        "            std::make_heap(first, last);\n",
        "            std::sort_heap(first, last);\n",
        "            return;\n",
        "        }\n",
        "        --depth_limit;\n",
        "        RandomIt pivot = std::partition(first, last, [=](const auto& em){return em < *(last - 1);});\n",
        "        std::swap(*pivot, *(last - 1));\n",
        "        introsort(first, pivot, depth_limit);\n",
        "        first = pivot + 1;\n",
        "    }\n",
        "    std::sort(first, last);\n",
        "}\n",
        "\n",
        "// Wrapper function to use introsort\n",
        "template<typename RandomIt>\n",
        "void introsort(RandomIt first, RandomIt last) {\n",
        "    introsort(first, last, 2 * std::log(last - first));\n",
        "}\n",
        "\n",
        "long long MaxPairwiseProduct(const std::vector<int>& numbers) {\n",
        "    std::vector<int> sorted_numbers = numbers;\n",
        "    introsort(sorted_numbers.begin(), sorted_numbers.end());\n",
        "\n",
        "    int n = sorted_numbers.size();\n",
        "    return (long long)sorted_numbers[n - 1] * sorted_numbers[n - 2];\n",
        "}\n",
        "\n",
        "// Function to measure execution time for a given input size\n",
        "double measureTimeForN(int n) {\n",
        "    std::vector<int> numbers(n, 1); // Generate input with all elements as 1\n",
        "    auto start = std::chrono::high_resolution_clock::now(); // Start the timer\n",
        "    MaxPairwiseProduct(numbers); // Call the function\n",
        "    auto end = std::chrono::high_resolution_clock::now(); // Stop the timer\n",
        "    std::chrono::duration<double> elapsed_seconds = end - start; // Calculate duration\n",
        "    return elapsed_seconds.count(); // Return the duration in seconds\n",
        "}\n",
        "\n",
        "// Function to find the maximum n that can be solved in 1 second\n",
        "int findMaxNWithinTimeLimit(double time_limit) {\n",
        "    int low = 100; // Initial low value of n\n",
        "    int high = low; // Initial high value of n\n",
        "\n",
        "    // Increase high until execution time exceeds 1 second\n",
        "    while (measureTimeForN(high) <= time_limit) {\n",
        "        low = high;\n",
        "        high *= 2;\n",
        "    }\n",
        "\n",
        "    // Binary search to find the maximum n within the time limit\n",
        "    while (low <= high) {\n",
        "        int mid = low + (high - low) / 2;\n",
        "        if (measureTimeForN(mid) <= time_limit) {\n",
        "            low = mid + 1; // Move to the right half\n",
        "        } else {\n",
        "            high = mid - 1; // Move to the left half\n",
        "        }\n",
        "    }\n",
        "\n",
        "    return high; // Return the last successful value of n\n",
        "}\n",
        "\n",
        "int main() {\n",
        "    double time_limit = 1.0; // Time limit in seconds\n",
        "    int max_n = findMaxNWithinTimeLimit(time_limit);\n",
        "    std::cout << \"Maximum n that can be solved in 1 second: \" << max_n << std::endl;\n",
        "    return 0;\n",
        "}\n"
      ],
      "metadata": {
        "id": "jnIRWyUEDu_C",
        "colab": {
          "base_uri": "https://localhost:8080/"
        },
        "outputId": "7abfb7a0-97dd-4c07-deca-fc4529aabcbc"
      },
      "execution_count": 76,
      "outputs": [
        {
          "output_type": "stream",
          "name": "stdout",
          "text": [
            "Writing max_n_in_a_second_sorting.cpp\n"
          ]
        }
      ]
    },
    {
      "cell_type": "code",
      "source": [
        "!g++ -o max_n_in_a_second_sorting max_n_in_a_second_sorting.cpp\n",
        "!./max_n_in_a_second_sorting\n"
      ],
      "metadata": {
        "colab": {
          "base_uri": "https://localhost:8080/"
        },
        "id": "-M17XUi1OFB5",
        "outputId": "54006e7c-7004-43f7-f33e-f250a7c74a37"
      },
      "execution_count": 77,
      "outputs": [
        {
          "output_type": "stream",
          "name": "stdout",
          "text": [
            "Maximum n that can be solved in 1 second: 551997\n"
          ]
        }
      ]
    },
    {
      "cell_type": "code",
      "source": [
        "#Create stress test of size n = 551997\n",
        "!g++ -o stress_test_of_size_n stress_test_of_size_n.cpp\n",
        "!./stress_test_of_size_n"
      ],
      "metadata": {
        "colab": {
          "base_uri": "https://localhost:8080/"
        },
        "id": "ihAUfZLk4yYt",
        "outputId": "4edf8f24-1986-433f-b08f-38c43fb2b016"
      },
      "execution_count": 81,
      "outputs": [
        {
          "output_type": "stream",
          "name": "stdout",
          "text": [
            "Enter the size of the vector (n): 551997\n"
          ]
        }
      ]
    },
    {
      "cell_type": "code",
      "source": [
        "#Verify the max_pairwise_product_long_sorting can run stress test of size n = 551997\n",
        "\n",
        "!g++ -omax_pairwise_product_long_sorting max_pairwise_product_long_sorting.cpp\n",
        "!time ./max_pairwise_product_long_sorting < stress_test_of_size_n.txt"
      ],
      "metadata": {
        "colab": {
          "base_uri": "https://localhost:8080/"
        },
        "id": "rQZr22Z7o8PJ",
        "outputId": "db7d9f3c-ab8a-408b-b070-5da4a5db9c32"
      },
      "execution_count": 82,
      "outputs": [
        {
          "output_type": "stream",
          "name": "stdout",
          "text": [
            "40000000000\n",
            "\n",
            "real\t0m0.649s\n",
            "user\t0m0.632s\n",
            "sys\t0m0.010s\n"
          ]
        }
      ]
    },
    {
      "cell_type": "markdown",
      "metadata": {
        "id": "VMKC5duEOQfk"
      },
      "source": [
        "## Efficient solution with largest and second-largest in an list, array or vector in C++ and Python\n",
        "\n",
        " $$T(n) < 10 n  = O(n)$$\n",
        "\n",
        "\n",
        "\n"
      ]
    },
    {
      "cell_type": "markdown",
      "metadata": {
        "id": "nLcKBwbU0QsE"
      },
      "source": [
        "Add in each line a comment with the number of instructions that are executed in that line"
      ]
    },
    {
      "cell_type": "code",
      "execution_count": 86,
      "metadata": {
        "id": "knls5Fh3NSt_",
        "colab": {
          "base_uri": "https://localhost:8080/"
        },
        "outputId": "8cd58318-f4f1-45c6-c972-ec50566a8925"
      },
      "outputs": [
        {
          "output_type": "stream",
          "name": "stdout",
          "text": [
            "Overwriting max_pairwise_product_long_efficient_execints.cpp\n"
          ]
        }
      ],
      "source": [
        "%%writefile max_pairwise_product_long_efficient_execints.cpp\n",
        "#include <iostream>\n",
        "#include <vector>\n",
        "\n",
        "std::pair<long long, long long> MaxPairwiseProduct(const std::vector<int>& numbers, long long& execints) { // 1 instruction\n",
        "    long long max_product = 0; // 1 instruction\n",
        "    execints += 1; // increment instruction count\n",
        "\n",
        "    long long second_max = 0; // 1 instruction\n",
        "    execints += 1; // increment instruction count\n",
        "\n",
        "    for (int i = 0; i < numbers.size(); ++i) { // 3 instructions + (n + 1) * 2 instructions\n",
        "        execints += 3; // increment instruction count\n",
        "        execints += 2; // increment instruction count for comparison\n",
        "        if (numbers[i] > max_product) { // 2 instructions\n",
        "            second_max = max_product; // 1 instruction\n",
        "            execints += 1; // increment instruction count\n",
        "            max_product = numbers[i]; // 1 instruction\n",
        "            execints += 1; // increment instruction count\n",
        "        } else if (numbers[i] > second_max) { // 2 instructions\n",
        "            second_max = numbers[i]; // 1 instruction\n",
        "            execints += 1; // increment instruction count\n",
        "        }\n",
        "    }\n",
        "\n",
        "    return std::make_pair(max_product, second_max); // 1 instruction\n",
        "}\n",
        "\n",
        "int main() { // 1 instruction\n",
        "    long long execints = 0; // 1 instruction\n",
        "    int n; // 1 instruction\n",
        "    execints += 1; // increment instruction count\n",
        "    std::cin >> n; // 1 instruction\n",
        "    execints += 1; // increment instruction count\n",
        "    std::vector<int> numbers(n); // n + 2 instructions\n",
        "    execints += n + 2; // increment instruction count\n",
        "\n",
        "    for (int i = 0; i < n; ++i) { // 3 instructions + (n + 1) * 2 instructions\n",
        "        execints += 3; // increment instruction count\n",
        "        execints += 2; // increment instruction count for comparison\n",
        "        std::cin >> numbers[i]; // n instructions\n",
        "        execints += 1; // increment instruction count\n",
        "    }\n",
        "\n",
        "    auto result = MaxPairwiseProduct(numbers, execints); // 1 instruction\n",
        "    execints += 1; // increment instruction count\n",
        "    std::cout << \"Number of executed instructions: \" << execints << std::endl; // 1 instruction\n",
        "    return 0; // 1 instruction\n",
        "}\n"
      ]
    },
    {
      "cell_type": "markdown",
      "metadata": {
        "id": "-JCijbWxNSii"
      },
      "source": [
        "Test with inputs 1 and 2\n",
        "\n"
      ]
    },
    {
      "cell_type": "code",
      "execution_count": 87,
      "metadata": {
        "id": "TrTGAfqlNVXT",
        "colab": {
          "base_uri": "https://localhost:8080/"
        },
        "outputId": "2de7df82-d9a1-469c-a5cc-eacd8d716916"
      },
      "outputs": [
        {
          "output_type": "stream",
          "name": "stdout",
          "text": [
            "Number of executed instructions: 147\n",
            "\n",
            "real\t0m0.004s\n",
            "user\t0m0.001s\n",
            "sys\t0m0.002s\n",
            "Number of executed instructions: 130\n",
            "\n",
            "real\t0m0.003s\n",
            "user\t0m0.001s\n",
            "sys\t0m0.002s\n"
          ]
        }
      ],
      "source": [
        "!g++ -o max_pairwise_product_long_efficient_execints max_pairwise_product_long_efficient_execints.cpp\n",
        "!time ./max_pairwise_product_long_efficient_execints < input1.txt\n",
        "!time ./max_pairwise_product_long_efficient_execints < input2.txt"
      ]
    },
    {
      "cell_type": "markdown",
      "metadata": {
        "id": "PRX51wADNR8b"
      },
      "source": [
        "Test and time it with input 3"
      ]
    },
    {
      "cell_type": "code",
      "execution_count": 88,
      "metadata": {
        "id": "v4z7-Is_NRt7",
        "colab": {
          "base_uri": "https://localhost:8080/"
        },
        "outputId": "11f9386c-f2ed-44f5-fdd3-db9a5d5fc868"
      },
      "outputs": [
        {
          "output_type": "stream",
          "name": "stdout",
          "text": [
            "Number of executed instructions: 87\n",
            "\n",
            "real\t0m0.003s\n",
            "user\t0m0.003s\n",
            "sys\t0m0.000s\n"
          ]
        }
      ],
      "source": [
        "!g++ -o max_pairwise_product_long_efficient_execints max_pairwise_product_long_efficient_execints.cpp\n",
        "!time ./max_pairwise_product_long_efficient_execints < input3.txt\n"
      ]
    },
    {
      "cell_type": "code",
      "source": [
        "#Test input11\n",
        "!g++ -o max_pairwise_product_long_efficient_execints max_pairwise_product_long_efficient_execints.cpp\n",
        "!time ./max_pairwise_product_long_efficient_execints < input11.txt\n"
      ],
      "metadata": {
        "id": "k67aG9HJ1Jpi",
        "colab": {
          "base_uri": "https://localhost:8080/"
        },
        "outputId": "13c4077a-25ef-4d71-afea-a6464da794a7"
      },
      "execution_count": 89,
      "outputs": [
        {
          "output_type": "stream",
          "name": "stdout",
          "text": [
            "Number of executed instructions: 2800007\n",
            "\n",
            "real\t0m0.075s\n",
            "user\t0m0.067s\n",
            "sys\t0m0.006s\n"
          ]
        }
      ]
    },
    {
      "cell_type": "markdown",
      "metadata": {
        "id": "rpdfs0_TNZJf"
      },
      "source": [
        "20 stress tests"
      ]
    },
    {
      "cell_type": "code",
      "execution_count": 106,
      "metadata": {
        "id": "Lu4tYcKzNcTT",
        "colab": {
          "base_uri": "https://localhost:8080/"
        },
        "outputId": "4d1be17c-021a-4f79-fe83-42bdbe841069"
      },
      "outputs": [
        {
          "output_type": "stream",
          "name": "stdout",
          "text": [
            "Overwriting run_all_test.sh\n"
          ]
        }
      ],
      "source": [
        "%%writefile run_all_test.sh\n",
        "#!/bin/bash\n",
        "g++ max_pairwise_product_long_efficient_execints.cpp -o max_pairwise_product_long_efficient_execints\n",
        "for i in {13..32}\n",
        "do\n",
        "    ./max_pairwise_product_long_efficient_execints < input$i.txt > ctest$i.txt\n",
        "    echo \"Elapsed time on input$i\"\n",
        "    time ./max_pairwise_product_long_efficient_execints < input$i.txt\n",
        "    echo \"\"\n",
        "    grep -xvFf output$i.txt ctest$i.txt\n",
        "done"
      ]
    },
    {
      "cell_type": "code",
      "source": [
        "!chmod u+x run_all_test.sh\n",
        "!./run_all_test.sh"
      ],
      "metadata": {
        "colab": {
          "base_uri": "https://localhost:8080/"
        },
        "id": "ovSpL2UB76N_",
        "outputId": "98708a93-3d7d-4e7f-85d0-cecc6b5f1e03"
      },
      "execution_count": 107,
      "outputs": [
        {
          "output_type": "stream",
          "name": "stdout",
          "text": [
            "Elapsed time on input13\n",
            "Number of executed instructions: 9430\n",
            "\n",
            "real\t0m0.003s\n",
            "user\t0m0.001s\n",
            "sys\t0m0.002s\n",
            "\n",
            "Number of executed instructions: 9430\n",
            "Elapsed time on input14\n",
            "Number of executed instructions: 8766\n",
            "\n",
            "real\t0m0.002s\n",
            "user\t0m0.000s\n",
            "sys\t0m0.002s\n",
            "\n",
            "Number of executed instructions: 8766\n",
            "Elapsed time on input15\n",
            "Number of executed instructions: 4826\n",
            "\n",
            "real\t0m0.002s\n",
            "user\t0m0.001s\n",
            "sys\t0m0.001s\n",
            "\n",
            "Number of executed instructions: 4826\n",
            "Elapsed time on input16\n",
            "Number of executed instructions: 3435\n",
            "\n",
            "real\t0m0.002s\n",
            "user\t0m0.001s\n",
            "sys\t0m0.001s\n",
            "\n",
            "Number of executed instructions: 3435\n",
            "Elapsed time on input17\n",
            "Number of executed instructions: 7710\n",
            "\n",
            "real\t0m0.002s\n",
            "user\t0m0.001s\n",
            "sys\t0m0.001s\n",
            "\n",
            "Number of executed instructions: 7710\n",
            "Elapsed time on input18\n",
            "Number of executed instructions: 5610\n",
            "\n",
            "real\t0m0.002s\n",
            "user\t0m0.000s\n",
            "sys\t0m0.002s\n",
            "\n",
            "Number of executed instructions: 5610\n",
            "Elapsed time on input19\n",
            "Number of executed instructions: 1688\n",
            "\n",
            "real\t0m0.002s\n",
            "user\t0m0.002s\n",
            "sys\t0m0.000s\n",
            "\n",
            "Number of executed instructions: 1688\n",
            "Elapsed time on input20\n",
            "Number of executed instructions: 3910\n",
            "\n",
            "real\t0m0.002s\n",
            "user\t0m0.001s\n",
            "sys\t0m0.001s\n",
            "\n",
            "Number of executed instructions: 3910\n",
            "Elapsed time on input21\n",
            "Number of executed instructions: 7454\n",
            "\n",
            "real\t0m0.002s\n",
            "user\t0m0.001s\n",
            "sys\t0m0.001s\n",
            "\n",
            "Number of executed instructions: 7454\n",
            "Elapsed time on input22\n",
            "Number of executed instructions: 11932\n",
            "\n",
            "real\t0m0.002s\n",
            "user\t0m0.001s\n",
            "sys\t0m0.001s\n",
            "\n",
            "Number of executed instructions: 11932\n",
            "Elapsed time on input23\n",
            "Number of executed instructions: 7373\n",
            "\n",
            "real\t0m0.003s\n",
            "user\t0m0.000s\n",
            "sys\t0m0.003s\n",
            "\n",
            "Number of executed instructions: 7373\n",
            "Elapsed time on input24\n",
            "Number of executed instructions: 11906\n",
            "\n",
            "real\t0m0.002s\n",
            "user\t0m0.001s\n",
            "sys\t0m0.001s\n",
            "\n",
            "Number of executed instructions: 11906\n",
            "Elapsed time on input25\n",
            "Number of executed instructions: 5721\n",
            "\n",
            "real\t0m0.003s\n",
            "user\t0m0.002s\n",
            "sys\t0m0.001s\n",
            "\n",
            "Number of executed instructions: 5721\n",
            "Elapsed time on input26\n",
            "Number of executed instructions: 2231\n",
            "\n",
            "real\t0m0.003s\n",
            "user\t0m0.001s\n",
            "sys\t0m0.002s\n",
            "\n",
            "Number of executed instructions: 2231\n",
            "Elapsed time on input27\n",
            "Number of executed instructions: 5559\n",
            "\n",
            "real\t0m0.002s\n",
            "user\t0m0.001s\n",
            "sys\t0m0.001s\n",
            "\n",
            "Number of executed instructions: 5559\n",
            "Elapsed time on input28\n",
            "Number of executed instructions: 4147\n",
            "\n",
            "real\t0m0.002s\n",
            "user\t0m0.001s\n",
            "sys\t0m0.001s\n",
            "\n",
            "Number of executed instructions: 4147\n",
            "Elapsed time on input29\n",
            "Number of executed instructions: 7501\n",
            "\n",
            "real\t0m0.002s\n",
            "user\t0m0.001s\n",
            "sys\t0m0.001s\n",
            "\n",
            "Number of executed instructions: 7501\n",
            "Elapsed time on input30\n",
            "Number of executed instructions: 1523\n",
            "\n",
            "real\t0m0.002s\n",
            "user\t0m0.001s\n",
            "sys\t0m0.001s\n",
            "\n",
            "Number of executed instructions: 1523\n",
            "Elapsed time on input31\n",
            "Number of executed instructions: 1956\n",
            "\n",
            "real\t0m0.002s\n",
            "user\t0m0.000s\n",
            "sys\t0m0.002s\n",
            "\n",
            "Number of executed instructions: 1956\n",
            "Elapsed time on input32\n",
            "Number of executed instructions: 7938\n",
            "\n",
            "real\t0m0.002s\n",
            "user\t0m0.001s\n",
            "sys\t0m0.001s\n",
            "\n",
            "Number of executed instructions: 7938\n"
          ]
        }
      ]
    },
    {
      "cell_type": "markdown",
      "metadata": {
        "id": "L8U4151JNbxk"
      },
      "source": [
        "Count executed instructions in code and verify with inputs 1,2 and 3\n"
      ]
    },
    {
      "cell_type": "code",
      "execution_count": 92,
      "metadata": {
        "id": "dh85RM8vNhFz",
        "colab": {
          "base_uri": "https://localhost:8080/"
        },
        "outputId": "aeaf229d-bf8a-4117-cfbd-91eb10e6708c"
      },
      "outputs": [
        {
          "output_type": "stream",
          "name": "stdout",
          "text": [
            "Number of executed instructions: 147\n",
            "Number of executed instructions: 130\n",
            "Number of executed instructions: 87\n"
          ]
        }
      ],
      "source": [
        "!g++ -o max_pairwise_product_long_efficient_execints max_pairwise_product_long_efficient_execints.cpp\n",
        "!./max_pairwise_product_long_efficient_execints < input1.txt\n",
        "!./max_pairwise_product_long_efficient_execints < input2.txt\n",
        "!./max_pairwise_product_long_efficient_execints < input3.txt\n"
      ]
    },
    {
      "cell_type": "markdown",
      "metadata": {
        "id": "K6ybgCmpNygr"
      },
      "source": [
        "Calculate estimated time by instruction and number of instructions by second"
      ]
    },
    {
      "cell_type": "code",
      "execution_count": 108,
      "metadata": {
        "id": "kwe3G1O3Nz1w",
        "colab": {
          "base_uri": "https://localhost:8080/"
        },
        "outputId": "1a0326e2-5e0c-42bc-f978-a7b5a6192db3"
      },
      "outputs": [
        {
          "output_type": "stream",
          "name": "stdout",
          "text": [
            "\n",
            "real\t0m0.068s\n",
            "user\t0m0.060s\n",
            "sys\t0m0.006s\n",
            "\n",
            "real\t0m0.005s\n",
            "user\t0m0.003s\n",
            "sys\t0m0.000s\n",
            "\n",
            "real\t0m0.003s\n",
            "user\t0m0.001s\n",
            "sys\t0m0.002s\n"
          ]
        }
      ],
      "source": [
        "#Compute the time using some of the input files\n",
        "!g++ max_pairwise_product_long_sorting_execints.cpp -o max_pairwise_product_long_sorting_execints\n",
        "!time ./max_pairwise_product_long_sorting_execints < input12.txt  > output12.txt\n",
        "!time ./max_pairwise_product_long_sorting_execints < input27.txt  > output27.txt\n",
        "!time ./max_pairwise_product_long_sorting_execints < input31.txt  > output31.txt\n"
      ]
    },
    {
      "cell_type": "code",
      "source": [
        "# Read the content of output files\n",
        "with open('output12.txt', 'r') as file:\n",
        "    output1_content = file.read().strip()\n",
        "\n",
        "with open('output27.txt', 'r') as file:\n",
        "    output2_content = file.read().strip()\n",
        "\n",
        "with open('output31.txt', 'r') as file:\n",
        "    output3_content = file.read().strip()\n",
        "\n",
        "# Parse the number of executed instructions\n",
        "executed_instructions_1 = int(output1_content)\n",
        "executed_instructions_2 = int(output2_content)\n",
        "executed_instructions_3 = int(output3_content)\n",
        "\n",
        "# Real-time measurements in seconds\n",
        "real_time_1 = 0.066\n",
        "real_time_2 = 0.004\n",
        "real_time_3 = 0.005\n",
        "\n",
        "# Compute Estimated Time per Instruction (ETI) and Instructions per Second (IPS)\n",
        "eti_1 = real_time_1 / executed_instructions_1\n",
        "ips_1 = executed_instructions_1 / real_time_1\n",
        "\n",
        "eti_2 = real_time_2 / executed_instructions_2\n",
        "ips_2 = executed_instructions_2 / real_time_2\n",
        "\n",
        "eti_3 = real_time_3 / executed_instructions_3\n",
        "ips_3 = executed_instructions_3 / real_time_3\n",
        "\n",
        "# Print the results\n",
        "print(\"Output 1:\")\n",
        "print(\"ETI: {:.9f} s/instruction\".format(eti_1))\n",
        "print(\"IPS: {:.0f} instructions/second\".format(ips_1))\n",
        "\n",
        "print(\"\\nOutput 2:\")\n",
        "print(\"ETI: {:.9f} s/instruction\".format(eti_2))\n",
        "print(\"IPS: {:.0f} instructions/second\".format(ips_2))\n",
        "\n",
        "print(\"\\nOutput 3:\")\n",
        "print(\"ETI: {:.9f} s/instruction\".format(eti_3))\n",
        "print(\"IPS: {:.0f} instructions/second\".format(ips_3))\n",
        "\n"
      ],
      "metadata": {
        "colab": {
          "base_uri": "https://localhost:8080/"
        },
        "id": "4Ynp2A5EAw3X",
        "outputId": "d0abeebb-d95a-4a21-d396-d2c47f823c7f"
      },
      "execution_count": 95,
      "outputs": [
        {
          "output_type": "stream",
          "name": "stdout",
          "text": [
            "Output 1:\n",
            "ETI: 0.000000165 s/instruction\n",
            "IPS: 6060621 instructions/second\n",
            "\n",
            "Output 2:\n",
            "ETI: 0.000004334 s/instruction\n",
            "IPS: 230750 instructions/second\n",
            "\n",
            "Output 3:\n",
            "ETI: 0.000015480 s/instruction\n",
            "IPS: 64600 instructions/second\n"
          ]
        }
      ]
    },
    {
      "cell_type": "markdown",
      "source": [
        "### Estimate and verify the maximun n that can be solved in 1 second"
      ],
      "metadata": {
        "id": "v8GY6n_ZaJ4P"
      }
    },
    {
      "cell_type": "code",
      "source": [
        "# Estimate n with efficient solution\n",
        "\n",
        "%%writefile max_n_in_a_second_long_efficient.cpp\n",
        "#include <iostream>\n",
        "#include <vector>\n",
        "#include <chrono>\n",
        "#include <fstream>\n",
        "#include <random>\n",
        "#include <limits>\n",
        "\n",
        "// Function to generate a random integer in a specified range\n",
        "int random_int(int min, int max) {\n",
        "    static std::random_device rd;\n",
        "    static std::mt19937 gen(rd());\n",
        "    std::uniform_int_distribution<int> dis(min, max);\n",
        "    return dis(gen);\n",
        "}\n",
        "\n",
        "// Function to generate input data of size n\n",
        "void generate_input_data(int n, int min_value, int max_value) {\n",
        "    std::ofstream input_file(\"input.txt\");\n",
        "    input_file << n << \"\\n\"; // Output vector size\n",
        "\n",
        "    for (int j = 0; j < n; ++j) {\n",
        "        int num = random_int(min_value, max_value); // Generate random values for vector\n",
        "        input_file << num << \" \"; // Output vector element\n",
        "    }\n",
        "    input_file << \"\\n\"; // End of vector\n",
        "    input_file.close();\n",
        "}\n",
        "\n",
        "std::pair<long long, long long> MaxPairwiseProduct(const std::vector<int>& numbers) {\n",
        "    long long max_product = 0;\n",
        "    long long second_max = 0;\n",
        "\n",
        "    for (int i = 0; i < numbers.size(); ++i) {\n",
        "        if (numbers[i] > max_product) {\n",
        "            second_max = max_product;\n",
        "            max_product = numbers[i];\n",
        "        } else if (numbers[i] > second_max) {\n",
        "            second_max = numbers[i];\n",
        "        }\n",
        "    }\n",
        "\n",
        "    return std::make_pair(max_product, second_max);\n",
        "}\n",
        "\n",
        "int main() {\n",
        "    int n = 10;\n",
        "    int min_value = 1; // Minimum value for random numbers\n",
        "    int max_value = 1000000; // Maximum value for random numbers\n",
        "    int max_n = 1000000;  // Maximum value of n to try\n",
        "    auto start_time = std::chrono::high_resolution_clock::now();\n",
        "    while (n <= max_n) {\n",
        "        generate_input_data(n, min_value, max_value); // Generate input data for current n\n",
        "        auto start = std::chrono::high_resolution_clock::now();\n",
        "        // Read input data from file\n",
        "        std::ifstream input_file(\"input.txt\");\n",
        "        int num;\n",
        "        std::vector<int> input_data;\n",
        "        input_file >> num;\n",
        "        input_data.reserve(num);\n",
        "        while (input_file >> num) {\n",
        "            input_data.push_back(num);\n",
        "        }\n",
        "        input_file.close();\n",
        "        MaxPairwiseProduct(input_data);\n",
        "        auto end = std::chrono::high_resolution_clock::now();\n",
        "        double elapsed_time = std::chrono::duration_cast<std::chrono::milliseconds>(end - start).count() / 1000.0;\n",
        "        std::cout << \"n = \" << n << \", Time taken: \" << elapsed_time << \" seconds\" << std::endl;\n",
        "        if (elapsed_time >= 1.0) {\n",
        "            break;\n",
        "        }\n",
        "        n *= 2;\n",
        "    }\n",
        "\n",
        "    std::cout << \"Maximum n that can be solved in 1 second: \" << n << std::endl;\n",
        "\n",
        "    return 0;\n",
        "}\n",
        "\n"
      ],
      "metadata": {
        "id": "z3xjzg1YaKk6",
        "colab": {
          "base_uri": "https://localhost:8080/"
        },
        "outputId": "55e5b6c5-b34c-45ed-cc15-d6254dd83dd9"
      },
      "execution_count": 1,
      "outputs": [
        {
          "output_type": "stream",
          "name": "stdout",
          "text": [
            "Writing max_n_in_a_second_long_efficient.cpp\n"
          ]
        }
      ]
    },
    {
      "cell_type": "code",
      "source": [
        "!g++ -o max_n_in_a_second_long_efficient max_n_in_a_second_long_efficient.cpp\n",
        "!./max_n_in_a_second_long_efficient\n"
      ],
      "metadata": {
        "colab": {
          "base_uri": "https://localhost:8080/"
        },
        "id": "w_6xtKh9ugA-",
        "outputId": "22807fda-3493-4752-a843-bfd807cbe634"
      },
      "execution_count": 2,
      "outputs": [
        {
          "output_type": "stream",
          "name": "stdout",
          "text": [
            "n = 10, Time taken: 0 seconds\n",
            "n = 20, Time taken: 0 seconds\n",
            "n = 40, Time taken: 0 seconds\n",
            "n = 80, Time taken: 0 seconds\n",
            "n = 160, Time taken: 0 seconds\n",
            "n = 320, Time taken: 0 seconds\n",
            "n = 640, Time taken: 0 seconds\n",
            "n = 1280, Time taken: 0 seconds\n",
            "n = 2560, Time taken: 0 seconds\n",
            "n = 5120, Time taken: 0.001 seconds\n",
            "n = 10240, Time taken: 0.001 seconds\n",
            "n = 20480, Time taken: 0.002 seconds\n",
            "n = 40960, Time taken: 0.005 seconds\n",
            "n = 81920, Time taken: 0.011 seconds\n",
            "n = 163840, Time taken: 0.021 seconds\n",
            "n = 327680, Time taken: 0.045 seconds\n",
            "n = 655360, Time taken: 0.091 seconds\n",
            "Maximum n that can be solved in 1 second: 1310720\n"
          ]
        }
      ]
    },
    {
      "cell_type": "markdown",
      "metadata": {
        "id": "sUpIWcykOGpT"
      },
      "source": [
        "## Super efficient solution\n",
        "\n",
        "Without storing the list in memory, only stpring the largest and second largest and whitout calling a function, add in each line a coment with the number of instructions that are executed in that line\n",
        "\n",
        "in C++ and Python\n",
        "\n",
        "\n",
        " $$T(n) < 13 n  = O(n)$$\n"
      ]
    },
    {
      "cell_type": "code",
      "execution_count": 98,
      "metadata": {
        "id": "hBLt_xBQLy8E",
        "colab": {
          "base_uri": "https://localhost:8080/"
        },
        "outputId": "2910e696-bd21-456e-bac1-7af734df8b8f"
      },
      "outputs": [
        {
          "output_type": "stream",
          "name": "stdout",
          "text": [
            "Overwriting max_pairwise_product_super_efficient.cpp\n"
          ]
        }
      ],
      "source": [
        "%%writefile max_pairwise_product_super_efficient.cpp\n",
        "#include <iostream>\n",
        "\n",
        "int main() {\n",
        "    int n;\n",
        "    std::cin >> n;\n",
        "\n",
        "    // Initialize variables to store the largest and second largest numbers\n",
        "    long long largest = 0, second_largest = 0;\n",
        "\n",
        "    for (int i = 0; i < n; ++i) {\n",
        "        int number;\n",
        "        std::cin >> number;\n",
        "\n",
        "        // Update largest and second largest numbers\n",
        "        if (number > largest) {\n",
        "            second_largest = largest;\n",
        "            largest = number;\n",
        "        } else if (number > second_largest) {\n",
        "            second_largest = number;\n",
        "        }\n",
        "    }\n",
        "\n",
        "    // Calculate the maximum pairwise product\n",
        "    long long max_product = largest * second_largest;\n",
        "    std::cout << max_product << \"\\n\";\n",
        "\n",
        "    return 0;\n",
        "}\n"
      ]
    },
    {
      "cell_type": "markdown",
      "metadata": {
        "id": "683gc3roHqzb"
      },
      "source": [
        "Test with inputs 1 and 2\n",
        "\n",
        "\n"
      ]
    },
    {
      "cell_type": "code",
      "execution_count": 100,
      "metadata": {
        "id": "b7d4LA8OIc2_",
        "colab": {
          "base_uri": "https://localhost:8080/"
        },
        "outputId": "120b1247-87c6-45f9-d0e0-337fa34a1970"
      },
      "outputs": [
        {
          "output_type": "stream",
          "name": "stdout",
          "text": [
            "90\n",
            "\n",
            "real\t0m0.004s\n",
            "user\t0m0.001s\n",
            "sys\t0m0.003s\n",
            "90\n",
            "\n",
            "real\t0m0.005s\n",
            "user\t0m0.001s\n",
            "sys\t0m0.003s\n"
          ]
        }
      ],
      "source": [
        "!g++ -o max_pairwise_product_super_efficient max_pairwise_product_super_efficient.cpp\n",
        "!time ./max_pairwise_product_super_efficient < input1.txt\n",
        "!time ./max_pairwise_product_super_efficient < input2.txt"
      ]
    },
    {
      "cell_type": "markdown",
      "metadata": {
        "id": "36Ugn1odIeJz"
      },
      "source": [
        "Test and time it with input 3"
      ]
    },
    {
      "cell_type": "code",
      "execution_count": 102,
      "metadata": {
        "id": "jDyMbCnxHqSN",
        "colab": {
          "base_uri": "https://localhost:8080/"
        },
        "outputId": "94a952a0-1672-4bbe-8c4d-5432ea1862e4"
      },
      "outputs": [
        {
          "output_type": "stream",
          "name": "stdout",
          "text": [
            "40000000000\n",
            "\n",
            "real\t0m0.005s\n",
            "user\t0m0.001s\n",
            "sys\t0m0.003s\n"
          ]
        }
      ],
      "source": [
        "!time ./max_pairwise_product_super_efficient < input3.txt"
      ]
    },
    {
      "cell_type": "code",
      "source": [
        "#Test input13\n",
        "!time ./max_pairwise_product_super_efficient < input13.txt"
      ],
      "metadata": {
        "colab": {
          "base_uri": "https://localhost:8080/"
        },
        "id": "QaKUzNDxpcLs",
        "outputId": "05429958-6183-48b2-908f-8b79458a06b3"
      },
      "execution_count": 103,
      "outputs": [
        {
          "output_type": "stream",
          "name": "stdout",
          "text": [
            "99560340\n",
            "\n",
            "real\t0m0.004s\n",
            "user\t0m0.001s\n",
            "sys\t0m0.003s\n"
          ]
        }
      ]
    },
    {
      "cell_type": "markdown",
      "metadata": {
        "id": "bhqiKQG6fjKM"
      },
      "source": [
        "20 stress tests"
      ]
    },
    {
      "cell_type": "code",
      "execution_count": 104,
      "metadata": {
        "id": "2KsiXKhALzwm",
        "colab": {
          "base_uri": "https://localhost:8080/"
        },
        "outputId": "d94f2af6-fa71-43eb-c7db-62151fc3ef1f"
      },
      "outputs": [
        {
          "output_type": "stream",
          "name": "stdout",
          "text": [
            "Overwriting run_all_test.sh\n"
          ]
        }
      ],
      "source": [
        "%%writefile run_all_test.sh\n",
        "#!/bin/bash\n",
        "g++ max_pairwise_product_super_efficient.cpp -o max_pairwise_product_super_efficient\n",
        "for i in {13..32}\n",
        "do\n",
        "    ./max_pairwise_product_full < input$i.txt > ctest$i.txt\n",
        "    echo \"Elapsed time on input$i\"\n",
        "    time ./max_pairwise_product_full < input$i.txt\n",
        "    echo \"\"\n",
        "    grep -xvFf output$i.txt ctest$i.txt\n",
        "done"
      ]
    },
    {
      "cell_type": "code",
      "source": [
        "!chmod u+x run_all_test.sh\n",
        "!./run_all_test.sh"
      ],
      "metadata": {
        "colab": {
          "base_uri": "https://localhost:8080/"
        },
        "id": "FI6GdiZ1ppnV",
        "outputId": "61da10f0-48a4-4271-89c4-feb2337765fd"
      },
      "execution_count": 105,
      "outputs": [
        {
          "output_type": "stream",
          "name": "stdout",
          "text": [
            "Elapsed time on input13\n",
            "99560340\n",
            "\n",
            "real\t0m0.007s\n",
            "user\t0m0.004s\n",
            "sys\t0m0.002s\n",
            "\n",
            "Elapsed time on input14\n",
            "99550500\n",
            "\n",
            "real\t0m0.007s\n",
            "user\t0m0.005s\n",
            "sys\t0m0.002s\n",
            "\n",
            "Elapsed time on input15\n",
            "98922835\n",
            "\n",
            "real\t0m0.003s\n",
            "user\t0m0.002s\n",
            "sys\t0m0.001s\n",
            "\n",
            "Elapsed time on input16\n",
            "99510220\n",
            "\n",
            "real\t0m0.003s\n",
            "user\t0m0.000s\n",
            "sys\t0m0.003s\n",
            "\n",
            "Elapsed time on input17\n",
            "99770126\n",
            "\n",
            "real\t0m0.005s\n",
            "user\t0m0.005s\n",
            "sys\t0m0.000s\n",
            "\n",
            "Elapsed time on input18\n",
            "99780040\n",
            "\n",
            "real\t0m0.004s\n",
            "user\t0m0.003s\n",
            "sys\t0m0.001s\n",
            "\n",
            "Elapsed time on input19\n",
            "95411457\n",
            "\n",
            "real\t0m0.002s\n",
            "user\t0m0.001s\n",
            "sys\t0m0.001s\n",
            "\n",
            "Elapsed time on input20\n",
            "98316270\n",
            "\n",
            "real\t0m0.003s\n",
            "user\t0m0.002s\n",
            "sys\t0m0.001s\n",
            "\n",
            "Elapsed time on input21\n",
            "99340765\n",
            "\n",
            "real\t0m0.005s\n",
            "user\t0m0.003s\n",
            "sys\t0m0.002s\n",
            "\n",
            "Elapsed time on input22\n",
            "99311190\n",
            "\n",
            "real\t0m0.010s\n",
            "user\t0m0.009s\n",
            "sys\t0m0.001s\n",
            "\n",
            "Elapsed time on input23\n",
            "99660264\n",
            "\n",
            "real\t0m0.005s\n",
            "user\t0m0.005s\n",
            "sys\t0m0.000s\n",
            "\n",
            "Elapsed time on input24\n",
            "99840039\n",
            "\n",
            "real\t0m0.009s\n",
            "user\t0m0.008s\n",
            "sys\t0m0.001s\n",
            "\n",
            "Elapsed time on input25\n",
            "99231176\n",
            "\n",
            "real\t0m0.004s\n",
            "user\t0m0.001s\n",
            "sys\t0m0.003s\n",
            "\n",
            "99231176\n",
            "Elapsed time on input26\n",
            "97277928\n",
            "\n",
            "real\t0m0.003s\n",
            "user\t0m0.000s\n",
            "sys\t0m0.003s\n",
            "\n",
            "Elapsed time on input27\n",
            "99460713\n",
            "\n",
            "real\t0m0.004s\n",
            "user\t0m0.004s\n",
            "sys\t0m0.000s\n",
            "\n",
            "99460713\n",
            "Elapsed time on input28\n",
            "99560475\n",
            "\n",
            "real\t0m0.003s\n",
            "user\t0m0.001s\n",
            "sys\t0m0.002s\n",
            "\n",
            "Elapsed time on input29\n",
            "99151786\n",
            "\n",
            "real\t0m0.005s\n",
            "user\t0m0.004s\n",
            "sys\t0m0.001s\n",
            "\n",
            "Elapsed time on input30\n",
            "99570372\n",
            "\n",
            "real\t0m0.002s\n",
            "user\t0m0.002s\n",
            "sys\t0m0.000s\n",
            "\n",
            "Elapsed time on input31\n",
            "99201071\n",
            "\n",
            "real\t0m0.002s\n",
            "user\t0m0.001s\n",
            "sys\t0m0.001s\n",
            "\n",
            "99201071\n",
            "Elapsed time on input32\n",
            "99720115\n",
            "\n",
            "real\t0m0.006s\n",
            "user\t0m0.004s\n",
            "sys\t0m0.001s\n",
            "\n",
            "99720115\n"
          ]
        }
      ]
    },
    {
      "cell_type": "code",
      "source": [
        "%%writefile max_pairwise_product_super_efficient_execints.cpp\n",
        "#include <iostream>\n",
        "\n",
        "int main() {\n",
        "    int n;\n",
        "    std::cin >> n;\n",
        "\n",
        "    // Initialize variables to store the largest and second largest numbers\n",
        "    long long largest = 0, second_largest = 0;\n",
        "\n",
        "    // Counter for the number of executed instructions\n",
        "    long long execints = 0;\n",
        "\n",
        "    for (int i = 0; i < n; ++i) {\n",
        "        execints += 3; // Increment for variable initialization and loop condition check\n",
        "        int number;\n",
        "        std::cin >> number;\n",
        "        execints += 2; // Increment for input operation\n",
        "\n",
        "        // Update largest and second largest numbers\n",
        "        execints += 4; // Increment for comparisons and assignments inside the loop\n",
        "        if (number > largest) {\n",
        "            second_largest = largest;\n",
        "            largest = number;\n",
        "            execints += 2; // Increment for assignments\n",
        "        } else if (number > second_largest) {\n",
        "            second_largest = number;\n",
        "            execints += 1; // Increment for assignment\n",
        "        }\n",
        "    }\n",
        "\n",
        "    // Calculate the maximum pairwise product\n",
        "    long long max_product = largest * second_largest;\n",
        "    execints += 1; // Increment for multiplication\n",
        "    std::cout << \"Maximum pairwise product: \" << max_product << \"\\n\";\n",
        "    execints += 2; // Increment for output operation and newline character\n",
        "\n",
        "    // Output the number of executed instructions\n",
        "    std::cout << \"Number of executed instructions: \" << execints << std::endl;\n",
        "    execints += 2; // Increment for output operation and newline character\n",
        "\n",
        "    return 0;\n",
        "}\n"
      ],
      "metadata": {
        "colab": {
          "base_uri": "https://localhost:8080/"
        },
        "id": "EwPcQbFptaL6",
        "outputId": "059b067b-f3bf-4aea-90f5-0c4993a7ac3f"
      },
      "execution_count": 109,
      "outputs": [
        {
          "output_type": "stream",
          "name": "stdout",
          "text": [
            "Writing max_pairwise_product_super_efficient_execints.cpp\n"
          ]
        }
      ]
    },
    {
      "cell_type": "code",
      "source": [],
      "metadata": {
        "id": "NEReHBlO87uC"
      },
      "execution_count": null,
      "outputs": []
    },
    {
      "cell_type": "markdown",
      "metadata": {
        "id": "fEXj8GHJH5p1"
      },
      "source": [
        "Count executed instructions in code and verify with inputs 1,2 and 3"
      ]
    },
    {
      "cell_type": "code",
      "execution_count": 116,
      "metadata": {
        "id": "LF1DHjKXIAsF",
        "colab": {
          "base_uri": "https://localhost:8080/"
        },
        "outputId": "edacad4d-eda7-4d72-9292-870fe65fbdea"
      },
      "outputs": [
        {
          "output_type": "stream",
          "name": "stdout",
          "text": [
            "Maximum pairwise product: 90\n",
            "Number of executed instructions: 113\n",
            "Maximum pairwise product: 90\n",
            "Number of executed instructions: 96\n",
            "Maximum pairwise product: 40000000000\n",
            "Number of executed instructions: 65\n"
          ]
        }
      ],
      "source": [
        "!g++ -o max_pairwise_product_super_efficient_execints max_pairwise_product_super_efficient_execints.cpp\n",
        "!./max_pairwise_product_super_efficient_execints < input1.txt\n",
        "!./max_pairwise_product_super_efficient_execints < input2.txt\n",
        "!./max_pairwise_product_super_efficient_execints < input3.txt"
      ]
    },
    {
      "cell_type": "markdown",
      "metadata": {
        "id": "yae7sSm2IG9U"
      },
      "source": [
        "Calculate estimated time by instruction and number of instructions by second"
      ]
    },
    {
      "cell_type": "code",
      "execution_count": 118,
      "metadata": {
        "id": "suouY7BYL2dz",
        "colab": {
          "base_uri": "https://localhost:8080/"
        },
        "outputId": "afaa3dc8-4ff7-4e72-d853-fbef4dbaf597"
      },
      "outputs": [
        {
          "output_type": "stream",
          "name": "stdout",
          "text": [
            "\n",
            "real\t0m0.070s\n",
            "user\t0m0.067s\n",
            "sys\t0m0.002s\n",
            "\n",
            "real\t0m0.003s\n",
            "user\t0m0.001s\n",
            "sys\t0m0.002s\n",
            "\n",
            "real\t0m0.005s\n",
            "user\t0m0.002s\n",
            "sys\t0m0.002s\n"
          ]
        }
      ],
      "source": [
        "#Compute the time using some of the input files\n",
        "!g++ max_pairwise_product_super_efficient_execints.cpp -o max_pairwise_product_super_efficient_execints\n",
        "!time ./max_pairwise_product_super_efficient_execints < input12.txt  > output12.txt\n",
        "!time ./max_pairwise_product_super_efficient_execints < input27.txt  > output27.txt\n",
        "!time ./max_pairwise_product_super_efficient_execints < input31.txt  > output31.txt\n"
      ]
    },
    {
      "cell_type": "markdown",
      "metadata": {
        "id": "sy33CNNfPxcE"
      },
      "source": [
        "### Super efficient solution in Python\n",
        "\n",
        "Without storing the list in memory and without calling a function, add in each line a comment with the number of instruction that are executed in that line"
      ]
    },
    {
      "cell_type": "markdown",
      "metadata": {
        "id": "K08Eow0hPxcJ"
      },
      "source": [
        "Test with inputs 1 and 2\n",
        "\n",
        "\n"
      ]
    },
    {
      "cell_type": "code",
      "source": [
        "# Estimate n with \"super efficient implementation\"\n",
        "%%writefile max_n_in_a_second_super_efficient.cpp\n",
        "\n",
        "#include <iostream>\n",
        "#include <vector>\n",
        "#include <chrono>\n",
        "#include <fstream>\n",
        "#include <random>\n",
        "#include <limits>\n",
        "\n",
        "// Function to generate a random integer in a specified range\n",
        "int random_int(int min, int max) {\n",
        "    static std::random_device rd;\n",
        "    static std::mt19937 gen(rd());\n",
        "    std::uniform_int_distribution<int> dis(min, max);\n",
        "    return dis(gen);\n",
        "}\n",
        "\n",
        "// Function to generate input data of size n\n",
        "void generate_input_data(int n, int min_value, int max_value) {\n",
        "    std::ofstream input_file(\"input.txt\");\n",
        "    input_file << n << \"\\n\"; // Output vector size\n",
        "\n",
        "    for (int j = 0; j < n; ++j) {\n",
        "        int num = random_int(min_value, max_value); // Generate random values for vector\n",
        "        input_file << num << \" \"; // Output vector element\n",
        "    }\n",
        "    input_file << \"\\n\"; // End of vector\n",
        "    input_file.close();\n",
        "}\n",
        "\n",
        "long long super_efficient_max_pairwise_product(const std::vector<int>& numbers) {\n",
        "    long long largest = std::numeric_limits<long long>::min();\n",
        "    long long second_largest = std::numeric_limits<long long>::min();\n",
        "\n",
        "    for (int num : numbers) {\n",
        "        if (num > largest) {\n",
        "            second_largest = largest;\n",
        "            largest = num;\n",
        "        } else if (num > second_largest) {\n",
        "            second_largest = num;\n",
        "        }\n",
        "    }\n",
        "\n",
        "    return largest * second_largest;\n",
        "}\n",
        "\n",
        "int main() {\n",
        "    int n = 10;\n",
        "    int min_value = 1; // Minimum value for random numbers\n",
        "    int max_value = 1000000; // Maximum value for random numbers\n",
        "    int max_n = 1000000;  // Maximum value of n to try\n",
        "    auto start_time = std::chrono::high_resolution_clock::now();\n",
        "    while (n <= max_n) {\n",
        "        generate_input_data(n, min_value, max_value); // Generate input data for current n\n",
        "        auto start = std::chrono::high_resolution_clock::now();\n",
        "        // Read input data from file\n",
        "        std::ifstream input_file(\"input.txt\");\n",
        "        int num;\n",
        "        std::vector<int> input_data;\n",
        "        input_file >> num;\n",
        "        input_data.reserve(num);\n",
        "        while (input_file >> num) {\n",
        "            input_data.push_back(num);\n",
        "        }\n",
        "        input_file.close();\n",
        "        super_efficient_max_pairwise_product(input_data);\n",
        "        auto end = std::chrono::high_resolution_clock::now();\n",
        "        double elapsed_time = std::chrono::duration_cast<std::chrono::milliseconds>(end - start).count() / 1000.0;\n",
        "        std::cout << \"n = \" << n << \", Time taken: \" << elapsed_time << \" seconds\" << std::endl;\n",
        "        if (elapsed_time >= 1.0) {\n",
        "            break;\n",
        "        }\n",
        "        n *= 2;\n",
        "    }\n",
        "\n",
        "    std::cout << \"Maximum n that can be solved in 1 second: \" << n << std::endl;\n",
        "\n",
        "    return 0;\n",
        "}\n"
      ],
      "metadata": {
        "id": "FjqFevOaaOVz",
        "colab": {
          "base_uri": "https://localhost:8080/"
        },
        "outputId": "52456bb5-6fd7-4e45-d28e-58b087b622f6"
      },
      "execution_count": null,
      "outputs": [
        {
          "output_type": "stream",
          "name": "stdout",
          "text": [
            "Overwriting max_n_in_a_second_super_efficient.cpp\n"
          ]
        }
      ]
    },
    {
      "cell_type": "code",
      "source": [
        "!g++ -o max_n_in_a_second_super_efficient max_n_in_a_second_super_efficient.cpp\n",
        "!./max_n_in_a_second_super_efficient\n"
      ],
      "metadata": {
        "colab": {
          "base_uri": "https://localhost:8080/"
        },
        "id": "h_9nKwuLKRRO",
        "outputId": "6be95d28-0a05-471e-844e-df3231d9b1e1"
      },
      "execution_count": null,
      "outputs": [
        {
          "output_type": "stream",
          "name": "stdout",
          "text": [
            "n = 10, Time taken: 0 seconds\n",
            "n = 20, Time taken: 0 seconds\n",
            "n = 40, Time taken: 0 seconds\n",
            "n = 80, Time taken: 0 seconds\n",
            "n = 160, Time taken: 0 seconds\n",
            "n = 320, Time taken: 0 seconds\n",
            "n = 640, Time taken: 0 seconds\n",
            "n = 1280, Time taken: 0 seconds\n",
            "n = 2560, Time taken: 0 seconds\n",
            "n = 5120, Time taken: 0.001 seconds\n",
            "n = 10240, Time taken: 0.001 seconds\n",
            "n = 20480, Time taken: 0.003 seconds\n",
            "n = 40960, Time taken: 0.005 seconds\n",
            "n = 81920, Time taken: 0.011 seconds\n",
            "n = 163840, Time taken: 0.023 seconds\n",
            "n = 327680, Time taken: 0.043 seconds\n",
            "n = 655360, Time taken: 0.096 seconds\n",
            "Maximum n that can be solved in 1 second: 1310720\n"
          ]
        }
      ]
    },
    {
      "cell_type": "code",
      "source": [
        "#Create stress test of size n = 1310720\n",
        "!g++ -o stress_test_of_size_n stress_test_of_size_n.cpp\n",
        "!./stress_test_of_size_n"
      ],
      "metadata": {
        "colab": {
          "base_uri": "https://localhost:8080/"
        },
        "id": "o2fglMV9O9n8",
        "outputId": "e9f117c7-c131-46ef-fec3-5cfb0587000b"
      },
      "execution_count": null,
      "outputs": [
        {
          "output_type": "stream",
          "name": "stdout",
          "text": [
            "Enter the size of the vector (n): ^C\n"
          ]
        }
      ]
    },
    {
      "cell_type": "code",
      "source": [
        "#Verify the max_pairwise_product_super_efficient can run stress test of size n = 1310720\n",
        "\n",
        "!g++ -o max_pairwise_product_efficient max_pairwise_product_efficient.cpp\n",
        "!time ./max_pairwise_product_efficient < stress_test_of_size_n.txt"
      ],
      "metadata": {
        "colab": {
          "base_uri": "https://localhost:8080/"
        },
        "id": "ON_SFU_7WRln",
        "outputId": "b9299c3c-fbb5-4e5f-e848-f4ff4a71a0a8"
      },
      "execution_count": null,
      "outputs": [
        {
          "output_type": "stream",
          "name": "stdout",
          "text": [
            "40000000000\n",
            "\n",
            "real\t0m1.093s\n",
            "user\t0m1.069s\n",
            "sys\t0m0.015s\n"
          ]
        }
      ]
    },
    {
      "cell_type": "markdown",
      "source": [
        "## Perform 100 randomized automated tests in C++ and Python with a program that  compares the answers, for the same 100 random input instances, of the super efficient solution $(T(n) < 10 n = O(n))$ against the sorting solution  $(T(n)  = O(n \\lg{n}))$,  if the answers are not the same stops and displays \"Error\" listing  the input and the two answers; if the 100 tests are completed without stoping displays \"Pass\"."
      ],
      "metadata": {
        "id": "4hHRQMXzW6oR"
      }
    },
    {
      "cell_type": "code",
      "source": [
        "%%writefile super_efficient_vs_sorting.cpp\n",
        "#include <iostream>\n",
        "#include <vector>\n",
        "#include <algorithm>\n",
        "#include <random>\n",
        "\n",
        "// Function to generate random input vector\n",
        "std::vector<int> generate_random_input(int n, int min_value, int max_value) {\n",
        "    std::vector<int> input;\n",
        "    std::random_device rd;\n",
        "    std::mt19937 gen(rd());\n",
        "    std::uniform_int_distribution<int> dis(min_value, max_value);\n",
        "\n",
        "    for (int i = 0; i < n; ++i) {\n",
        "        input.push_back(dis(gen));\n",
        "    }\n",
        "\n",
        "    return input;\n",
        "}\n",
        "\n",
        "// Super-efficient solution\n",
        "long long super_efficient_max_pairwise_product(const std::vector<int>& numbers) {\n",
        "    long long largest = 0, second_largest = 0;\n",
        "\n",
        "    for (int num : numbers) {\n",
        "        if (num > largest) {\n",
        "            second_largest = largest;\n",
        "            largest = num;\n",
        "        } else if (num > second_largest) {\n",
        "            second_largest = num;\n",
        "        }\n",
        "    }\n",
        "\n",
        "    return largest * second_largest;\n",
        "}\n",
        "\n",
        "// Sorting solution\n",
        "long long sort_max_pairwise_product(const std::vector<int>& numbers) {\n",
        "    std::vector<int> sorted_numbers = numbers;\n",
        "    std::sort(sorted_numbers.begin(), sorted_numbers.end());\n",
        "    int n = sorted_numbers.size();\n",
        "    return (long long)sorted_numbers[n - 1] * sorted_numbers[n - 2];\n",
        "}\n",
        "\n",
        "int main() {\n",
        "    const int num_tests = 100;\n",
        "    const int n = 10; // Change this to the desired input size\n",
        "    const int min_value = 1; // Minimum value for random numbers\n",
        "    const int max_value = 1000; // Maximum value for random numbers\n",
        "\n",
        "    bool error = false;\n",
        "\n",
        "    for (int i = 0; i < num_tests; ++i) {\n",
        "        // Generate random input\n",
        "        std::vector<int> input = generate_random_input(n, min_value, max_value);\n",
        "\n",
        "        // Calculate outputs for both solutions\n",
        "        long long super_efficient_result = super_efficient_max_pairwise_product(input);\n",
        "        long long sort_result = sort_max_pairwise_product(input);\n",
        "\n",
        "        // Compare the outputs\n",
        "        if (super_efficient_result != sort_result) {\n",
        "            std::cout << \"Error: Outputs mismatch for test \" << i + 1 << std::endl;\n",
        "            std::cout << \"Input: \";\n",
        "            for (int num : input) {\n",
        "                std::cout << num << \" \";\n",
        "            }\n",
        "            std::cout << std::endl;\n",
        "            std::cout << \"Super-efficient result: \" << super_efficient_result << std::endl;\n",
        "            std::cout << \"Sorting result: \" << sort_result << std::endl;\n",
        "            error = true;\n",
        "            break;\n",
        "        }\n",
        "    }\n",
        "\n",
        "    if (!error) {\n",
        "        std::cout << \"Pass: All tests passed successfully.\" << std::endl;\n",
        "    }\n",
        "\n",
        "    return 0;\n",
        "}\n",
        "\n"
      ],
      "metadata": {
        "colab": {
          "base_uri": "https://localhost:8080/"
        },
        "id": "WiLRC1i_7cMN",
        "outputId": "b2282c0e-e35e-46b8-8cb1-94680dfce141"
      },
      "execution_count": 137,
      "outputs": [
        {
          "output_type": "stream",
          "name": "stdout",
          "text": [
            "Overwriting super_efficient_vs_sorting.cpp\n"
          ]
        }
      ]
    },
    {
      "cell_type": "code",
      "source": [
        "#Create 100 random stress tests\n",
        "\n",
        "!g++ stress_test_generator.cpp -o stress_test_generator\n",
        "!./stress_test_generator\n",
        "\n",
        "#Start index: 101 for file100\n",
        "#numbers of tests: 100 (from 101 to 200)\n"
      ],
      "metadata": {
        "colab": {
          "base_uri": "https://localhost:8080/"
        },
        "id": "-zmYFC9u7nhM",
        "outputId": "30e7058d-e117-4ae6-e176-e2a5688e06d6"
      },
      "execution_count": 120,
      "outputs": [
        {
          "output_type": "stream",
          "name": "stdout",
          "text": [
            "Enter the start index for input files: 101\n",
            "Enter the number of stress tests to create: 100\n"
          ]
        }
      ]
    },
    {
      "cell_type": "code",
      "source": [
        "%%writefile run_all_test.sh\n",
        "#!/bin/bash\n",
        "\n",
        "# Compile the C++ program\n",
        "g++ super_efficient_vs_sorting.cpp -o super_efficient_vs_sorting\n",
        "\n",
        "# Loop through input files from input13.txt to input32.txt\n",
        "for i in {101..200}\n",
        "do\n",
        "    # Run the C++ program with input$i.txt and redirect output to ctest$i.txt\n",
        "    ./super_efficient_vs_sorting < input$i.txt > ctest$i.txt\n",
        "\n",
        "    # Display elapsed time for the current input file\n",
        "    echo \"Comparison on input$i\"\n",
        "    #time ./super_efficient_vs_sorting < input$i.txt\n",
        "    echo \"\"\n",
        "\n",
        "    # Compare the output of the program with the expected output\n",
        "    grep -xvFf output$i.txt ctest$i.txt\n",
        "done\n"
      ],
      "metadata": {
        "colab": {
          "base_uri": "https://localhost:8080/"
        },
        "id": "8Yetivbu8q2b",
        "outputId": "a802d5e1-796b-49c8-c2bf-da48bff8fc2a"
      },
      "execution_count": 144,
      "outputs": [
        {
          "output_type": "stream",
          "name": "stdout",
          "text": [
            "Overwriting run_all_test.sh\n"
          ]
        }
      ]
    },
    {
      "cell_type": "code",
      "source": [
        "!chmod u+x run_all_test.sh\n",
        "!./run_all_test.sh"
      ],
      "metadata": {
        "colab": {
          "base_uri": "https://localhost:8080/"
        },
        "id": "N03xDkyt9CHD",
        "outputId": "07dddeab-2128-4f6b-fb58-cf6cbaf896a8"
      },
      "execution_count": 143,
      "outputs": [
        {
          "output_type": "stream",
          "name": "stdout",
          "text": [
            "Comparison on input1\n",
            "\n",
            "Pass: All tests passed successfully.\n",
            "Comparison on input2\n",
            "\n",
            "Pass: All tests passed successfully.\n",
            "Comparison on input3\n",
            "\n",
            "Pass: All tests passed successfully.\n",
            "Comparison on input4\n",
            "\n",
            "Pass: All tests passed successfully.\n",
            "Comparison on input5\n",
            "\n",
            "Pass: All tests passed successfully.\n",
            "Comparison on input6\n",
            "\n",
            "Pass: All tests passed successfully.\n",
            "Comparison on input7\n",
            "\n",
            "Pass: All tests passed successfully.\n",
            "Comparison on input8\n",
            "\n",
            "Pass: All tests passed successfully.\n",
            "Comparison on input9\n",
            "\n",
            "Pass: All tests passed successfully.\n",
            "Comparison on input10\n",
            "\n",
            "Pass: All tests passed successfully.\n",
            "Comparison on input11\n",
            "\n",
            "Pass: All tests passed successfully.\n",
            "Comparison on input12\n",
            "\n",
            "Pass: All tests passed successfully.\n",
            "Comparison on input13\n",
            "\n",
            "Pass: All tests passed successfully.\n",
            "Comparison on input14\n",
            "\n",
            "Pass: All tests passed successfully.\n",
            "Comparison on input15\n",
            "\n",
            "Pass: All tests passed successfully.\n",
            "Comparison on input16\n",
            "\n",
            "Pass: All tests passed successfully.\n",
            "Comparison on input17\n",
            "\n",
            "Pass: All tests passed successfully.\n",
            "Comparison on input18\n",
            "\n",
            "Pass: All tests passed successfully.\n",
            "Comparison on input19\n",
            "\n",
            "Pass: All tests passed successfully.\n",
            "Comparison on input20\n",
            "\n",
            "Pass: All tests passed successfully.\n",
            "Comparison on input21\n",
            "\n",
            "Pass: All tests passed successfully.\n",
            "Comparison on input22\n",
            "\n",
            "Pass: All tests passed successfully.\n",
            "Comparison on input23\n",
            "\n",
            "Pass: All tests passed successfully.\n",
            "Comparison on input24\n",
            "\n",
            "Pass: All tests passed successfully.\n",
            "Comparison on input25\n",
            "\n",
            "Pass: All tests passed successfully.\n",
            "Comparison on input26\n",
            "\n",
            "Pass: All tests passed successfully.\n",
            "Comparison on input27\n",
            "\n",
            "Pass: All tests passed successfully.\n",
            "Comparison on input28\n",
            "\n",
            "Pass: All tests passed successfully.\n",
            "Comparison on input29\n",
            "\n",
            "Pass: All tests passed successfully.\n",
            "Comparison on input30\n",
            "\n",
            "Pass: All tests passed successfully.\n",
            "Comparison on input31\n",
            "\n",
            "Pass: All tests passed successfully.\n",
            "Comparison on input32\n",
            "\n",
            "Pass: All tests passed successfully.\n"
          ]
        }
      ]
    }
  ],
  "metadata": {
    "colab": {
      "provenance": [],
      "include_colab_link": true
    },
    "kernelspec": {
      "display_name": "Python 3",
      "name": "python3"
    },
    "language_info": {
      "name": "python"
    }
  },
  "nbformat": 4,
  "nbformat_minor": 0
}